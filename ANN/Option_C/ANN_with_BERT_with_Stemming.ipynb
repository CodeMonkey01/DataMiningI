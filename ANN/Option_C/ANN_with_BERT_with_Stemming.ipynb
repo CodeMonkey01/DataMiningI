{
 "nbformat": 4,
 "nbformat_minor": 0,
 "metadata": {
  "colab": {
   "name": "ANN with BERT.ipynb",
   "provenance": [],
   "collapsed_sections": [],
   "authorship_tag": "ABX9TyOt1D88n0S1cyAoJpzkkjad",
   "include_colab_link": true
  },
  "kernelspec": {
   "name": "python3",
   "display_name": "Python 3"
  },
  "language_info": {
   "name": "python"
  },
  "accelerator": "GPU"
 },
 "cells": [
  {
   "cell_type": "markdown",
   "metadata": {
    "id": "view-in-github",
    "colab_type": "text"
   },
   "source": [
    "<a href=\"https://colab.research.google.com/github/CodeMonkey01/DataMiningI/blob/main/ANN_with_BERT.ipynb\" target=\"_parent\"><img src=\"https://colab.research.google.com/assets/colab-badge.svg\" alt=\"Open In Colab\"/></a>"
   ]
  },
  {
   "cell_type": "markdown",
   "source": [
    "# ANN with BERT\n",
    "In this notebook I tried to solve the classification model with an ANN based on pretrained BERT layers.\n",
    "\n",
    "## TODO:\n",
    "- [x] Stemming\n",
    "- [ ] Remove Stop Words\n",
    "\n",
    "## Results\n",
    "\n",
    "\n",
    "Training time:\n",
    "\n",
    "## Model\n",
    "Link to model: (hosted on OneDrive)"
   ],
   "metadata": {
    "id": "4oym-u7JY-lc"
   }
  },
  {
   "cell_type": "code",
   "execution_count": 1,
   "metadata": {
    "colab": {
     "base_uri": "https://localhost:8080/"
    },
    "id": "o41yey4xPvVp",
    "outputId": "b99e086d-8f18-477e-dbd0-bc4d29b3a8c2"
   },
   "outputs": [
    {
     "output_type": "stream",
     "name": "stdout",
     "text": [
      "Mounted at /content/drive/\n",
      "/content/drive/MyDrive\n",
      "Sat May 14 11:33:38 2022       \n",
      "+-----------------------------------------------------------------------------+\n",
      "| NVIDIA-SMI 460.32.03    Driver Version: 460.32.03    CUDA Version: 11.2     |\n",
      "|-------------------------------+----------------------+----------------------+\n",
      "| GPU  Name        Persistence-M| Bus-Id        Disp.A | Volatile Uncorr. ECC |\n",
      "| Fan  Temp  Perf  Pwr:Usage/Cap|         Memory-Usage | GPU-Util  Compute M. |\n",
      "|                               |                      |               MIG M. |\n",
      "|===============================+======================+======================|\n",
      "|   0  Tesla P100-PCIE...  Off  | 00000000:00:04.0 Off |                    0 |\n",
      "| N/A   40C    P0    27W / 250W |      0MiB / 16280MiB |      0%      Default |\n",
      "|                               |                      |                  N/A |\n",
      "+-------------------------------+----------------------+----------------------+\n",
      "                                                                               \n",
      "+-----------------------------------------------------------------------------+\n",
      "| Processes:                                                                  |\n",
      "|  GPU   GI   CI        PID   Type   Process name                  GPU Memory |\n",
      "|        ID   ID                                                   Usage      |\n",
      "|=============================================================================|\n",
      "|  No running processes found                                                 |\n",
      "+-----------------------------------------------------------------------------+\n"
     ]
    }
   ],
   "source": [
    "try:\n",
    "    from google.colab import drive\n",
    "    drive.mount('/content/drive/')\n",
    "    %cd '/content/drive/MyDrive/'\n",
    "\n",
    "    gpu_info = !nvidia-smi\n",
    "    gpu_info = '\\n'.join(gpu_info)\n",
    "    if gpu_info.find('failed') >= 0:\n",
    "      print('Not connected to a GPU')\n",
    "    else:\n",
    "      print(gpu_info)\n",
    "except ImportError as e:\n",
    "    pass"
   ]
  },
  {
   "cell_type": "code",
   "source": [
    "!pip install tensorflow_text\n",
    "!pip install tensorflow_hub"
   ],
   "metadata": {
    "id": "zPNfsRkESPvi",
    "colab": {
     "base_uri": "https://localhost:8080/"
    },
    "outputId": "c9d242f7-6b27-4b06-a174-7cffdeb19cfe"
   },
   "execution_count": 2,
   "outputs": [
    {
     "output_type": "stream",
     "name": "stdout",
     "text": [
      "Collecting tensorflow_text\n",
      "  Downloading tensorflow_text-2.8.2-cp37-cp37m-manylinux_2_12_x86_64.manylinux2010_x86_64.whl (4.9 MB)\n",
      "\u001B[K     |████████████████████████████████| 4.9 MB 6.0 MB/s \n",
      "\u001B[?25hRequirement already satisfied: tensorflow<2.9,>=2.8.0 in /usr/local/lib/python3.7/dist-packages (from tensorflow_text) (2.8.0)\n",
      "Requirement already satisfied: tensorflow-hub>=0.8.0 in /usr/local/lib/python3.7/dist-packages (from tensorflow_text) (0.12.0)\n",
      "Requirement already satisfied: protobuf>=3.9.2 in /usr/local/lib/python3.7/dist-packages (from tensorflow<2.9,>=2.8.0->tensorflow_text) (3.17.3)\n",
      "Collecting tf-estimator-nightly==2.8.0.dev2021122109\n",
      "  Downloading tf_estimator_nightly-2.8.0.dev2021122109-py2.py3-none-any.whl (462 kB)\n",
      "\u001B[K     |████████████████████████████████| 462 kB 26.3 MB/s \n",
      "\u001B[?25hRequirement already satisfied: gast>=0.2.1 in /usr/local/lib/python3.7/dist-packages (from tensorflow<2.9,>=2.8.0->tensorflow_text) (0.5.3)\n",
      "Requirement already satisfied: flatbuffers>=1.12 in /usr/local/lib/python3.7/dist-packages (from tensorflow<2.9,>=2.8.0->tensorflow_text) (2.0)\n",
      "Requirement already satisfied: keras-preprocessing>=1.1.1 in /usr/local/lib/python3.7/dist-packages (from tensorflow<2.9,>=2.8.0->tensorflow_text) (1.1.2)\n",
      "Requirement already satisfied: google-pasta>=0.1.1 in /usr/local/lib/python3.7/dist-packages (from tensorflow<2.9,>=2.8.0->tensorflow_text) (0.2.0)\n",
      "Requirement already satisfied: tensorboard<2.9,>=2.8 in /usr/local/lib/python3.7/dist-packages (from tensorflow<2.9,>=2.8.0->tensorflow_text) (2.8.0)\n",
      "Requirement already satisfied: absl-py>=0.4.0 in /usr/local/lib/python3.7/dist-packages (from tensorflow<2.9,>=2.8.0->tensorflow_text) (1.0.0)\n",
      "Requirement already satisfied: keras<2.9,>=2.8.0rc0 in /usr/local/lib/python3.7/dist-packages (from tensorflow<2.9,>=2.8.0->tensorflow_text) (2.8.0)\n",
      "Requirement already satisfied: numpy>=1.20 in /usr/local/lib/python3.7/dist-packages (from tensorflow<2.9,>=2.8.0->tensorflow_text) (1.21.6)\n",
      "Requirement already satisfied: opt-einsum>=2.3.2 in /usr/local/lib/python3.7/dist-packages (from tensorflow<2.9,>=2.8.0->tensorflow_text) (3.3.0)\n",
      "Requirement already satisfied: six>=1.12.0 in /usr/local/lib/python3.7/dist-packages (from tensorflow<2.9,>=2.8.0->tensorflow_text) (1.15.0)\n",
      "Requirement already satisfied: grpcio<2.0,>=1.24.3 in /usr/local/lib/python3.7/dist-packages (from tensorflow<2.9,>=2.8.0->tensorflow_text) (1.44.0)\n",
      "Requirement already satisfied: tensorflow-io-gcs-filesystem>=0.23.1 in /usr/local/lib/python3.7/dist-packages (from tensorflow<2.9,>=2.8.0->tensorflow_text) (0.25.0)\n",
      "Requirement already satisfied: setuptools in /usr/local/lib/python3.7/dist-packages (from tensorflow<2.9,>=2.8.0->tensorflow_text) (57.4.0)\n",
      "Requirement already satisfied: termcolor>=1.1.0 in /usr/local/lib/python3.7/dist-packages (from tensorflow<2.9,>=2.8.0->tensorflow_text) (1.1.0)\n",
      "Requirement already satisfied: h5py>=2.9.0 in /usr/local/lib/python3.7/dist-packages (from tensorflow<2.9,>=2.8.0->tensorflow_text) (3.1.0)\n",
      "Requirement already satisfied: astunparse>=1.6.0 in /usr/local/lib/python3.7/dist-packages (from tensorflow<2.9,>=2.8.0->tensorflow_text) (1.6.3)\n",
      "Requirement already satisfied: typing-extensions>=3.6.6 in /usr/local/lib/python3.7/dist-packages (from tensorflow<2.9,>=2.8.0->tensorflow_text) (4.2.0)\n",
      "Requirement already satisfied: libclang>=9.0.1 in /usr/local/lib/python3.7/dist-packages (from tensorflow<2.9,>=2.8.0->tensorflow_text) (14.0.1)\n",
      "Requirement already satisfied: wrapt>=1.11.0 in /usr/local/lib/python3.7/dist-packages (from tensorflow<2.9,>=2.8.0->tensorflow_text) (1.14.0)\n",
      "Requirement already satisfied: wheel<1.0,>=0.23.0 in /usr/local/lib/python3.7/dist-packages (from astunparse>=1.6.0->tensorflow<2.9,>=2.8.0->tensorflow_text) (0.37.1)\n",
      "Requirement already satisfied: cached-property in /usr/local/lib/python3.7/dist-packages (from h5py>=2.9.0->tensorflow<2.9,>=2.8.0->tensorflow_text) (1.5.2)\n",
      "Requirement already satisfied: requests<3,>=2.21.0 in /usr/local/lib/python3.7/dist-packages (from tensorboard<2.9,>=2.8->tensorflow<2.9,>=2.8.0->tensorflow_text) (2.23.0)\n",
      "Requirement already satisfied: tensorboard-data-server<0.7.0,>=0.6.0 in /usr/local/lib/python3.7/dist-packages (from tensorboard<2.9,>=2.8->tensorflow<2.9,>=2.8.0->tensorflow_text) (0.6.1)\n",
      "Requirement already satisfied: google-auth<3,>=1.6.3 in /usr/local/lib/python3.7/dist-packages (from tensorboard<2.9,>=2.8->tensorflow<2.9,>=2.8.0->tensorflow_text) (1.35.0)\n",
      "Requirement already satisfied: markdown>=2.6.8 in /usr/local/lib/python3.7/dist-packages (from tensorboard<2.9,>=2.8->tensorflow<2.9,>=2.8.0->tensorflow_text) (3.3.6)\n",
      "Requirement already satisfied: werkzeug>=0.11.15 in /usr/local/lib/python3.7/dist-packages (from tensorboard<2.9,>=2.8->tensorflow<2.9,>=2.8.0->tensorflow_text) (1.0.1)\n",
      "Requirement already satisfied: google-auth-oauthlib<0.5,>=0.4.1 in /usr/local/lib/python3.7/dist-packages (from tensorboard<2.9,>=2.8->tensorflow<2.9,>=2.8.0->tensorflow_text) (0.4.6)\n",
      "Requirement already satisfied: tensorboard-plugin-wit>=1.6.0 in /usr/local/lib/python3.7/dist-packages (from tensorboard<2.9,>=2.8->tensorflow<2.9,>=2.8.0->tensorflow_text) (1.8.1)\n",
      "Requirement already satisfied: pyasn1-modules>=0.2.1 in /usr/local/lib/python3.7/dist-packages (from google-auth<3,>=1.6.3->tensorboard<2.9,>=2.8->tensorflow<2.9,>=2.8.0->tensorflow_text) (0.2.8)\n",
      "Requirement already satisfied: cachetools<5.0,>=2.0.0 in /usr/local/lib/python3.7/dist-packages (from google-auth<3,>=1.6.3->tensorboard<2.9,>=2.8->tensorflow<2.9,>=2.8.0->tensorflow_text) (4.2.4)\n",
      "Requirement already satisfied: rsa<5,>=3.1.4 in /usr/local/lib/python3.7/dist-packages (from google-auth<3,>=1.6.3->tensorboard<2.9,>=2.8->tensorflow<2.9,>=2.8.0->tensorflow_text) (4.8)\n",
      "Requirement already satisfied: requests-oauthlib>=0.7.0 in /usr/local/lib/python3.7/dist-packages (from google-auth-oauthlib<0.5,>=0.4.1->tensorboard<2.9,>=2.8->tensorflow<2.9,>=2.8.0->tensorflow_text) (1.3.1)\n",
      "Requirement already satisfied: importlib-metadata>=4.4 in /usr/local/lib/python3.7/dist-packages (from markdown>=2.6.8->tensorboard<2.9,>=2.8->tensorflow<2.9,>=2.8.0->tensorflow_text) (4.11.3)\n",
      "Requirement already satisfied: zipp>=0.5 in /usr/local/lib/python3.7/dist-packages (from importlib-metadata>=4.4->markdown>=2.6.8->tensorboard<2.9,>=2.8->tensorflow<2.9,>=2.8.0->tensorflow_text) (3.8.0)\n",
      "Requirement already satisfied: pyasn1<0.5.0,>=0.4.6 in /usr/local/lib/python3.7/dist-packages (from pyasn1-modules>=0.2.1->google-auth<3,>=1.6.3->tensorboard<2.9,>=2.8->tensorflow<2.9,>=2.8.0->tensorflow_text) (0.4.8)\n",
      "Requirement already satisfied: idna<3,>=2.5 in /usr/local/lib/python3.7/dist-packages (from requests<3,>=2.21.0->tensorboard<2.9,>=2.8->tensorflow<2.9,>=2.8.0->tensorflow_text) (2.10)\n",
      "Requirement already satisfied: urllib3!=1.25.0,!=1.25.1,<1.26,>=1.21.1 in /usr/local/lib/python3.7/dist-packages (from requests<3,>=2.21.0->tensorboard<2.9,>=2.8->tensorflow<2.9,>=2.8.0->tensorflow_text) (1.24.3)\n",
      "Requirement already satisfied: certifi>=2017.4.17 in /usr/local/lib/python3.7/dist-packages (from requests<3,>=2.21.0->tensorboard<2.9,>=2.8->tensorflow<2.9,>=2.8.0->tensorflow_text) (2021.10.8)\n",
      "Requirement already satisfied: chardet<4,>=3.0.2 in /usr/local/lib/python3.7/dist-packages (from requests<3,>=2.21.0->tensorboard<2.9,>=2.8->tensorflow<2.9,>=2.8.0->tensorflow_text) (3.0.4)\n",
      "Requirement already satisfied: oauthlib>=3.0.0 in /usr/local/lib/python3.7/dist-packages (from requests-oauthlib>=0.7.0->google-auth-oauthlib<0.5,>=0.4.1->tensorboard<2.9,>=2.8->tensorflow<2.9,>=2.8.0->tensorflow_text) (3.2.0)\n",
      "Installing collected packages: tf-estimator-nightly, tensorflow-text\n",
      "Successfully installed tensorflow-text-2.8.2 tf-estimator-nightly-2.8.0.dev2021122109\n",
      "Requirement already satisfied: tensorflow_hub in /usr/local/lib/python3.7/dist-packages (0.12.0)\n",
      "Requirement already satisfied: numpy>=1.12.0 in /usr/local/lib/python3.7/dist-packages (from tensorflow_hub) (1.21.6)\n",
      "Requirement already satisfied: protobuf>=3.8.0 in /usr/local/lib/python3.7/dist-packages (from tensorflow_hub) (3.17.3)\n",
      "Requirement already satisfied: six>=1.9 in /usr/local/lib/python3.7/dist-packages (from protobuf>=3.8.0->tensorflow_hub) (1.15.0)\n"
     ]
    }
   ]
  },
  {
   "cell_type": "code",
   "source": [
    "import tensorflow as tf\n",
    "import tensorflow_hub as hub\n",
    "import tensorflow_text as text\n",
    "import pandas as pd\n",
    "from sklearn.preprocessing import LabelEncoder\n",
    "import tensorflow as tf"
   ],
   "metadata": {
    "id": "HUKHIT8hSOAH"
   },
   "execution_count": 3,
   "outputs": []
  },
  {
   "cell_type": "code",
   "source": [
    "df = pd.read_csv('/content/drive/MyDrive/Data Mining/dataset.txt')\n",
    "df.describe()"
   ],
   "metadata": {
    "colab": {
     "base_uri": "https://localhost:8080/",
     "height": 175
    },
    "id": "7Iop3r0LP7b4",
    "outputId": "aa6cce8b-e329-46e8-e0ae-b2f66664a97d"
   },
   "execution_count": 4,
   "outputs": [
    {
     "output_type": "execute_result",
     "data": {
      "text/plain": [
       "                                                     text   humor\n",
       "count                                              200000  200000\n",
       "unique                                             200000       2\n",
       "top     Joe biden rules out 2020 bid: 'guys, i'm not r...   False\n",
       "freq                                                    1  100000"
      ],
      "text/html": [
       "\n",
       "  <div id=\"df-54a9210c-eef7-474b-b3c9-61656cc31c02\">\n",
       "    <div class=\"colab-df-container\">\n",
       "      <div>\n",
       "<style scoped>\n",
       "    .dataframe tbody tr th:only-of-type {\n",
       "        vertical-align: middle;\n",
       "    }\n",
       "\n",
       "    .dataframe tbody tr th {\n",
       "        vertical-align: top;\n",
       "    }\n",
       "\n",
       "    .dataframe thead th {\n",
       "        text-align: right;\n",
       "    }\n",
       "</style>\n",
       "<table border=\"1\" class=\"dataframe\">\n",
       "  <thead>\n",
       "    <tr style=\"text-align: right;\">\n",
       "      <th></th>\n",
       "      <th>text</th>\n",
       "      <th>humor</th>\n",
       "    </tr>\n",
       "  </thead>\n",
       "  <tbody>\n",
       "    <tr>\n",
       "      <th>count</th>\n",
       "      <td>200000</td>\n",
       "      <td>200000</td>\n",
       "    </tr>\n",
       "    <tr>\n",
       "      <th>unique</th>\n",
       "      <td>200000</td>\n",
       "      <td>2</td>\n",
       "    </tr>\n",
       "    <tr>\n",
       "      <th>top</th>\n",
       "      <td>Joe biden rules out 2020 bid: 'guys, i'm not r...</td>\n",
       "      <td>False</td>\n",
       "    </tr>\n",
       "    <tr>\n",
       "      <th>freq</th>\n",
       "      <td>1</td>\n",
       "      <td>100000</td>\n",
       "    </tr>\n",
       "  </tbody>\n",
       "</table>\n",
       "</div>\n",
       "      <button class=\"colab-df-convert\" onclick=\"convertToInteractive('df-54a9210c-eef7-474b-b3c9-61656cc31c02')\"\n",
       "              title=\"Convert this dataframe to an interactive table.\"\n",
       "              style=\"display:none;\">\n",
       "        \n",
       "  <svg xmlns=\"http://www.w3.org/2000/svg\" height=\"24px\"viewBox=\"0 0 24 24\"\n",
       "       width=\"24px\">\n",
       "    <path d=\"M0 0h24v24H0V0z\" fill=\"none\"/>\n",
       "    <path d=\"M18.56 5.44l.94 2.06.94-2.06 2.06-.94-2.06-.94-.94-2.06-.94 2.06-2.06.94zm-11 1L8.5 8.5l.94-2.06 2.06-.94-2.06-.94L8.5 2.5l-.94 2.06-2.06.94zm10 10l.94 2.06.94-2.06 2.06-.94-2.06-.94-.94-2.06-.94 2.06-2.06.94z\"/><path d=\"M17.41 7.96l-1.37-1.37c-.4-.4-.92-.59-1.43-.59-.52 0-1.04.2-1.43.59L10.3 9.45l-7.72 7.72c-.78.78-.78 2.05 0 2.83L4 21.41c.39.39.9.59 1.41.59.51 0 1.02-.2 1.41-.59l7.78-7.78 2.81-2.81c.8-.78.8-2.07 0-2.86zM5.41 20L4 18.59l7.72-7.72 1.47 1.35L5.41 20z\"/>\n",
       "  </svg>\n",
       "      </button>\n",
       "      \n",
       "  <style>\n",
       "    .colab-df-container {\n",
       "      display:flex;\n",
       "      flex-wrap:wrap;\n",
       "      gap: 12px;\n",
       "    }\n",
       "\n",
       "    .colab-df-convert {\n",
       "      background-color: #E8F0FE;\n",
       "      border: none;\n",
       "      border-radius: 50%;\n",
       "      cursor: pointer;\n",
       "      display: none;\n",
       "      fill: #1967D2;\n",
       "      height: 32px;\n",
       "      padding: 0 0 0 0;\n",
       "      width: 32px;\n",
       "    }\n",
       "\n",
       "    .colab-df-convert:hover {\n",
       "      background-color: #E2EBFA;\n",
       "      box-shadow: 0px 1px 2px rgba(60, 64, 67, 0.3), 0px 1px 3px 1px rgba(60, 64, 67, 0.15);\n",
       "      fill: #174EA6;\n",
       "    }\n",
       "\n",
       "    [theme=dark] .colab-df-convert {\n",
       "      background-color: #3B4455;\n",
       "      fill: #D2E3FC;\n",
       "    }\n",
       "\n",
       "    [theme=dark] .colab-df-convert:hover {\n",
       "      background-color: #434B5C;\n",
       "      box-shadow: 0px 1px 3px 1px rgba(0, 0, 0, 0.15);\n",
       "      filter: drop-shadow(0px 1px 2px rgba(0, 0, 0, 0.3));\n",
       "      fill: #FFFFFF;\n",
       "    }\n",
       "  </style>\n",
       "\n",
       "      <script>\n",
       "        const buttonEl =\n",
       "          document.querySelector('#df-54a9210c-eef7-474b-b3c9-61656cc31c02 button.colab-df-convert');\n",
       "        buttonEl.style.display =\n",
       "          google.colab.kernel.accessAllowed ? 'block' : 'none';\n",
       "\n",
       "        async function convertToInteractive(key) {\n",
       "          const element = document.querySelector('#df-54a9210c-eef7-474b-b3c9-61656cc31c02');\n",
       "          const dataTable =\n",
       "            await google.colab.kernel.invokeFunction('convertToInteractive',\n",
       "                                                     [key], {});\n",
       "          if (!dataTable) return;\n",
       "\n",
       "          const docLinkHtml = 'Like what you see? Visit the ' +\n",
       "            '<a target=\"_blank\" href=https://colab.research.google.com/notebooks/data_table.ipynb>data table notebook</a>'\n",
       "            + ' to learn more about interactive tables.';\n",
       "          element.innerHTML = '';\n",
       "          dataTable['output_type'] = 'display_data';\n",
       "          await google.colab.output.renderOutput(dataTable, element);\n",
       "          const docLink = document.createElement('div');\n",
       "          docLink.innerHTML = docLinkHtml;\n",
       "          element.appendChild(docLink);\n",
       "        }\n",
       "      </script>\n",
       "    </div>\n",
       "  </div>\n",
       "  "
      ]
     },
     "metadata": {},
     "execution_count": 4
    }
   ]
  },
  {
   "cell_type": "markdown",
   "source": [
    "# Check for imbalance\n",
    "The dataset is equally balanced. Therefore, we do not need to rebalance the dataset."
   ],
   "metadata": {
    "id": "12R2RwOjS9-O"
   }
  },
  {
   "cell_type": "code",
   "source": [
    "df[\"humor\"].value_counts()"
   ],
   "metadata": {
    "colab": {
     "base_uri": "https://localhost:8080/"
    },
    "id": "HvW_6M_VSuhG",
    "outputId": "0c359446-f2f7-40f3-b7bf-90dd42190525"
   },
   "execution_count": 5,
   "outputs": [
    {
     "output_type": "execute_result",
     "data": {
      "text/plain": [
       "False    100000\n",
       "True     100000\n",
       "Name: humor, dtype: int64"
      ]
     },
     "metadata": {},
     "execution_count": 5
    }
   ]
  },
  {
   "cell_type": "markdown",
   "source": [
    "# Preprocessing"
   ],
   "metadata": {
    "id": "b4KqkTrKTi5u"
   }
  },
  {
   "cell_type": "code",
   "source": [
    "# Transform class from Boolean to integer value\n",
    "df['class']=df['humor'].apply(lambda x: 1 if x==True else 0)"
   ],
   "metadata": {
    "id": "tKOlW4JGSgIk"
   },
   "execution_count": 6,
   "outputs": []
  },
  {
   "cell_type": "code",
   "source": [
    "# Stemming\n",
    "import nltk\n",
    "from nltk.stem import PorterStemmer\n",
    "\n",
    "ps = PorterStemmer()\n",
    "\n",
    "nltk.download('punkt')\n",
    "nltk.download('stopwords')\n",
    "\n",
    "df['stemmed']=df['text'].apply(lambda x: ' '.join([ps.stem(y) for y in token_pattern.findall(x)]))"
   ],
   "metadata": {
    "id": "xP-HGDsFV59N"
   },
   "execution_count": 9,
   "outputs": []
  },
  {
   "cell_type": "code",
   "source": [
    "from sklearn.model_selection import train_test_split\n",
    "\n",
    "X_train, X_test, y_train, y_test = train_test_split(df['stemmed'],df['class'], stratify=df['class'])"
   ],
   "metadata": {
    "id": "krCAqw4ITnh8"
   },
   "execution_count": 11,
   "outputs": []
  },
  {
   "cell_type": "markdown",
   "source": [
    "# BERT"
   ],
   "metadata": {
    "id": "75KTg_ROTveS"
   }
  },
  {
   "cell_type": "code",
   "source": [
    "bert_preprocess = hub.KerasLayer(\"https://tfhub.dev/tensorflow/bert_en_uncased_preprocess/3\")\n",
    "bert_encoder = hub.KerasLayer(\"https://tfhub.dev/tensorflow/bert_en_uncased_L-12_H-768_A-12/4\")"
   ],
   "metadata": {
    "id": "USX6Lts4T0ey"
   },
   "execution_count": 12,
   "outputs": []
  },
  {
   "cell_type": "code",
   "source": [
    "def get_sentence_embeding(sentences):\n",
    "    preprocessed_text = bert_preprocess(sentences)\n",
    "    return bert_encoder(preprocessed_text)['pooled_output']"
   ],
   "metadata": {
    "id": "wlFXYUGkT3xW"
   },
   "execution_count": 13,
   "outputs": []
  },
  {
   "cell_type": "markdown",
   "source": [
    "## Test embedding\n",
    "Test word embedding from pretrained BERT model with a real sentence from dataset."
   ],
   "metadata": {
    "id": "-Nt0AWJEUGJg"
   }
  },
  {
   "cell_type": "code",
   "source": [
    "test_sentence = df[\"stemmed\"][100]\n",
    "print(\"Test sentence:\")\n",
    "print(test_sentence)\n",
    "print(\"Test sentence (word embedding):\")\n",
    "print(get_sentence_embeding([test_sentence]))"
   ],
   "metadata": {
    "colab": {
     "base_uri": "https://localhost:8080/"
    },
    "id": "1osx4LSXUECE",
    "outputId": "40e7fc90-3fa0-42cf-8407-024f378458d7"
   },
   "execution_count": 14,
   "outputs": [
    {
     "output_type": "stream",
     "name": "stdout",
     "text": [
      "Test sentence:\n",
      "The killer cookie-selling tactics history's brilliant girl scouts\n",
      "Test sentence (word embedding):\n",
      "tf.Tensor(\n",
      "[[-0.83969486 -0.46593666 -0.7473084   0.6450492   0.40703234 -0.07280241\n",
      "   0.7657241   0.32070833 -0.43726373 -0.99996203 -0.35160422  0.8527362\n",
      "   0.98252136  0.2790011   0.893002   -0.3915408  -0.09077531 -0.54723877\n",
      "   0.42776448 -0.21296531  0.62951225  0.999786    0.07549188  0.3833028\n",
      "   0.47809762  0.9526682  -0.73260736  0.8940054   0.95125496  0.7634772\n",
      "  -0.42085686  0.34979257 -0.9864075  -0.18078065 -0.77968717 -0.9924316\n",
      "   0.4186119  -0.69977325  0.1565874   0.02758044 -0.8136708   0.3198204\n",
      "   0.99978095  0.09387807  0.27348444 -0.2579574  -0.99999774  0.23344676\n",
      "  -0.8186034   0.7064884   0.5501358   0.70959044  0.22955786  0.46321073\n",
      "   0.4358194  -0.12789199 -0.06857965  0.13048996 -0.33727902 -0.56816155\n",
      "  -0.65618753  0.48541984 -0.7217175  -0.8790387   0.7183341   0.51297957\n",
      "  -0.2576277  -0.40635183 -0.16185673 -0.06262572  0.7847683   0.2787399\n",
      "  -0.26026008 -0.85026634  0.28437042  0.3038432  -0.50466603  1.\n",
      "  -0.22830707 -0.97399247  0.62996864  0.41987988  0.3748502   0.09584165\n",
      "   0.1860198  -1.          0.4207824  -0.12839317 -0.98822886  0.26621592\n",
      "   0.46449468 -0.19990669  0.25653818  0.39343    -0.3838881  -0.41113013\n",
      "  -0.2247241  -0.5541572  -0.264681   -0.46785712  0.03304017 -0.14788796\n",
      "  -0.1635298  -0.26247552  0.36304796 -0.4844603  -0.3720364   0.5445113\n",
      "   0.01623761  0.6476096   0.21836948 -0.36750036  0.45925236 -0.9460544\n",
      "   0.6540792  -0.34081352 -0.98384345 -0.5117998  -0.98990846  0.6302412\n",
      "  -0.0637217  -0.22042874  0.9329741  -0.02182953  0.27831307 -0.06771375\n",
      "  -0.5558926  -1.         -0.47820348 -0.37769815 -0.17748623 -0.36960056\n",
      "  -0.9710646  -0.94376373  0.5935233   0.93866515  0.10739553  0.9994758\n",
      "  -0.30927348  0.92263985 -0.03273305 -0.6810463   0.32808423 -0.48251113\n",
      "   0.56559116 -0.06877495 -0.44688883  0.30449018 -0.0821439   0.34612527\n",
      "  -0.5825476  -0.31748116 -0.44350514 -0.8775746  -0.32892722  0.91147274\n",
      "  -0.25410584 -0.7033308   0.13508831 -0.24604227 -0.3106009   0.83092743\n",
      "   0.47076684  0.41758272 -0.37730986  0.4033086   0.12260819  0.48533097\n",
      "  -0.7804952  -0.1712602   0.35841456 -0.35254738 -0.6352531  -0.97483623\n",
      "  -0.46912363  0.4825261   0.9802946   0.6799506   0.1328661   0.65050185\n",
      "  -0.18278876  0.6446911  -0.9449079   0.9731032  -0.12244954  0.2657777\n",
      "  -0.2699385   0.4656617  -0.7350459  -0.04366592  0.81130755 -0.5045295\n",
      "  -0.8018621  -0.07578378 -0.48515114 -0.48482713 -0.47124103  0.4458157\n",
      "  -0.29870263 -0.31784472  0.01661891  0.8667484   0.90727985  0.6333497\n",
      "  -0.08142994  0.64578    -0.8475065  -0.42764005  0.05244262  0.19583684\n",
      "   0.05366734  0.9910304  -0.43194413 -0.09355923 -0.8922164  -0.98566896\n",
      "   0.05506926 -0.7896959  -0.22029562 -0.6719303   0.5372019  -0.01449707\n",
      "   0.0878623   0.28396624 -0.9424571  -0.66127115  0.3177264  -0.30247667\n",
      "   0.43651116 -0.27028617  0.8224543   0.8626847  -0.6067297   0.39008766\n",
      "   0.8723014  -0.5819101  -0.7135195   0.6563319  -0.3044293   0.8012167\n",
      "  -0.6401923   0.98335844  0.7965567   0.62381303 -0.87554514 -0.5674818\n",
      "  -0.7138317  -0.3651441   0.00569401 -0.20516899  0.66225255  0.44609043\n",
      "   0.3800733   0.56405    -0.62355155  0.9753813  -0.8967856  -0.94799066\n",
      "  -0.62504333 -0.2284215  -0.9860749   0.6128181   0.29024485  0.00429744\n",
      "  -0.4360187  -0.5799158  -0.94649696  0.7867643   0.11922245  0.9667307\n",
      "  -0.21844865 -0.83952826 -0.6316266  -0.91655856 -0.13169044 -0.1787185\n",
      "  -0.02350422 -0.03462318 -0.9248114   0.63245934  0.49395904  0.41474265\n",
      "  -0.5136079   0.994632    0.9999988   0.9540719   0.8753184   0.7382352\n",
      "  -0.99891984 -0.6400973   0.9999829  -0.972419   -1.         -0.8719746\n",
      "  -0.4802552   0.26710078 -1.         -0.19253643  0.08081317 -0.88841176\n",
      "   0.40435553  0.97602195  0.95850676 -1.          0.7713283   0.9146478\n",
      "  -0.5404396   0.85614955 -0.40460023  0.97368807  0.50015837  0.59746933\n",
      "  -0.22777566  0.48906335 -0.80224484 -0.7787088  -0.23552719 -0.4999082\n",
      "   0.9826883   0.20275919 -0.7494544  -0.8811363   0.41081035 -0.19201656\n",
      "  -0.07978389 -0.93697476 -0.23444799  0.44842744  0.69432867  0.07319459\n",
      "   0.25603226 -0.6196721   0.2803559  -0.17624761  0.23789077  0.5514004\n",
      "  -0.9498392  -0.45079845 -0.42537418  0.08241566 -0.35784006 -0.9388592\n",
      "   0.93868715 -0.38518682  0.62452865  1.          0.5110112  -0.78058034\n",
      "   0.45588166  0.13659565 -0.2278619   1.          0.7445424  -0.978588\n",
      "  -0.45174468  0.47835204 -0.56799364 -0.6050598   0.99876857 -0.3476166\n",
      "  -0.4454036   0.13874105  0.97515583 -0.9919105   0.96735406 -0.8431519\n",
      "  -0.94992816  0.9413913   0.920455   -0.363733   -0.5520008   0.1305561\n",
      "  -0.37319264  0.35181522 -0.8672049   0.64167446  0.3465367  -0.14667049\n",
      "   0.8322416  -0.68288267 -0.37850568  0.40915763 -0.57244873 -0.19940504\n",
      "   0.77053666  0.5509202  -0.25531757  0.04507752 -0.3749877  -0.65326023\n",
      "  -0.9538486   0.31352544  1.         -0.32493874  0.47048435 -0.31757203\n",
      "  -0.083057   -0.15120104  0.5264931   0.5014917  -0.26548597 -0.79755914\n",
      "   0.52315104 -0.8504871  -0.98758703  0.614802    0.24650736 -0.3319113\n",
      "   0.9999435   0.3604983   0.2994685   0.37730068  0.9605536   0.00906415\n",
      "   0.32486692  0.5497679   0.971015   -0.21462823  0.54202545  0.671884\n",
      "  -0.6194557  -0.29083326 -0.6226169   0.06408332 -0.9085125   0.11455323\n",
      "  -0.9308328   0.9319238   0.80866057  0.39063546  0.17107187  0.39587638\n",
      "   1.         -0.7202327   0.53293     0.11684161  0.6526394  -0.99725837\n",
      "  -0.5878534  -0.44294807 -0.10720542 -0.51294667 -0.30488956  0.27272415\n",
      "  -0.95769143  0.45142868  0.500901   -0.9251627  -0.98841375 -0.5057145\n",
      "   0.61133945  0.11075496 -0.9433146  -0.7327989  -0.60746074  0.5070597\n",
      "  -0.32379678 -0.9285025   0.07971215 -0.19250894  0.5555091  -0.28922006\n",
      "   0.46487918  0.53611225  0.7635582  -0.27457145 -0.16853592 -0.18845992\n",
      "  -0.71735245  0.70736927 -0.7029222  -0.58092624 -0.15359665  1.\n",
      "  -0.52711034  0.6314293   0.71973217  0.49064144 -0.33271724  0.24240762\n",
      "   0.7986768   0.36071634 -0.55282104 -0.5931528  -0.18659118 -0.42233962\n",
      "   0.42437798  0.2606099   0.3527562   0.7032602   0.64540577  0.25167897\n",
      "  -0.02598689 -0.070395    0.9967214  -0.21678166 -0.20175411 -0.45735475\n",
      "  -0.14154325 -0.42966366  0.09497789  1.          0.3088773   0.34253752\n",
      "  -0.9914517  -0.5112761  -0.85415184  0.9999942   0.81382877 -0.63805825\n",
      "   0.683083    0.5156677  -0.13231781  0.44335014 -0.08067098 -0.17913426\n",
      "   0.31752107  0.1675031   0.9427858  -0.55286765 -0.96689725 -0.51836497\n",
      "   0.36861902 -0.9290105   0.9989139  -0.5630362  -0.30128053 -0.3615021\n",
      "   0.11543413 -0.04794222  0.00663136 -0.9681255  -0.30886543  0.19728391\n",
      "   0.94597745  0.17426668 -0.48724195 -0.85852015  0.64950126  0.45312852\n",
      "  -0.7108382  -0.9400657   0.9603351  -0.962808    0.52828014  1.\n",
      "   0.3385077  -0.0375527   0.22717606 -0.2997028   0.30738255 -0.3586897\n",
      "   0.5335537  -0.9212353  -0.33290672 -0.24701607  0.4120555  -0.12371709\n",
      "  -0.27886012  0.65168774  0.18944192 -0.42358786 -0.65155405 -0.07240567\n",
      "   0.4566817   0.8438471  -0.26013765 -0.16799095  0.17068297 -0.1113147\n",
      "  -0.91317487 -0.4519261  -0.32297134 -0.99992     0.61811906 -1.\n",
      "   0.12768173 -0.10320961 -0.15936458  0.75947285  0.49932808  0.5094226\n",
      "  -0.53895044 -0.52683777  0.6190203   0.7565945  -0.20959005 -0.2930398\n",
      "  -0.65871227  0.24944317 -0.03631274  0.29977652 -0.35683328  0.72794163\n",
      "  -0.20364884  1.          0.1324989  -0.33803657 -0.93759686  0.23716754\n",
      "  -0.3237902   0.9999995  -0.64721733 -0.94623363  0.31321177 -0.53328955\n",
      "  -0.77680767  0.37971556  0.04077324 -0.7522145  -0.82129127  0.8695885\n",
      "   0.72579545 -0.52570736  0.45884997 -0.3161406  -0.5281964   0.17969705\n",
      "   0.6960286   0.98523444  0.3982943   0.7167285  -0.20730983 -0.13076422\n",
      "   0.94945014  0.27064595  0.18691875  0.2130549   1.          0.29228064\n",
      "  -0.89253354 -0.11615749 -0.9577451  -0.14954956 -0.92471874  0.30683872\n",
      "   0.12601894  0.83857155 -0.2541202   0.9542626  -0.5536651   0.01219356\n",
      "  -0.43109336  0.07545307  0.3863893  -0.87203264 -0.98610944 -0.98660296\n",
      "   0.47250986 -0.41423613 -0.09252237  0.3366656   0.20489907  0.4031996\n",
      "   0.47155896 -1.          0.913013    0.35425085  0.6150343   0.95992637\n",
      "   0.5942121   0.5391063   0.31193566 -0.98423976 -0.9083123  -0.41888064\n",
      "  -0.27395043  0.6906959   0.6042245   0.8065065   0.51624393 -0.47183365\n",
      "  -0.3372023  -0.17345463 -0.77763104 -0.9918107   0.49416086 -0.40553787\n",
      "  -0.86644286  0.94756395 -0.15588693 -0.11270642  0.09034386 -0.67565864\n",
      "   0.82703274  0.6892738   0.32184112  0.07699653  0.48716933  0.88278246\n",
      "   0.88782287  0.98685837 -0.63998026  0.5282356  -0.41310847  0.40538406\n",
      "   0.824977   -0.936643    0.22802386  0.16783598 -0.38642824  0.33475628\n",
      "  -0.3379951  -0.9202318   0.6468109  -0.41243908  0.55356157 -0.25425556\n",
      "   0.10377819 -0.36397564 -0.16418876 -0.5771374  -0.52129835  0.52949834\n",
      "   0.05642761  0.8458008   0.69721603 -0.0695073  -0.6340597  -0.2962784\n",
      "  -0.47607183 -0.88074094  0.7816541  -0.0215183   0.06549888  0.27221102\n",
      "  -0.04202922  0.86604154 -0.00925179 -0.4277503  -0.38090238 -0.6570303\n",
      "   0.82754254 -0.36986414 -0.48835573 -0.5190846   0.66397446  0.36873826\n",
      "   0.99983174 -0.37682796 -0.71978515 -0.36662272 -0.35153806  0.27056545\n",
      "  -0.32745087 -1.          0.4011234  -0.5214637   0.50606406 -0.41188234\n",
      "   0.45692065 -0.53835577 -0.9397654  -0.24576575  0.4057052   0.56779206\n",
      "  -0.5296325  -0.7164264   0.45729807 -0.45617396  0.89794165  0.83903855\n",
      "   0.42721853  0.4166319   0.5478123  -0.50211924 -0.64673054  0.85783964]], shape=(1, 768), dtype=float32)\n"
     ]
    }
   ]
  },
  {
   "cell_type": "markdown",
   "source": [
    "# Build model"
   ],
   "metadata": {
    "id": "T06BUvCuUuJ8"
   }
  },
  {
   "cell_type": "code",
   "source": [
    "# Bert layers\n",
    "text_input = tf.keras.layers.Input(shape=(), dtype=tf.string, name='text')\n",
    "preprocessed_text = bert_preprocess(text_input)\n",
    "outputs = bert_encoder(preprocessed_text)\n",
    "\n",
    "# Neural network layers\n",
    "l = tf.keras.layers.Dropout(0.1, name=\"dropout\")(outputs['pooled_output'])\n",
    "l = tf.keras.layers.Dense(1, activation='sigmoid', name=\"output\")(l)\n",
    "\n",
    "# Use inputs and outputs to construct a final model\n",
    "model = tf.keras.Model(inputs=[text_input], outputs = [l])"
   ],
   "metadata": {
    "id": "rMwxDdFPQCiQ"
   },
   "execution_count": 15,
   "outputs": []
  },
  {
   "cell_type": "code",
   "source": [
    "model.summary()"
   ],
   "metadata": {
    "colab": {
     "base_uri": "https://localhost:8080/"
    },
    "id": "gjGj4uV5U0j9",
    "outputId": "f297a59b-8aa7-46f9-9c0f-62574f78a555"
   },
   "execution_count": 16,
   "outputs": [
    {
     "output_type": "stream",
     "name": "stdout",
     "text": [
      "Model: \"model\"\n",
      "__________________________________________________________________________________________________\n",
      " Layer (type)                   Output Shape         Param #     Connected to                     \n",
      "==================================================================================================\n",
      " text (InputLayer)              [(None,)]            0           []                               \n",
      "                                                                                                  \n",
      " keras_layer (KerasLayer)       {'input_mask': (Non  0           ['text[0][0]']                   \n",
      "                                e, 128),                                                          \n",
      "                                 'input_word_ids':                                                \n",
      "                                (None, 128),                                                      \n",
      "                                 'input_type_ids':                                                \n",
      "                                (None, 128)}                                                      \n",
      "                                                                                                  \n",
      " keras_layer_1 (KerasLayer)     {'default': (None,   109482241   ['keras_layer[0][0]',            \n",
      "                                768),                             'keras_layer[0][1]',            \n",
      "                                 'sequence_output':               'keras_layer[0][2]']            \n",
      "                                 (None, 128, 768),                                                \n",
      "                                 'encoder_outputs':                                               \n",
      "                                 [(None, 128, 768),                                               \n",
      "                                 (None, 128, 768),                                                \n",
      "                                 (None, 128, 768),                                                \n",
      "                                 (None, 128, 768),                                                \n",
      "                                 (None, 128, 768),                                                \n",
      "                                 (None, 128, 768),                                                \n",
      "                                 (None, 128, 768),                                                \n",
      "                                 (None, 128, 768),                                                \n",
      "                                 (None, 128, 768),                                                \n",
      "                                 (None, 128, 768),                                                \n",
      "                                 (None, 128, 768),                                                \n",
      "                                 (None, 128, 768)],                                               \n",
      "                                 'pooled_output': (                                               \n",
      "                                None, 768)}                                                       \n",
      "                                                                                                  \n",
      " dropout (Dropout)              (None, 768)          0           ['keras_layer_1[0][13]']         \n",
      "                                                                                                  \n",
      " output (Dense)                 (None, 1)            769         ['dropout[0][0]']                \n",
      "                                                                                                  \n",
      "==================================================================================================\n",
      "Total params: 109,483,010\n",
      "Trainable params: 769\n",
      "Non-trainable params: 109,482,241\n",
      "__________________________________________________________________________________________________\n"
     ]
    }
   ]
  },
  {
   "cell_type": "code",
   "source": [
    "METRICS = [\n",
    "      tf.keras.metrics.BinaryAccuracy(name='accuracy'),\n",
    "      tf.keras.metrics.Precision(name='precision'),\n",
    "      tf.keras.metrics.Recall(name='recall'),\n",
    "]\n",
    "\n",
    "model.compile(optimizer='adam',\n",
    "              loss='binary_crossentropy',\n",
    "              metrics=METRICS)"
   ],
   "metadata": {
    "id": "OXsa_dHHU1_n"
   },
   "execution_count": 17,
   "outputs": []
  },
  {
   "cell_type": "code",
   "source": [
    "model.fit(X_train, y_train, epochs=5)"
   ],
   "metadata": {
    "colab": {
     "base_uri": "https://localhost:8080/"
    },
    "id": "pljz8LROU6EQ",
    "outputId": "71c4fa82-768d-4c79-b81a-ff76878201f0"
   },
   "execution_count": 18,
   "outputs": [
    {
     "output_type": "stream",
     "name": "stdout",
     "text": [
      "Epoch 1/5\n",
      "4688/4688 [==============================] - 1148s 242ms/step - loss: 0.2982 - accuracy: 0.8808 - precision: 0.8738 - recall: 0.8903\n",
      "Epoch 2/5\n",
      "4688/4688 [==============================] - 1129s 241ms/step - loss: 0.2485 - accuracy: 0.9017 - precision: 0.8977 - recall: 0.9067\n",
      "Epoch 3/5\n",
      "4688/4688 [==============================] - 1126s 240ms/step - loss: 0.2419 - accuracy: 0.9052 - precision: 0.9019 - recall: 0.9094\n",
      "Epoch 4/5\n",
      "4688/4688 [==============================] - 1119s 239ms/step - loss: 0.2376 - accuracy: 0.9066 - precision: 0.9033 - recall: 0.9108\n",
      "Epoch 5/5\n",
      "4688/4688 [==============================] - 1120s 239ms/step - loss: 0.2365 - accuracy: 0.9070 - precision: 0.9031 - recall: 0.9119\n"
     ]
    },
    {
     "output_type": "execute_result",
     "data": {
      "text/plain": [
       "<keras.callbacks.History at 0x7f4822f591d0>"
      ]
     },
     "metadata": {},
     "execution_count": 18
    }
   ]
  },
  {
   "cell_type": "code",
   "source": [
    "model.evaluate(X_test, y_test)"
   ],
   "metadata": {
    "colab": {
     "base_uri": "https://localhost:8080/"
    },
    "id": "43I8YDy9tFru",
    "outputId": "2cfcffa8-071f-45bf-ba72-4856b650383b"
   },
   "execution_count": 19,
   "outputs": [
    {
     "output_type": "stream",
     "name": "stdout",
     "text": [
      "1563/1563 [==============================] - 372s 238ms/step - loss: 0.2067 - accuracy: 0.9211 - precision: 0.9406 - recall: 0.8988\n"
     ]
    },
    {
     "output_type": "execute_result",
     "data": {
      "text/plain": [
       "[0.206722691655159, 0.9210600256919861, 0.9406421184539795, 0.8988400101661682]"
      ]
     },
     "metadata": {},
     "execution_count": 19
    }
   ]
  },
  {
   "cell_type": "code",
   "source": [
    "model.save(\"/content/drive/MyDrive/Data Mining/stop words\")"
   ],
   "metadata": {
    "id": "vBU2uWMNWSQG"
   },
   "execution_count": null,
   "outputs": []
  },
  {
   "cell_type": "code",
   "source": [
    "y_predicted = model.predict(X_test)\n",
    "y_predicted = y_predicted.flatten()"
   ],
   "metadata": {
    "id": "bVrmb6LmtagI"
   },
   "execution_count": null,
   "outputs": []
  },
  {
   "cell_type": "code",
   "source": [
    "import numpy as np\n",
    "\n",
    "y_predicted = np.where(y_predicted > 0.5, 1, 0)\n",
    "y_predicted"
   ],
   "metadata": {
    "id": "nHmJQUuVta27"
   },
   "execution_count": null,
   "outputs": []
  },
  {
   "cell_type": "code",
   "source": [
    "from sklearn.metrics import confusion_matrix, classification_report\n",
    "\n",
    "cm = confusion_matrix(y_test, y_predicted)\n",
    "cm "
   ],
   "metadata": {
    "id": "HoxJt4-stby7"
   },
   "execution_count": null,
   "outputs": []
  },
  {
   "cell_type": "code",
   "source": [
    "from matplotlib import pyplot as plt\n",
    "import seaborn as sn\n",
    "sn.heatmap(cm, annot=True, fmt='d')\n",
    "plt.xlabel('Predicted')\n",
    "plt.ylabel('Truth')"
   ],
   "metadata": {
    "id": "Wrzo6iHItcp7"
   },
   "execution_count": null,
   "outputs": []
  },
  {
   "cell_type": "code",
   "source": [
    "print(classification_report(y_test, y_predicted))"
   ],
   "metadata": {
    "id": "h578m23Vtdt7"
   },
   "execution_count": null,
   "outputs": []
  },
  {
   "cell_type": "markdown",
   "source": [
    "# Own test"
   ],
   "metadata": {
    "id": "LEO8LnVatlir"
   }
  },
  {
   "cell_type": "code",
   "source": [
    "jokes = [\n",
    "    'What’s the best thing about Switzerland? I don’t know, but the flag is a big plus.',\n",
    "    'I study Business Informatics at the University of Mannheim!',\n",
    "    'I invented a new word! Plagiarism!',\n",
    "    'Did you hear about the mathematician who’s afraid of negative numbers? He’ll stop at nothing to avoid them.',\n",
    "    'My name is Elias.'\n",
    "]\n",
    "model.predict(jokes)"
   ],
   "metadata": {
    "id": "nHjckUgBtgHL"
   },
   "execution_count": null,
   "outputs": []
  },
  {
   "cell_type": "code",
   "source": [
    ""
   ],
   "metadata": {
    "id": "ybRqB9cdt9uL"
   },
   "execution_count": null,
   "outputs": []
  }
 ]
}