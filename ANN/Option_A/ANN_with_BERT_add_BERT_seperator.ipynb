{
  "cells": [
    {
      "cell_type": "markdown",
      "metadata": {
        "id": "view-in-github",
        "colab_type": "text"
      },
      "source": [
        "<a href=\"https://colab.research.google.com/github/CodeMonkey01/DataMiningI/blob/main/ANN/Option_A/ANN_with_BERT_add_BERT_seperator.ipynb\" target=\"_parent\"><img src=\"https://colab.research.google.com/assets/colab-badge.svg\" alt=\"Open In Colab\"/></a>"
      ]
    },
    {
      "cell_type": "markdown",
      "metadata": {
        "id": "4oym-u7JY-lc"
      },
      "source": [
        "# ANN with BERT\n",
        "In this notebook I tried to solve the classification model with an ANN based on pretrained BERT layers.\n",
        "\n",
        "## TODO:\n",
        "- [ ] Stemming\n",
        "- [ ] Remove Stop Words\n",
        "- [x] BERT Seperator\n",
        "\n",
        "## Results\n",
        "accuracy: 0.9297 - precision: 0.9260 - recall: 0.9341\n",
        "\n",
        "## Model\n",
        "Link to the model: https://drive.google.com/file/d/1-DcCa5FowzP-bHRPYxY7t0MAwo5gnBjN/view?usp=sharing, https://drive.google.com/file/d/1-IqI6Xf3s4oU5Eer6D46Hdn3405qw8uD/view?usp=sharing "
      ]
    },
    {
      "cell_type": "code",
      "execution_count": 1,
      "metadata": {
        "colab": {
          "base_uri": "https://localhost:8080/"
        },
        "id": "o41yey4xPvVp",
        "outputId": "9347e94b-d1a5-4c6f-b40b-3dcaa34ff24c"
      },
      "outputs": [
        {
          "output_type": "stream",
          "name": "stdout",
          "text": [
            "Drive already mounted at /content/drive/; to attempt to forcibly remount, call drive.mount(\"/content/drive/\", force_remount=True).\n",
            "/content/drive/MyDrive\n",
            "Thu May 19 08:01:12 2022       \n",
            "+-----------------------------------------------------------------------------+\n",
            "| NVIDIA-SMI 460.32.03    Driver Version: 460.32.03    CUDA Version: 11.2     |\n",
            "|-------------------------------+----------------------+----------------------+\n",
            "| GPU  Name        Persistence-M| Bus-Id        Disp.A | Volatile Uncorr. ECC |\n",
            "| Fan  Temp  Perf  Pwr:Usage/Cap|         Memory-Usage | GPU-Util  Compute M. |\n",
            "|                               |                      |               MIG M. |\n",
            "|===============================+======================+======================|\n",
            "|   0  Tesla T4            Off  | 00000000:00:04.0 Off |                    0 |\n",
            "| N/A   68C    P8    10W /  70W |      0MiB / 15109MiB |      0%      Default |\n",
            "|                               |                      |                  N/A |\n",
            "+-------------------------------+----------------------+----------------------+\n",
            "                                                                               \n",
            "+-----------------------------------------------------------------------------+\n",
            "| Processes:                                                                  |\n",
            "|  GPU   GI   CI        PID   Type   Process name                  GPU Memory |\n",
            "|        ID   ID                                                   Usage      |\n",
            "|=============================================================================|\n",
            "|  No running processes found                                                 |\n",
            "+-----------------------------------------------------------------------------+\n"
          ]
        }
      ],
      "source": [
        "try:\n",
        "    from google.colab import drive\n",
        "    drive.mount('/content/drive/')\n",
        "    %cd '/content/drive/MyDrive/'\n",
        "\n",
        "    gpu_info = !nvidia-smi\n",
        "    gpu_info = '\\n'.join(gpu_info)\n",
        "    if gpu_info.find('failed') >= 0:\n",
        "      print('Not connected to a GPU')\n",
        "    else:\n",
        "      print(gpu_info)\n",
        "except ImportError as e:\n",
        "    pass"
      ]
    },
    {
      "cell_type": "code",
      "execution_count": 2,
      "metadata": {
        "colab": {
          "base_uri": "https://localhost:8080/"
        },
        "id": "zPNfsRkESPvi",
        "outputId": "285b13e3-4ade-482d-e14e-6af4c622af2f"
      },
      "outputs": [
        {
          "output_type": "stream",
          "name": "stdout",
          "text": [
            "Requirement already satisfied: tensorflow_text in /usr/local/lib/python3.7/dist-packages (2.9.0)\n",
            "Requirement already satisfied: tensorflow-hub>=0.8.0 in /usr/local/lib/python3.7/dist-packages (from tensorflow_text) (0.12.0)\n",
            "Requirement already satisfied: tensorflow<2.10,>=2.9.0 in /usr/local/lib/python3.7/dist-packages (from tensorflow_text) (2.9.0)\n",
            "Requirement already satisfied: tensorboard<2.10,>=2.9 in /usr/local/lib/python3.7/dist-packages (from tensorflow<2.10,>=2.9.0->tensorflow_text) (2.9.0)\n",
            "Requirement already satisfied: tensorflow-estimator<2.10.0,>=2.9.0rc0 in /usr/local/lib/python3.7/dist-packages (from tensorflow<2.10,>=2.9.0->tensorflow_text) (2.9.0)\n",
            "Requirement already satisfied: libclang>=13.0.0 in /usr/local/lib/python3.7/dist-packages (from tensorflow<2.10,>=2.9.0->tensorflow_text) (14.0.1)\n",
            "Requirement already satisfied: keras-preprocessing>=1.1.1 in /usr/local/lib/python3.7/dist-packages (from tensorflow<2.10,>=2.9.0->tensorflow_text) (1.1.2)\n",
            "Requirement already satisfied: google-pasta>=0.1.1 in /usr/local/lib/python3.7/dist-packages (from tensorflow<2.10,>=2.9.0->tensorflow_text) (0.2.0)\n",
            "Requirement already satisfied: termcolor>=1.1.0 in /usr/local/lib/python3.7/dist-packages (from tensorflow<2.10,>=2.9.0->tensorflow_text) (1.1.0)\n",
            "Requirement already satisfied: keras<2.10.0,>=2.9.0rc0 in /usr/local/lib/python3.7/dist-packages (from tensorflow<2.10,>=2.9.0->tensorflow_text) (2.9.0)\n",
            "Requirement already satisfied: tensorflow-io-gcs-filesystem>=0.23.1 in /usr/local/lib/python3.7/dist-packages (from tensorflow<2.10,>=2.9.0->tensorflow_text) (0.25.0)\n",
            "Requirement already satisfied: packaging in /usr/local/lib/python3.7/dist-packages (from tensorflow<2.10,>=2.9.0->tensorflow_text) (21.3)\n",
            "Requirement already satisfied: absl-py>=1.0.0 in /usr/local/lib/python3.7/dist-packages (from tensorflow<2.10,>=2.9.0->tensorflow_text) (1.0.0)\n",
            "Requirement already satisfied: astunparse>=1.6.0 in /usr/local/lib/python3.7/dist-packages (from tensorflow<2.10,>=2.9.0->tensorflow_text) (1.6.3)\n",
            "Requirement already satisfied: wrapt>=1.11.0 in /usr/local/lib/python3.7/dist-packages (from tensorflow<2.10,>=2.9.0->tensorflow_text) (1.14.1)\n",
            "Requirement already satisfied: flatbuffers<2,>=1.12 in /usr/local/lib/python3.7/dist-packages (from tensorflow<2.10,>=2.9.0->tensorflow_text) (1.12)\n",
            "Requirement already satisfied: opt-einsum>=2.3.2 in /usr/local/lib/python3.7/dist-packages (from tensorflow<2.10,>=2.9.0->tensorflow_text) (3.3.0)\n",
            "Requirement already satisfied: numpy>=1.20 in /usr/local/lib/python3.7/dist-packages (from tensorflow<2.10,>=2.9.0->tensorflow_text) (1.21.6)\n",
            "Requirement already satisfied: protobuf>=3.9.2 in /usr/local/lib/python3.7/dist-packages (from tensorflow<2.10,>=2.9.0->tensorflow_text) (3.17.3)\n",
            "Requirement already satisfied: gast<=0.4.0,>=0.2.1 in /usr/local/lib/python3.7/dist-packages (from tensorflow<2.10,>=2.9.0->tensorflow_text) (0.4.0)\n",
            "Requirement already satisfied: typing-extensions>=3.6.6 in /usr/local/lib/python3.7/dist-packages (from tensorflow<2.10,>=2.9.0->tensorflow_text) (4.2.0)\n",
            "Requirement already satisfied: setuptools in /usr/local/lib/python3.7/dist-packages (from tensorflow<2.10,>=2.9.0->tensorflow_text) (57.4.0)\n",
            "Requirement already satisfied: grpcio<2.0,>=1.24.3 in /usr/local/lib/python3.7/dist-packages (from tensorflow<2.10,>=2.9.0->tensorflow_text) (1.46.1)\n",
            "Requirement already satisfied: h5py>=2.9.0 in /usr/local/lib/python3.7/dist-packages (from tensorflow<2.10,>=2.9.0->tensorflow_text) (3.1.0)\n",
            "Requirement already satisfied: six>=1.12.0 in /usr/local/lib/python3.7/dist-packages (from tensorflow<2.10,>=2.9.0->tensorflow_text) (1.15.0)\n",
            "Requirement already satisfied: wheel<1.0,>=0.23.0 in /usr/local/lib/python3.7/dist-packages (from astunparse>=1.6.0->tensorflow<2.10,>=2.9.0->tensorflow_text) (0.37.1)\n",
            "Requirement already satisfied: cached-property in /usr/local/lib/python3.7/dist-packages (from h5py>=2.9.0->tensorflow<2.10,>=2.9.0->tensorflow_text) (1.5.2)\n",
            "Requirement already satisfied: google-auth-oauthlib<0.5,>=0.4.1 in /usr/local/lib/python3.7/dist-packages (from tensorboard<2.10,>=2.9->tensorflow<2.10,>=2.9.0->tensorflow_text) (0.4.6)\n",
            "Requirement already satisfied: tensorboard-plugin-wit>=1.6.0 in /usr/local/lib/python3.7/dist-packages (from tensorboard<2.10,>=2.9->tensorflow<2.10,>=2.9.0->tensorflow_text) (1.8.1)\n",
            "Requirement already satisfied: google-auth<3,>=1.6.3 in /usr/local/lib/python3.7/dist-packages (from tensorboard<2.10,>=2.9->tensorflow<2.10,>=2.9.0->tensorflow_text) (1.35.0)\n",
            "Requirement already satisfied: werkzeug>=1.0.1 in /usr/local/lib/python3.7/dist-packages (from tensorboard<2.10,>=2.9->tensorflow<2.10,>=2.9.0->tensorflow_text) (1.0.1)\n",
            "Requirement already satisfied: requests<3,>=2.21.0 in /usr/local/lib/python3.7/dist-packages (from tensorboard<2.10,>=2.9->tensorflow<2.10,>=2.9.0->tensorflow_text) (2.23.0)\n",
            "Requirement already satisfied: markdown>=2.6.8 in /usr/local/lib/python3.7/dist-packages (from tensorboard<2.10,>=2.9->tensorflow<2.10,>=2.9.0->tensorflow_text) (3.3.7)\n",
            "Requirement already satisfied: tensorboard-data-server<0.7.0,>=0.6.0 in /usr/local/lib/python3.7/dist-packages (from tensorboard<2.10,>=2.9->tensorflow<2.10,>=2.9.0->tensorflow_text) (0.6.1)\n",
            "Requirement already satisfied: pyasn1-modules>=0.2.1 in /usr/local/lib/python3.7/dist-packages (from google-auth<3,>=1.6.3->tensorboard<2.10,>=2.9->tensorflow<2.10,>=2.9.0->tensorflow_text) (0.2.8)\n",
            "Requirement already satisfied: cachetools<5.0,>=2.0.0 in /usr/local/lib/python3.7/dist-packages (from google-auth<3,>=1.6.3->tensorboard<2.10,>=2.9->tensorflow<2.10,>=2.9.0->tensorflow_text) (4.2.4)\n",
            "Requirement already satisfied: rsa<5,>=3.1.4 in /usr/local/lib/python3.7/dist-packages (from google-auth<3,>=1.6.3->tensorboard<2.10,>=2.9->tensorflow<2.10,>=2.9.0->tensorflow_text) (4.8)\n",
            "Requirement already satisfied: requests-oauthlib>=0.7.0 in /usr/local/lib/python3.7/dist-packages (from google-auth-oauthlib<0.5,>=0.4.1->tensorboard<2.10,>=2.9->tensorflow<2.10,>=2.9.0->tensorflow_text) (1.3.1)\n",
            "Requirement already satisfied: importlib-metadata>=4.4 in /usr/local/lib/python3.7/dist-packages (from markdown>=2.6.8->tensorboard<2.10,>=2.9->tensorflow<2.10,>=2.9.0->tensorflow_text) (4.11.3)\n",
            "Requirement already satisfied: zipp>=0.5 in /usr/local/lib/python3.7/dist-packages (from importlib-metadata>=4.4->markdown>=2.6.8->tensorboard<2.10,>=2.9->tensorflow<2.10,>=2.9.0->tensorflow_text) (3.8.0)\n",
            "Requirement already satisfied: pyasn1<0.5.0,>=0.4.6 in /usr/local/lib/python3.7/dist-packages (from pyasn1-modules>=0.2.1->google-auth<3,>=1.6.3->tensorboard<2.10,>=2.9->tensorflow<2.10,>=2.9.0->tensorflow_text) (0.4.8)\n",
            "Requirement already satisfied: chardet<4,>=3.0.2 in /usr/local/lib/python3.7/dist-packages (from requests<3,>=2.21.0->tensorboard<2.10,>=2.9->tensorflow<2.10,>=2.9.0->tensorflow_text) (3.0.4)\n",
            "Requirement already satisfied: idna<3,>=2.5 in /usr/local/lib/python3.7/dist-packages (from requests<3,>=2.21.0->tensorboard<2.10,>=2.9->tensorflow<2.10,>=2.9.0->tensorflow_text) (2.10)\n",
            "Requirement already satisfied: certifi>=2017.4.17 in /usr/local/lib/python3.7/dist-packages (from requests<3,>=2.21.0->tensorboard<2.10,>=2.9->tensorflow<2.10,>=2.9.0->tensorflow_text) (2021.10.8)\n",
            "Requirement already satisfied: urllib3!=1.25.0,!=1.25.1,<1.26,>=1.21.1 in /usr/local/lib/python3.7/dist-packages (from requests<3,>=2.21.0->tensorboard<2.10,>=2.9->tensorflow<2.10,>=2.9.0->tensorflow_text) (1.24.3)\n",
            "Requirement already satisfied: oauthlib>=3.0.0 in /usr/local/lib/python3.7/dist-packages (from requests-oauthlib>=0.7.0->google-auth-oauthlib<0.5,>=0.4.1->tensorboard<2.10,>=2.9->tensorflow<2.10,>=2.9.0->tensorflow_text) (3.2.0)\n",
            "Requirement already satisfied: pyparsing!=3.0.5,>=2.0.2 in /usr/local/lib/python3.7/dist-packages (from packaging->tensorflow<2.10,>=2.9.0->tensorflow_text) (3.0.9)\n",
            "Requirement already satisfied: tensorflow_hub in /usr/local/lib/python3.7/dist-packages (0.12.0)\n",
            "Requirement already satisfied: protobuf>=3.8.0 in /usr/local/lib/python3.7/dist-packages (from tensorflow_hub) (3.17.3)\n",
            "Requirement already satisfied: numpy>=1.12.0 in /usr/local/lib/python3.7/dist-packages (from tensorflow_hub) (1.21.6)\n",
            "Requirement already satisfied: six>=1.9 in /usr/local/lib/python3.7/dist-packages (from protobuf>=3.8.0->tensorflow_hub) (1.15.0)\n",
            "Requirement already satisfied: transformers in /usr/local/lib/python3.7/dist-packages (4.19.2)\n",
            "Requirement already satisfied: tqdm>=4.27 in /usr/local/lib/python3.7/dist-packages (from transformers) (4.64.0)\n",
            "Requirement already satisfied: pyyaml>=5.1 in /usr/local/lib/python3.7/dist-packages (from transformers) (6.0)\n",
            "Requirement already satisfied: requests in /usr/local/lib/python3.7/dist-packages (from transformers) (2.23.0)\n",
            "Requirement already satisfied: packaging>=20.0 in /usr/local/lib/python3.7/dist-packages (from transformers) (21.3)\n",
            "Requirement already satisfied: tokenizers!=0.11.3,<0.13,>=0.11.1 in /usr/local/lib/python3.7/dist-packages (from transformers) (0.12.1)\n",
            "Requirement already satisfied: numpy>=1.17 in /usr/local/lib/python3.7/dist-packages (from transformers) (1.21.6)\n",
            "Requirement already satisfied: huggingface-hub<1.0,>=0.1.0 in /usr/local/lib/python3.7/dist-packages (from transformers) (0.6.0)\n",
            "Requirement already satisfied: regex!=2019.12.17 in /usr/local/lib/python3.7/dist-packages (from transformers) (2019.12.20)\n",
            "Requirement already satisfied: filelock in /usr/local/lib/python3.7/dist-packages (from transformers) (3.7.0)\n",
            "Requirement already satisfied: importlib-metadata in /usr/local/lib/python3.7/dist-packages (from transformers) (4.11.3)\n",
            "Requirement already satisfied: typing-extensions>=3.7.4.3 in /usr/local/lib/python3.7/dist-packages (from huggingface-hub<1.0,>=0.1.0->transformers) (4.2.0)\n",
            "Requirement already satisfied: pyparsing!=3.0.5,>=2.0.2 in /usr/local/lib/python3.7/dist-packages (from packaging>=20.0->transformers) (3.0.9)\n",
            "Requirement already satisfied: zipp>=0.5 in /usr/local/lib/python3.7/dist-packages (from importlib-metadata->transformers) (3.8.0)\n",
            "Requirement already satisfied: certifi>=2017.4.17 in /usr/local/lib/python3.7/dist-packages (from requests->transformers) (2021.10.8)\n",
            "Requirement already satisfied: urllib3!=1.25.0,!=1.25.1,<1.26,>=1.21.1 in /usr/local/lib/python3.7/dist-packages (from requests->transformers) (1.24.3)\n",
            "Requirement already satisfied: chardet<4,>=3.0.2 in /usr/local/lib/python3.7/dist-packages (from requests->transformers) (3.0.4)\n",
            "Requirement already satisfied: idna<3,>=2.5 in /usr/local/lib/python3.7/dist-packages (from requests->transformers) (2.10)\n"
          ]
        }
      ],
      "source": [
        "!pip install tensorflow_text\n",
        "!pip install tensorflow_hub\n",
        "!pip install transformers"
      ]
    },
    {
      "cell_type": "code",
      "execution_count": 3,
      "metadata": {
        "id": "HUKHIT8hSOAH"
      },
      "outputs": [],
      "source": [
        "import tensorflow as tf\n",
        "import tensorflow_hub as hub\n",
        "import tensorflow_text as text\n",
        "import pandas as pd\n",
        "from sklearn.preprocessing import LabelEncoder\n",
        "import tensorflow as tf"
      ]
    },
    {
      "cell_type": "code",
      "execution_count": 4,
      "metadata": {
        "colab": {
          "base_uri": "https://localhost:8080/",
          "height": 175
        },
        "id": "7Iop3r0LP7b4",
        "outputId": "9b7dac6b-c2b9-4d6a-d000-9b2fb1600cc4"
      },
      "outputs": [
        {
          "output_type": "execute_result",
          "data": {
            "text/plain": [
              "                                                     text   humor\n",
              "count                                              200000  200000\n",
              "unique                                             200000       2\n",
              "top     Joe biden rules out 2020 bid: 'guys, i'm not r...   False\n",
              "freq                                                    1  100000"
            ],
            "text/html": [
              "\n",
              "  <div id=\"df-7417b7ab-b2fa-4a41-9c49-15cb34459e41\">\n",
              "    <div class=\"colab-df-container\">\n",
              "      <div>\n",
              "<style scoped>\n",
              "    .dataframe tbody tr th:only-of-type {\n",
              "        vertical-align: middle;\n",
              "    }\n",
              "\n",
              "    .dataframe tbody tr th {\n",
              "        vertical-align: top;\n",
              "    }\n",
              "\n",
              "    .dataframe thead th {\n",
              "        text-align: right;\n",
              "    }\n",
              "</style>\n",
              "<table border=\"1\" class=\"dataframe\">\n",
              "  <thead>\n",
              "    <tr style=\"text-align: right;\">\n",
              "      <th></th>\n",
              "      <th>text</th>\n",
              "      <th>humor</th>\n",
              "    </tr>\n",
              "  </thead>\n",
              "  <tbody>\n",
              "    <tr>\n",
              "      <th>count</th>\n",
              "      <td>200000</td>\n",
              "      <td>200000</td>\n",
              "    </tr>\n",
              "    <tr>\n",
              "      <th>unique</th>\n",
              "      <td>200000</td>\n",
              "      <td>2</td>\n",
              "    </tr>\n",
              "    <tr>\n",
              "      <th>top</th>\n",
              "      <td>Joe biden rules out 2020 bid: 'guys, i'm not r...</td>\n",
              "      <td>False</td>\n",
              "    </tr>\n",
              "    <tr>\n",
              "      <th>freq</th>\n",
              "      <td>1</td>\n",
              "      <td>100000</td>\n",
              "    </tr>\n",
              "  </tbody>\n",
              "</table>\n",
              "</div>\n",
              "      <button class=\"colab-df-convert\" onclick=\"convertToInteractive('df-7417b7ab-b2fa-4a41-9c49-15cb34459e41')\"\n",
              "              title=\"Convert this dataframe to an interactive table.\"\n",
              "              style=\"display:none;\">\n",
              "        \n",
              "  <svg xmlns=\"http://www.w3.org/2000/svg\" height=\"24px\"viewBox=\"0 0 24 24\"\n",
              "       width=\"24px\">\n",
              "    <path d=\"M0 0h24v24H0V0z\" fill=\"none\"/>\n",
              "    <path d=\"M18.56 5.44l.94 2.06.94-2.06 2.06-.94-2.06-.94-.94-2.06-.94 2.06-2.06.94zm-11 1L8.5 8.5l.94-2.06 2.06-.94-2.06-.94L8.5 2.5l-.94 2.06-2.06.94zm10 10l.94 2.06.94-2.06 2.06-.94-2.06-.94-.94-2.06-.94 2.06-2.06.94z\"/><path d=\"M17.41 7.96l-1.37-1.37c-.4-.4-.92-.59-1.43-.59-.52 0-1.04.2-1.43.59L10.3 9.45l-7.72 7.72c-.78.78-.78 2.05 0 2.83L4 21.41c.39.39.9.59 1.41.59.51 0 1.02-.2 1.41-.59l7.78-7.78 2.81-2.81c.8-.78.8-2.07 0-2.86zM5.41 20L4 18.59l7.72-7.72 1.47 1.35L5.41 20z\"/>\n",
              "  </svg>\n",
              "      </button>\n",
              "      \n",
              "  <style>\n",
              "    .colab-df-container {\n",
              "      display:flex;\n",
              "      flex-wrap:wrap;\n",
              "      gap: 12px;\n",
              "    }\n",
              "\n",
              "    .colab-df-convert {\n",
              "      background-color: #E8F0FE;\n",
              "      border: none;\n",
              "      border-radius: 50%;\n",
              "      cursor: pointer;\n",
              "      display: none;\n",
              "      fill: #1967D2;\n",
              "      height: 32px;\n",
              "      padding: 0 0 0 0;\n",
              "      width: 32px;\n",
              "    }\n",
              "\n",
              "    .colab-df-convert:hover {\n",
              "      background-color: #E2EBFA;\n",
              "      box-shadow: 0px 1px 2px rgba(60, 64, 67, 0.3), 0px 1px 3px 1px rgba(60, 64, 67, 0.15);\n",
              "      fill: #174EA6;\n",
              "    }\n",
              "\n",
              "    [theme=dark] .colab-df-convert {\n",
              "      background-color: #3B4455;\n",
              "      fill: #D2E3FC;\n",
              "    }\n",
              "\n",
              "    [theme=dark] .colab-df-convert:hover {\n",
              "      background-color: #434B5C;\n",
              "      box-shadow: 0px 1px 3px 1px rgba(0, 0, 0, 0.15);\n",
              "      filter: drop-shadow(0px 1px 2px rgba(0, 0, 0, 0.3));\n",
              "      fill: #FFFFFF;\n",
              "    }\n",
              "  </style>\n",
              "\n",
              "      <script>\n",
              "        const buttonEl =\n",
              "          document.querySelector('#df-7417b7ab-b2fa-4a41-9c49-15cb34459e41 button.colab-df-convert');\n",
              "        buttonEl.style.display =\n",
              "          google.colab.kernel.accessAllowed ? 'block' : 'none';\n",
              "\n",
              "        async function convertToInteractive(key) {\n",
              "          const element = document.querySelector('#df-7417b7ab-b2fa-4a41-9c49-15cb34459e41');\n",
              "          const dataTable =\n",
              "            await google.colab.kernel.invokeFunction('convertToInteractive',\n",
              "                                                     [key], {});\n",
              "          if (!dataTable) return;\n",
              "\n",
              "          const docLinkHtml = 'Like what you see? Visit the ' +\n",
              "            '<a target=\"_blank\" href=https://colab.research.google.com/notebooks/data_table.ipynb>data table notebook</a>'\n",
              "            + ' to learn more about interactive tables.';\n",
              "          element.innerHTML = '';\n",
              "          dataTable['output_type'] = 'display_data';\n",
              "          await google.colab.output.renderOutput(dataTable, element);\n",
              "          const docLink = document.createElement('div');\n",
              "          docLink.innerHTML = docLinkHtml;\n",
              "          element.appendChild(docLink);\n",
              "        }\n",
              "      </script>\n",
              "    </div>\n",
              "  </div>\n",
              "  "
            ]
          },
          "metadata": {},
          "execution_count": 4
        }
      ],
      "source": [
        "df_raw = pd.read_csv('/content/drive/MyDrive/Data Mining/dataset.txt')\n",
        "df_raw.describe()"
      ]
    },
    {
      "cell_type": "code",
      "execution_count": 5,
      "metadata": {
        "id": "ypD9eaqv5CI6"
      },
      "outputs": [],
      "source": [
        "# todo --> take random sample to speed up training\n",
        "df = df_raw.sample(5000)"
      ]
    },
    {
      "cell_type": "markdown",
      "metadata": {
        "id": "12R2RwOjS9-O"
      },
      "source": [
        "# Check for imbalance\n",
        "The dataset is equally balanced. Therefore, we do not need to rebalance the dataset."
      ]
    },
    {
      "cell_type": "code",
      "execution_count": 6,
      "metadata": {
        "colab": {
          "base_uri": "https://localhost:8080/"
        },
        "id": "HvW_6M_VSuhG",
        "outputId": "09ee0778-8483-4c98-9812-7221f540c8f3"
      },
      "outputs": [
        {
          "output_type": "execute_result",
          "data": {
            "text/plain": [
              "True     2508\n",
              "False    2492\n",
              "Name: humor, dtype: int64"
            ]
          },
          "metadata": {},
          "execution_count": 6
        }
      ],
      "source": [
        "df[\"humor\"].value_counts()"
      ]
    },
    {
      "cell_type": "markdown",
      "metadata": {
        "id": "b4KqkTrKTi5u"
      },
      "source": [
        "# Preprocessing"
      ]
    },
    {
      "cell_type": "code",
      "execution_count": 7,
      "metadata": {
        "id": "tKOlW4JGSgIk"
      },
      "outputs": [],
      "source": [
        "# Transform class from Boolean to integer value\n",
        "df['class']=df['humor'].apply(lambda x: 1 if x==True else 0)"
      ]
    },
    {
      "cell_type": "code",
      "execution_count": 8,
      "metadata": {
        "id": "4l7ycCbR0Zoe"
      },
      "outputs": [],
      "source": [
        "from transformers import BertTokenizer\n",
        "tokenizer = BertTokenizer.from_pretrained(\"bert-base-uncased\")\n",
        "\n",
        "MAX_LEN = 128\n",
        "#pad_to_max_length=True,\n",
        "df['bert_preprocessed']=df['text'].apply(lambda x: \" \".join(list(tokenizer.convert_ids_to_tokens(tokenizer.encode(x, add_special_tokens=True, max_length=MAX_LEN, truncation=True)))))"
      ]
    },
    {
      "cell_type": "code",
      "execution_count": 9,
      "metadata": {
        "colab": {
          "base_uri": "https://localhost:8080/",
          "height": 206
        },
        "id": "ghGSvlxC3vme",
        "outputId": "0a9d619d-0184-4f87-ba1a-e53693ed99ac"
      },
      "outputs": [
        {
          "output_type": "execute_result",
          "data": {
            "text/plain": [
              "                                                     text  humor  class  \\\n",
              "67815                   10 good reasons to get a flu shot  False      0   \n",
              "149041  I leave the interview room as i entered it, ka...   True      1   \n",
              "178343  I wish i was ugly for just one single day.. be...   True      1   \n",
              "159016  Do competitive origami artists ever fold under...   True      1   \n",
              "112070  Litter from indonesia -- rubble in paradise: c...  False      0   \n",
              "\n",
              "                                        bert_preprocessed  \n",
              "67815       [CLS] 10 good reasons to get a flu shot [SEP]  \n",
              "149041  [CLS] i leave the interview room as i entered ...  \n",
              "178343  [CLS] i wish i was ugly for just one single da...  \n",
              "159016  [CLS] do competitive or ##iga ##mi artists eve...  \n",
              "112070  [CLS] litter from indonesia - - rubble in para...  "
            ],
            "text/html": [
              "\n",
              "  <div id=\"df-da05dfe2-92ea-4656-8b59-392a3a4f5527\">\n",
              "    <div class=\"colab-df-container\">\n",
              "      <div>\n",
              "<style scoped>\n",
              "    .dataframe tbody tr th:only-of-type {\n",
              "        vertical-align: middle;\n",
              "    }\n",
              "\n",
              "    .dataframe tbody tr th {\n",
              "        vertical-align: top;\n",
              "    }\n",
              "\n",
              "    .dataframe thead th {\n",
              "        text-align: right;\n",
              "    }\n",
              "</style>\n",
              "<table border=\"1\" class=\"dataframe\">\n",
              "  <thead>\n",
              "    <tr style=\"text-align: right;\">\n",
              "      <th></th>\n",
              "      <th>text</th>\n",
              "      <th>humor</th>\n",
              "      <th>class</th>\n",
              "      <th>bert_preprocessed</th>\n",
              "    </tr>\n",
              "  </thead>\n",
              "  <tbody>\n",
              "    <tr>\n",
              "      <th>67815</th>\n",
              "      <td>10 good reasons to get a flu shot</td>\n",
              "      <td>False</td>\n",
              "      <td>0</td>\n",
              "      <td>[CLS] 10 good reasons to get a flu shot [SEP]</td>\n",
              "    </tr>\n",
              "    <tr>\n",
              "      <th>149041</th>\n",
              "      <td>I leave the interview room as i entered it, ka...</td>\n",
              "      <td>True</td>\n",
              "      <td>1</td>\n",
              "      <td>[CLS] i leave the interview room as i entered ...</td>\n",
              "    </tr>\n",
              "    <tr>\n",
              "      <th>178343</th>\n",
              "      <td>I wish i was ugly for just one single day.. be...</td>\n",
              "      <td>True</td>\n",
              "      <td>1</td>\n",
              "      <td>[CLS] i wish i was ugly for just one single da...</td>\n",
              "    </tr>\n",
              "    <tr>\n",
              "      <th>159016</th>\n",
              "      <td>Do competitive origami artists ever fold under...</td>\n",
              "      <td>True</td>\n",
              "      <td>1</td>\n",
              "      <td>[CLS] do competitive or ##iga ##mi artists eve...</td>\n",
              "    </tr>\n",
              "    <tr>\n",
              "      <th>112070</th>\n",
              "      <td>Litter from indonesia -- rubble in paradise: c...</td>\n",
              "      <td>False</td>\n",
              "      <td>0</td>\n",
              "      <td>[CLS] litter from indonesia - - rubble in para...</td>\n",
              "    </tr>\n",
              "  </tbody>\n",
              "</table>\n",
              "</div>\n",
              "      <button class=\"colab-df-convert\" onclick=\"convertToInteractive('df-da05dfe2-92ea-4656-8b59-392a3a4f5527')\"\n",
              "              title=\"Convert this dataframe to an interactive table.\"\n",
              "              style=\"display:none;\">\n",
              "        \n",
              "  <svg xmlns=\"http://www.w3.org/2000/svg\" height=\"24px\"viewBox=\"0 0 24 24\"\n",
              "       width=\"24px\">\n",
              "    <path d=\"M0 0h24v24H0V0z\" fill=\"none\"/>\n",
              "    <path d=\"M18.56 5.44l.94 2.06.94-2.06 2.06-.94-2.06-.94-.94-2.06-.94 2.06-2.06.94zm-11 1L8.5 8.5l.94-2.06 2.06-.94-2.06-.94L8.5 2.5l-.94 2.06-2.06.94zm10 10l.94 2.06.94-2.06 2.06-.94-2.06-.94-.94-2.06-.94 2.06-2.06.94z\"/><path d=\"M17.41 7.96l-1.37-1.37c-.4-.4-.92-.59-1.43-.59-.52 0-1.04.2-1.43.59L10.3 9.45l-7.72 7.72c-.78.78-.78 2.05 0 2.83L4 21.41c.39.39.9.59 1.41.59.51 0 1.02-.2 1.41-.59l7.78-7.78 2.81-2.81c.8-.78.8-2.07 0-2.86zM5.41 20L4 18.59l7.72-7.72 1.47 1.35L5.41 20z\"/>\n",
              "  </svg>\n",
              "      </button>\n",
              "      \n",
              "  <style>\n",
              "    .colab-df-container {\n",
              "      display:flex;\n",
              "      flex-wrap:wrap;\n",
              "      gap: 12px;\n",
              "    }\n",
              "\n",
              "    .colab-df-convert {\n",
              "      background-color: #E8F0FE;\n",
              "      border: none;\n",
              "      border-radius: 50%;\n",
              "      cursor: pointer;\n",
              "      display: none;\n",
              "      fill: #1967D2;\n",
              "      height: 32px;\n",
              "      padding: 0 0 0 0;\n",
              "      width: 32px;\n",
              "    }\n",
              "\n",
              "    .colab-df-convert:hover {\n",
              "      background-color: #E2EBFA;\n",
              "      box-shadow: 0px 1px 2px rgba(60, 64, 67, 0.3), 0px 1px 3px 1px rgba(60, 64, 67, 0.15);\n",
              "      fill: #174EA6;\n",
              "    }\n",
              "\n",
              "    [theme=dark] .colab-df-convert {\n",
              "      background-color: #3B4455;\n",
              "      fill: #D2E3FC;\n",
              "    }\n",
              "\n",
              "    [theme=dark] .colab-df-convert:hover {\n",
              "      background-color: #434B5C;\n",
              "      box-shadow: 0px 1px 3px 1px rgba(0, 0, 0, 0.15);\n",
              "      filter: drop-shadow(0px 1px 2px rgba(0, 0, 0, 0.3));\n",
              "      fill: #FFFFFF;\n",
              "    }\n",
              "  </style>\n",
              "\n",
              "      <script>\n",
              "        const buttonEl =\n",
              "          document.querySelector('#df-da05dfe2-92ea-4656-8b59-392a3a4f5527 button.colab-df-convert');\n",
              "        buttonEl.style.display =\n",
              "          google.colab.kernel.accessAllowed ? 'block' : 'none';\n",
              "\n",
              "        async function convertToInteractive(key) {\n",
              "          const element = document.querySelector('#df-da05dfe2-92ea-4656-8b59-392a3a4f5527');\n",
              "          const dataTable =\n",
              "            await google.colab.kernel.invokeFunction('convertToInteractive',\n",
              "                                                     [key], {});\n",
              "          if (!dataTable) return;\n",
              "\n",
              "          const docLinkHtml = 'Like what you see? Visit the ' +\n",
              "            '<a target=\"_blank\" href=https://colab.research.google.com/notebooks/data_table.ipynb>data table notebook</a>'\n",
              "            + ' to learn more about interactive tables.';\n",
              "          element.innerHTML = '';\n",
              "          dataTable['output_type'] = 'display_data';\n",
              "          await google.colab.output.renderOutput(dataTable, element);\n",
              "          const docLink = document.createElement('div');\n",
              "          docLink.innerHTML = docLinkHtml;\n",
              "          element.appendChild(docLink);\n",
              "        }\n",
              "      </script>\n",
              "    </div>\n",
              "  </div>\n",
              "  "
            ]
          },
          "metadata": {},
          "execution_count": 9
        }
      ],
      "source": [
        "df.head()"
      ]
    },
    {
      "cell_type": "code",
      "execution_count": 10,
      "metadata": {
        "id": "krCAqw4ITnh8"
      },
      "outputs": [],
      "source": [
        "from sklearn.model_selection import train_test_split\n",
        "\n",
        "X_train, X_test, y_train, y_test = train_test_split(df['bert_preprocessed'],df['class'], test_size=0.4)"
      ]
    },
    {
      "cell_type": "markdown",
      "metadata": {
        "id": "75KTg_ROTveS"
      },
      "source": [
        "# BERT"
      ]
    },
    {
      "cell_type": "code",
      "execution_count": 11,
      "metadata": {
        "id": "USX6Lts4T0ey"
      },
      "outputs": [],
      "source": [
        "bert_preprocess = hub.KerasLayer(\"https://tfhub.dev/tensorflow/bert_en_uncased_preprocess/3\")\n",
        "bert_encoder = hub.KerasLayer(\"https://tfhub.dev/tensorflow/bert_en_uncased_L-12_H-768_A-12/4\")"
      ]
    },
    {
      "cell_type": "code",
      "execution_count": 12,
      "metadata": {
        "id": "wlFXYUGkT3xW"
      },
      "outputs": [],
      "source": [
        "def get_sentence_embeding(sentences):\n",
        "    preprocessed_text = bert_preprocess(sentences)\n",
        "    return bert_encoder(preprocessed_text)['pooled_output']"
      ]
    },
    {
      "cell_type": "markdown",
      "metadata": {
        "id": "-Nt0AWJEUGJg"
      },
      "source": [
        "## Test embedding\n",
        "Test word embedding from pretrained BERT model with a real sentence from dataset."
      ]
    },
    {
      "cell_type": "code",
      "execution_count": 13,
      "metadata": {
        "colab": {
          "base_uri": "https://localhost:8080/",
          "height": 529
        },
        "id": "1osx4LSXUECE",
        "outputId": "66120824-5666-41f0-8ab9-0d424d131faf"
      },
      "outputs": [
        {
          "output_type": "error",
          "ename": "KeyError",
          "evalue": "ignored",
          "traceback": [
            "\u001b[0;31m---------------------------------------------------------------------------\u001b[0m",
            "\u001b[0;31mKeyError\u001b[0m                                  Traceback (most recent call last)",
            "\u001b[0;32m/usr/local/lib/python3.7/dist-packages/pandas/core/indexes/base.py\u001b[0m in \u001b[0;36mget_loc\u001b[0;34m(self, key, method, tolerance)\u001b[0m\n\u001b[1;32m   3360\u001b[0m             \u001b[0;32mtry\u001b[0m\u001b[0;34m:\u001b[0m\u001b[0;34m\u001b[0m\u001b[0;34m\u001b[0m\u001b[0m\n\u001b[0;32m-> 3361\u001b[0;31m                 \u001b[0;32mreturn\u001b[0m \u001b[0mself\u001b[0m\u001b[0;34m.\u001b[0m\u001b[0m_engine\u001b[0m\u001b[0;34m.\u001b[0m\u001b[0mget_loc\u001b[0m\u001b[0;34m(\u001b[0m\u001b[0mcasted_key\u001b[0m\u001b[0;34m)\u001b[0m\u001b[0;34m\u001b[0m\u001b[0;34m\u001b[0m\u001b[0m\n\u001b[0m\u001b[1;32m   3362\u001b[0m             \u001b[0;32mexcept\u001b[0m \u001b[0mKeyError\u001b[0m \u001b[0;32mas\u001b[0m \u001b[0merr\u001b[0m\u001b[0;34m:\u001b[0m\u001b[0;34m\u001b[0m\u001b[0;34m\u001b[0m\u001b[0m\n",
            "\u001b[0;32m/usr/local/lib/python3.7/dist-packages/pandas/_libs/index.pyx\u001b[0m in \u001b[0;36mpandas._libs.index.IndexEngine.get_loc\u001b[0;34m()\u001b[0m\n",
            "\u001b[0;32m/usr/local/lib/python3.7/dist-packages/pandas/_libs/index.pyx\u001b[0m in \u001b[0;36mpandas._libs.index.IndexEngine.get_loc\u001b[0;34m()\u001b[0m\n",
            "\u001b[0;32mpandas/_libs/hashtable_class_helper.pxi\u001b[0m in \u001b[0;36mpandas._libs.hashtable.Int64HashTable.get_item\u001b[0;34m()\u001b[0m\n",
            "\u001b[0;32mpandas/_libs/hashtable_class_helper.pxi\u001b[0m in \u001b[0;36mpandas._libs.hashtable.Int64HashTable.get_item\u001b[0;34m()\u001b[0m\n",
            "\u001b[0;31mKeyError\u001b[0m: 11704",
            "\nThe above exception was the direct cause of the following exception:\n",
            "\u001b[0;31mKeyError\u001b[0m                                  Traceback (most recent call last)",
            "\u001b[0;32m<ipython-input-13-dcde1ab73896>\u001b[0m in \u001b[0;36m<module>\u001b[0;34m()\u001b[0m\n\u001b[0;32m----> 1\u001b[0;31m \u001b[0mtest_sentence\u001b[0m \u001b[0;34m=\u001b[0m \u001b[0mdf\u001b[0m\u001b[0;34m[\u001b[0m\u001b[0;34m\"bert_preprocessed\"\u001b[0m\u001b[0;34m]\u001b[0m\u001b[0;34m[\u001b[0m\u001b[0;36m11704\u001b[0m\u001b[0;34m]\u001b[0m\u001b[0;34m\u001b[0m\u001b[0;34m\u001b[0m\u001b[0m\n\u001b[0m\u001b[1;32m      2\u001b[0m \u001b[0mprint\u001b[0m\u001b[0;34m(\u001b[0m\u001b[0;34m\"Test sentence:\"\u001b[0m\u001b[0;34m)\u001b[0m\u001b[0;34m\u001b[0m\u001b[0;34m\u001b[0m\u001b[0m\n\u001b[1;32m      3\u001b[0m \u001b[0mprint\u001b[0m\u001b[0;34m(\u001b[0m\u001b[0mtest_sentence\u001b[0m\u001b[0;34m)\u001b[0m\u001b[0;34m\u001b[0m\u001b[0;34m\u001b[0m\u001b[0m\n\u001b[1;32m      4\u001b[0m \u001b[0mprint\u001b[0m\u001b[0;34m(\u001b[0m\u001b[0;34m\"Test sentence (word embedding):\"\u001b[0m\u001b[0;34m)\u001b[0m\u001b[0;34m\u001b[0m\u001b[0;34m\u001b[0m\u001b[0m\n\u001b[1;32m      5\u001b[0m \u001b[0mprint\u001b[0m\u001b[0;34m(\u001b[0m\u001b[0mget_sentence_embeding\u001b[0m\u001b[0;34m(\u001b[0m\u001b[0;34m[\u001b[0m\u001b[0mtest_sentence\u001b[0m\u001b[0;34m]\u001b[0m\u001b[0;34m)\u001b[0m\u001b[0;34m)\u001b[0m\u001b[0;34m\u001b[0m\u001b[0;34m\u001b[0m\u001b[0m\n",
            "\u001b[0;32m/usr/local/lib/python3.7/dist-packages/pandas/core/series.py\u001b[0m in \u001b[0;36m__getitem__\u001b[0;34m(self, key)\u001b[0m\n\u001b[1;32m    940\u001b[0m \u001b[0;34m\u001b[0m\u001b[0m\n\u001b[1;32m    941\u001b[0m         \u001b[0;32melif\u001b[0m \u001b[0mkey_is_scalar\u001b[0m\u001b[0;34m:\u001b[0m\u001b[0;34m\u001b[0m\u001b[0;34m\u001b[0m\u001b[0m\n\u001b[0;32m--> 942\u001b[0;31m             \u001b[0;32mreturn\u001b[0m \u001b[0mself\u001b[0m\u001b[0;34m.\u001b[0m\u001b[0m_get_value\u001b[0m\u001b[0;34m(\u001b[0m\u001b[0mkey\u001b[0m\u001b[0;34m)\u001b[0m\u001b[0;34m\u001b[0m\u001b[0;34m\u001b[0m\u001b[0m\n\u001b[0m\u001b[1;32m    943\u001b[0m \u001b[0;34m\u001b[0m\u001b[0m\n\u001b[1;32m    944\u001b[0m         \u001b[0;32mif\u001b[0m \u001b[0mis_hashable\u001b[0m\u001b[0;34m(\u001b[0m\u001b[0mkey\u001b[0m\u001b[0;34m)\u001b[0m\u001b[0;34m:\u001b[0m\u001b[0;34m\u001b[0m\u001b[0;34m\u001b[0m\u001b[0m\n",
            "\u001b[0;32m/usr/local/lib/python3.7/dist-packages/pandas/core/series.py\u001b[0m in \u001b[0;36m_get_value\u001b[0;34m(self, label, takeable)\u001b[0m\n\u001b[1;32m   1049\u001b[0m \u001b[0;34m\u001b[0m\u001b[0m\n\u001b[1;32m   1050\u001b[0m         \u001b[0;31m# Similar to Index.get_value, but we do not fall back to positional\u001b[0m\u001b[0;34m\u001b[0m\u001b[0;34m\u001b[0m\u001b[0;34m\u001b[0m\u001b[0m\n\u001b[0;32m-> 1051\u001b[0;31m         \u001b[0mloc\u001b[0m \u001b[0;34m=\u001b[0m \u001b[0mself\u001b[0m\u001b[0;34m.\u001b[0m\u001b[0mindex\u001b[0m\u001b[0;34m.\u001b[0m\u001b[0mget_loc\u001b[0m\u001b[0;34m(\u001b[0m\u001b[0mlabel\u001b[0m\u001b[0;34m)\u001b[0m\u001b[0;34m\u001b[0m\u001b[0;34m\u001b[0m\u001b[0m\n\u001b[0m\u001b[1;32m   1052\u001b[0m         \u001b[0;32mreturn\u001b[0m \u001b[0mself\u001b[0m\u001b[0;34m.\u001b[0m\u001b[0mindex\u001b[0m\u001b[0;34m.\u001b[0m\u001b[0m_get_values_for_loc\u001b[0m\u001b[0;34m(\u001b[0m\u001b[0mself\u001b[0m\u001b[0;34m,\u001b[0m \u001b[0mloc\u001b[0m\u001b[0;34m,\u001b[0m \u001b[0mlabel\u001b[0m\u001b[0;34m)\u001b[0m\u001b[0;34m\u001b[0m\u001b[0;34m\u001b[0m\u001b[0m\n\u001b[1;32m   1053\u001b[0m \u001b[0;34m\u001b[0m\u001b[0m\n",
            "\u001b[0;32m/usr/local/lib/python3.7/dist-packages/pandas/core/indexes/base.py\u001b[0m in \u001b[0;36mget_loc\u001b[0;34m(self, key, method, tolerance)\u001b[0m\n\u001b[1;32m   3361\u001b[0m                 \u001b[0;32mreturn\u001b[0m \u001b[0mself\u001b[0m\u001b[0;34m.\u001b[0m\u001b[0m_engine\u001b[0m\u001b[0;34m.\u001b[0m\u001b[0mget_loc\u001b[0m\u001b[0;34m(\u001b[0m\u001b[0mcasted_key\u001b[0m\u001b[0;34m)\u001b[0m\u001b[0;34m\u001b[0m\u001b[0;34m\u001b[0m\u001b[0m\n\u001b[1;32m   3362\u001b[0m             \u001b[0;32mexcept\u001b[0m \u001b[0mKeyError\u001b[0m \u001b[0;32mas\u001b[0m \u001b[0merr\u001b[0m\u001b[0;34m:\u001b[0m\u001b[0;34m\u001b[0m\u001b[0;34m\u001b[0m\u001b[0m\n\u001b[0;32m-> 3363\u001b[0;31m                 \u001b[0;32mraise\u001b[0m \u001b[0mKeyError\u001b[0m\u001b[0;34m(\u001b[0m\u001b[0mkey\u001b[0m\u001b[0;34m)\u001b[0m \u001b[0;32mfrom\u001b[0m \u001b[0merr\u001b[0m\u001b[0;34m\u001b[0m\u001b[0;34m\u001b[0m\u001b[0m\n\u001b[0m\u001b[1;32m   3364\u001b[0m \u001b[0;34m\u001b[0m\u001b[0m\n\u001b[1;32m   3365\u001b[0m         \u001b[0;32mif\u001b[0m \u001b[0mis_scalar\u001b[0m\u001b[0;34m(\u001b[0m\u001b[0mkey\u001b[0m\u001b[0;34m)\u001b[0m \u001b[0;32mand\u001b[0m \u001b[0misna\u001b[0m\u001b[0;34m(\u001b[0m\u001b[0mkey\u001b[0m\u001b[0;34m)\u001b[0m \u001b[0;32mand\u001b[0m \u001b[0;32mnot\u001b[0m \u001b[0mself\u001b[0m\u001b[0;34m.\u001b[0m\u001b[0mhasnans\u001b[0m\u001b[0;34m:\u001b[0m\u001b[0;34m\u001b[0m\u001b[0;34m\u001b[0m\u001b[0m\n",
            "\u001b[0;31mKeyError\u001b[0m: 11704"
          ]
        }
      ],
      "source": [
        "test_sentence = df[\"bert_preprocessed\"][11704]\n",
        "print(\"Test sentence:\")\n",
        "print(test_sentence)\n",
        "print(\"Test sentence (word embedding):\")\n",
        "print(get_sentence_embeding([test_sentence]))"
      ]
    },
    {
      "cell_type": "markdown",
      "metadata": {
        "id": "T06BUvCuUuJ8"
      },
      "source": [
        "# Build model"
      ]
    },
    {
      "cell_type": "code",
      "execution_count": 14,
      "metadata": {
        "id": "rMwxDdFPQCiQ"
      },
      "outputs": [],
      "source": [
        "def build_model() -> tf.keras.Model:\n",
        "    # Bert layers\n",
        "    text_input = tf.keras.layers.Input(shape=(), dtype=tf.string, name='text')\n",
        "    preprocessed_text = bert_preprocess(text_input)\n",
        "    outputs = bert_encoder(preprocessed_text)\n",
        "\n",
        "    # Neural network layers\n",
        "    l = tf.keras.layers.Dropout(0.1, name=\"dropout\")(outputs['pooled_output'])\n",
        "    l = tf.keras.layers.Dense(1, activation='sigmoid', name=\"output\")(l)\n",
        "\n",
        "    # Softmax is shit for this binary classification problem. Event though the literature suggest this activation function for binary class problem\n",
        "    #l = tf.keras.layers.Dense(1, activation='softmax', name=\"output\")(l) \n",
        "\n",
        "    # Use inputs and outputs to construct a final model\n",
        "    model = tf.keras.Model(inputs=[text_input], outputs = [l])\n",
        "\n",
        "    #model.summary()\n",
        "\n",
        "    return model"
      ]
    },
    {
      "cell_type": "code",
      "execution_count": null,
      "metadata": {
        "id": "OXsa_dHHU1_n",
        "colab": {
          "base_uri": "https://localhost:8080/"
        },
        "outputId": "9a167f18-9787-4b4d-8dc9-ea3b690ab078"
      },
      "outputs": [
        {
          "output_type": "stream",
          "name": "stdout",
          "text": [
            "Combinations: 45\n",
            "Try adam learning rate of: 0.001\n",
            "Epoch 1/5\n",
            "94/94 [==============================] - 38s 306ms/step - loss: 0.6259 - accuracy: 0.6470 - precision: 0.6365 - recall: 0.6943\n",
            "Epoch 2/5\n",
            "94/94 [==============================] - 29s 311ms/step - loss: 0.5231 - accuracy: 0.7667 - precision: 0.7488 - recall: 0.8064\n",
            "Epoch 3/5\n",
            "94/94 [==============================] - 29s 310ms/step - loss: 0.4701 - accuracy: 0.7987 - precision: 0.7776 - recall: 0.8395\n",
            "Epoch 4/5\n",
            "94/94 [==============================] - 29s 308ms/step - loss: 0.4403 - accuracy: 0.8157 - precision: 0.8032 - recall: 0.8389\n",
            "Epoch 5/5\n",
            "94/94 [==============================] - 29s 309ms/step - loss: 0.4143 - accuracy: 0.8323 - precision: 0.8170 - recall: 0.8588\n",
            "Try adam learning rate of: 0.0012000000000000001\n",
            "Epoch 1/5\n",
            "94/94 [==============================] - 31s 309ms/step - loss: 0.6285 - accuracy: 0.7387 - precision: 0.7253 - recall: 0.7729\n",
            "Epoch 2/5\n",
            "94/94 [==============================] - 29s 310ms/step - loss: 0.5203 - accuracy: 0.7667 - precision: 0.7500 - recall: 0.8037\n",
            "Epoch 3/5\n",
            "94/94 [==============================] - 29s 309ms/step - loss: 0.4595 - accuracy: 0.8077 - precision: 0.7900 - recall: 0.8408\n",
            "Epoch 4/5\n",
            "94/94 [==============================] - 29s 308ms/step - loss: 0.4208 - accuracy: 0.8383 - precision: 0.8223 - recall: 0.8654\n",
            "Epoch 5/5\n",
            "94/94 [==============================] - 29s 310ms/step - loss: 0.3936 - accuracy: 0.8400 - precision: 0.8299 - recall: 0.8574\n",
            "Try adam learning rate of: 0.0014000000000000002\n",
            "Epoch 1/5\n",
            "94/94 [==============================] - 31s 309ms/step - loss: 0.6020 - accuracy: 0.7600 - precision: 0.7435 - recall: 0.7977\n",
            "Epoch 2/5\n",
            "94/94 [==============================] - 29s 309ms/step - loss: 0.4829 - accuracy: 0.7940 - precision: 0.7799 - recall: 0.8223\n",
            "Epoch 3/5\n",
            "94/94 [==============================] - 29s 307ms/step - loss: 0.4297 - accuracy: 0.8283 - precision: 0.8074 - recall: 0.8647\n",
            "Epoch 4/5\n",
            "94/94 [==============================] - 29s 310ms/step - loss: 0.4074 - accuracy: 0.8380 - precision: 0.8310 - recall: 0.8508\n",
            "Epoch 5/5\n",
            "94/94 [==============================] - 29s 309ms/step - loss: 0.3778 - accuracy: 0.8520 - precision: 0.8402 - recall: 0.8714\n",
            "Try adam learning rate of: 0.0016000000000000003\n",
            "Epoch 1/5\n",
            "94/94 [==============================] - 32s 312ms/step - loss: 0.6171 - accuracy: 0.7552 - precision: 0.7442 - recall: 0.7815\n",
            "Epoch 2/5\n",
            "94/94 [==============================] - 29s 312ms/step - loss: 0.4844 - accuracy: 0.7967 - precision: 0.7799 - recall: 0.8296\n",
            "Epoch 3/5\n",
            "94/94 [==============================] - 29s 310ms/step - loss: 0.4305 - accuracy: 0.8247 - precision: 0.8123 - recall: 0.8468\n",
            "Epoch 4/5\n",
            "94/94 [==============================] - 29s 311ms/step - loss: 0.3927 - accuracy: 0.8423 - precision: 0.8286 - recall: 0.8654\n",
            "Epoch 5/5\n",
            "94/94 [==============================] - 29s 311ms/step - loss: 0.3723 - accuracy: 0.8523 - precision: 0.8385 - recall: 0.8747\n",
            "Try adam learning rate of: 0.0018000000000000004\n",
            "Epoch 1/5\n",
            "94/94 [==============================] - 32s 310ms/step - loss: 0.5790 - accuracy: 0.7783 - precision: 0.7654 - recall: 0.8060\n",
            "Epoch 2/5\n",
            "94/94 [==============================] - 29s 311ms/step - loss: 0.4628 - accuracy: 0.8027 - precision: 0.7884 - recall: 0.8302\n",
            "Epoch 3/5\n",
            "94/94 [==============================] - 29s 310ms/step - loss: 0.4061 - accuracy: 0.8423 - precision: 0.8261 - recall: 0.8694\n",
            "Epoch 4/5\n",
            "94/94 [==============================] - 29s 311ms/step - loss: 0.3756 - accuracy: 0.8520 - precision: 0.8406 - recall: 0.8707\n",
            "Epoch 5/5\n",
            "94/94 [==============================] - 29s 310ms/step - loss: 0.3610 - accuracy: 0.8537 - precision: 0.8473 - recall: 0.8647\n",
            "Try adam learning rate of: 0.0020000000000000005\n",
            "Epoch 1/5\n",
            "94/94 [==============================] - 31s 310ms/step - loss: 0.5979 - accuracy: 0.7647 - precision: 0.7508 - recall: 0.7961\n",
            "Epoch 2/5\n",
            "94/94 [==============================] - 29s 311ms/step - loss: 0.4606 - accuracy: 0.8110 - precision: 0.7935 - recall: 0.8435\n",
            "Epoch 3/5\n",
            "94/94 [==============================] - 29s 311ms/step - loss: 0.4090 - accuracy: 0.8373 - precision: 0.8244 - recall: 0.8594\n",
            "Epoch 4/5\n",
            "94/94 [==============================] - 29s 311ms/step - loss: 0.3967 - accuracy: 0.8280 - precision: 0.8192 - recall: 0.8442\n",
            "Epoch 5/5\n",
            "94/94 [==============================] - 29s 311ms/step - loss: 0.3641 - accuracy: 0.8520 - precision: 0.8389 - recall: 0.8733\n",
            "Try adam learning rate of: 0.0022000000000000006\n",
            "Epoch 1/5\n",
            "94/94 [==============================] - 32s 311ms/step - loss: 0.6176 - accuracy: 0.7543 - precision: 0.7438 - recall: 0.7798\n",
            "Epoch 2/5\n",
            "94/94 [==============================] - 29s 312ms/step - loss: 0.4783 - accuracy: 0.7937 - precision: 0.7829 - recall: 0.8156\n",
            "Epoch 3/5\n",
            "94/94 [==============================] - 29s 311ms/step - loss: 0.4150 - accuracy: 0.8227 - precision: 0.8104 - recall: 0.8448\n",
            "Epoch 4/5\n",
            "94/94 [==============================] - 29s 311ms/step - loss: 0.3825 - accuracy: 0.8463 - precision: 0.8311 - recall: 0.8714\n",
            "Epoch 5/5\n",
            "94/94 [==============================] - 29s 311ms/step - loss: 0.3563 - accuracy: 0.8583 - precision: 0.8438 - recall: 0.8813\n",
            "Try adam learning rate of: 0.0024000000000000007\n",
            "Epoch 1/5\n",
            "94/94 [==============================] - 32s 310ms/step - loss: 0.5904 - accuracy: 0.7747 - precision: 0.7584 - recall: 0.8097\n",
            "Epoch 2/5\n",
            "94/94 [==============================] - 29s 310ms/step - loss: 0.4533 - accuracy: 0.8093 - precision: 0.7955 - recall: 0.8355\n",
            "Epoch 3/5\n",
            "94/94 [==============================] - 29s 311ms/step - loss: 0.4024 - accuracy: 0.8357 - precision: 0.8218 - recall: 0.8594\n",
            "Epoch 4/5\n",
            "94/94 [==============================] - 29s 312ms/step - loss: 0.3780 - accuracy: 0.8387 - precision: 0.8295 - recall: 0.8548\n",
            "Epoch 5/5\n",
            "94/94 [==============================] - 29s 310ms/step - loss: 0.3493 - accuracy: 0.8580 - precision: 0.8450 - recall: 0.8786\n",
            "Try adam learning rate of: 0.0026000000000000007\n",
            "Epoch 1/5\n",
            "94/94 [==============================] - 31s 306ms/step - loss: 0.5786 - accuracy: 0.7787 - precision: 0.7652 - recall: 0.8074\n",
            "Epoch 2/5\n",
            "94/94 [==============================] - 29s 306ms/step - loss: 0.4561 - accuracy: 0.8023 - precision: 0.7897 - recall: 0.8269\n",
            "Epoch 3/5\n",
            "94/94 [==============================] - 29s 309ms/step - loss: 0.3893 - accuracy: 0.8473 - precision: 0.8361 - recall: 0.8660\n",
            "Epoch 4/5\n",
            "94/94 [==============================] - 29s 309ms/step - loss: 0.3684 - accuracy: 0.8550 - precision: 0.8419 - recall: 0.8760\n",
            "Epoch 5/5\n",
            "94/94 [==============================] - 29s 309ms/step - loss: 0.3543 - accuracy: 0.8503 - precision: 0.8450 - recall: 0.8601\n",
            "Try adam learning rate of: 0.002800000000000001\n",
            "Epoch 1/5\n",
            "94/94 [==============================] - 32s 310ms/step - loss: 0.5851 - accuracy: 0.7745 - precision: 0.7642 - recall: 0.7974\n",
            "Epoch 2/5\n",
            "94/94 [==============================] - 29s 310ms/step - loss: 0.4561 - accuracy: 0.7987 - precision: 0.7890 - recall: 0.8183\n",
            "Epoch 3/5\n",
            "94/94 [==============================] - 29s 310ms/step - loss: 0.3922 - accuracy: 0.8450 - precision: 0.8324 - recall: 0.8660\n",
            "Epoch 4/5\n",
            "94/94 [==============================] - 29s 310ms/step - loss: 0.3610 - accuracy: 0.8600 - precision: 0.8523 - recall: 0.8727\n",
            "Epoch 5/5\n",
            "94/94 [==============================] - 29s 310ms/step - loss: 0.3498 - accuracy: 0.8620 - precision: 0.8524 - recall: 0.8773\n",
            "Try adam learning rate of: 0.003000000000000001\n",
            "Epoch 1/5\n",
            "94/94 [==============================] - 31s 304ms/step - loss: 0.5818 - accuracy: 0.7802 - precision: 0.7701 - recall: 0.8021\n",
            "Epoch 2/5\n",
            "94/94 [==============================] - 29s 306ms/step - loss: 0.4357 - accuracy: 0.8217 - precision: 0.8081 - recall: 0.8462\n",
            "Epoch 3/5\n",
            "94/94 [==============================] - 29s 308ms/step - loss: 0.3926 - accuracy: 0.8383 - precision: 0.8231 - recall: 0.8641\n",
            "Epoch 4/5\n",
            "94/94 [==============================] - 29s 309ms/step - loss: 0.3543 - accuracy: 0.8630 - precision: 0.8496 - recall: 0.8840\n",
            "Epoch 5/5\n",
            "94/94 [==============================] - 29s 310ms/step - loss: 0.3453 - accuracy: 0.8533 - precision: 0.8419 - recall: 0.8720\n",
            "Try adam learning rate of: 0.003200000000000001\n",
            "Epoch 1/5\n",
            "94/94 [==============================] - 32s 303ms/step - loss: 0.5849 - accuracy: 0.7723 - precision: 0.7588 - recall: 0.8021\n",
            "Epoch 2/5\n",
            "94/94 [==============================] - 29s 305ms/step - loss: 0.4553 - accuracy: 0.7843 - precision: 0.7730 - recall: 0.8084\n",
            "Epoch 3/5\n",
            "94/94 [==============================] - 29s 306ms/step - loss: 0.3832 - accuracy: 0.8493 - precision: 0.8402 - recall: 0.8647\n",
            "Epoch 4/5\n",
            "94/94 [==============================] - 29s 308ms/step - loss: 0.3565 - accuracy: 0.8590 - precision: 0.8462 - recall: 0.8793\n",
            "Epoch 5/5\n",
            "94/94 [==============================] - 29s 309ms/step - loss: 0.3318 - accuracy: 0.8710 - precision: 0.8591 - recall: 0.8893\n",
            "Try adam learning rate of: 0.003400000000000001\n",
            "Epoch 1/5\n",
            "94/94 [==============================] - 32s 311ms/step - loss: 0.5538 - accuracy: 0.7965 - precision: 0.7845 - recall: 0.8206\n",
            "Epoch 2/5\n",
            "94/94 [==============================] - 29s 310ms/step - loss: 0.4303 - accuracy: 0.8153 - precision: 0.8085 - recall: 0.8289\n",
            "Epoch 3/5\n",
            "94/94 [==============================] - 29s 310ms/step - loss: 0.3682 - accuracy: 0.8567 - precision: 0.8473 - recall: 0.8720\n",
            "Epoch 4/5\n",
            "94/94 [==============================] - 29s 310ms/step - loss: 0.3475 - accuracy: 0.8593 - precision: 0.8445 - recall: 0.8826\n",
            "Epoch 5/5\n",
            "94/94 [==============================] - 29s 311ms/step - loss: 0.3311 - accuracy: 0.8677 - precision: 0.8591 - recall: 0.8813\n",
            "Try adam learning rate of: 0.003600000000000001\n",
            "Epoch 1/5\n",
            "94/94 [==============================] - 32s 311ms/step - loss: 0.5648 - accuracy: 0.7918 - precision: 0.7774 - recall: 0.8210\n",
            "Epoch 2/5\n",
            "94/94 [==============================] - 29s 311ms/step - loss: 0.4108 - accuracy: 0.8347 - precision: 0.8248 - recall: 0.8521\n",
            "Epoch 3/5\n",
            "94/94 [==============================] - 29s 311ms/step - loss: 0.3681 - accuracy: 0.8540 - precision: 0.8416 - recall: 0.8740\n",
            "Epoch 4/5\n",
            "94/94 [==============================] - 29s 310ms/step - loss: 0.3501 - accuracy: 0.8620 - precision: 0.8524 - recall: 0.8773\n",
            "Epoch 5/5\n",
            "94/94 [==============================] - 29s 310ms/step - loss: 0.3214 - accuracy: 0.8727 - precision: 0.8628 - recall: 0.8879\n",
            "Try adam learning rate of: 0.0038000000000000013\n",
            "Epoch 1/5\n",
            "94/94 [==============================] - 32s 310ms/step - loss: 0.5830 - accuracy: 0.7767 - precision: 0.7657 - recall: 0.8007\n",
            "Epoch 2/5\n",
            "94/94 [==============================] - 29s 309ms/step - loss: 0.4266 - accuracy: 0.8200 - precision: 0.8151 - recall: 0.8302\n",
            "Epoch 3/5\n",
            "94/94 [==============================] - 29s 310ms/step - loss: 0.3804 - accuracy: 0.8427 - precision: 0.8386 - recall: 0.8508\n",
            "Epoch 4/5\n",
            "94/94 [==============================] - 29s 310ms/step - loss: 0.3500 - accuracy: 0.8650 - precision: 0.8524 - recall: 0.8846\n",
            "Epoch 5/5\n",
            "94/94 [==============================] - 29s 311ms/step - loss: 0.3329 - accuracy: 0.8633 - precision: 0.8524 - recall: 0.8806\n",
            "Try adam learning rate of: 0.004000000000000002\n",
            "Epoch 1/5\n",
            "94/94 [==============================] - 31s 310ms/step - loss: 0.5407 - accuracy: 0.7897 - precision: 0.7816 - recall: 0.8070\n",
            "Epoch 2/5\n",
            "94/94 [==============================] - 29s 311ms/step - loss: 0.4106 - accuracy: 0.8340 - precision: 0.8192 - recall: 0.8594\n",
            "Epoch 3/5\n",
            "94/94 [==============================] - 29s 311ms/step - loss: 0.3622 - accuracy: 0.8570 - precision: 0.8474 - recall: 0.8727\n",
            "Epoch 4/5\n",
            "94/94 [==============================] - 29s 311ms/step - loss: 0.3302 - accuracy: 0.8690 - precision: 0.8567 - recall: 0.8879\n",
            "Epoch 5/5\n",
            "94/94 [==============================] - 29s 311ms/step - loss: 0.3201 - accuracy: 0.8700 - precision: 0.8625 - recall: 0.8820\n",
            "Try adam learning rate of: 0.0042000000000000015\n",
            "Epoch 1/5\n",
            "94/94 [==============================] - 32s 312ms/step - loss: 0.5457 - accuracy: 0.7908 - precision: 0.7812 - recall: 0.8110\n",
            "Epoch 2/5\n",
            "94/94 [==============================] - 29s 312ms/step - loss: 0.4230 - accuracy: 0.8160 - precision: 0.8108 - recall: 0.8269\n",
            "Epoch 3/5\n",
            "94/94 [==============================] - 29s 312ms/step - loss: 0.3615 - accuracy: 0.8543 - precision: 0.8430 - recall: 0.8727\n",
            "Epoch 4/5\n",
            "94/94 [==============================] - 29s 311ms/step - loss: 0.3446 - accuracy: 0.8587 - precision: 0.8452 - recall: 0.8800\n",
            "Epoch 5/5\n",
            "94/94 [==============================] - 29s 311ms/step - loss: 0.3184 - accuracy: 0.8747 - precision: 0.8666 - recall: 0.8873\n",
            "Try adam learning rate of: 0.004400000000000001\n",
            "Epoch 1/5\n",
            "94/94 [==============================] - 31s 311ms/step - loss: 0.5515 - accuracy: 0.8027 - precision: 0.7945 - recall: 0.8193\n",
            "Epoch 2/5\n",
            "94/94 [==============================] - 29s 311ms/step - loss: 0.4017 - accuracy: 0.8327 - precision: 0.8262 - recall: 0.8448\n",
            "Epoch 3/5\n",
            "94/94 [==============================] - 29s 311ms/step - loss: 0.3616 - accuracy: 0.8573 - precision: 0.8479 - recall: 0.8727\n",
            "Epoch 4/5\n",
            "94/94 [==============================] - 29s 310ms/step - loss: 0.3354 - accuracy: 0.8677 - precision: 0.8605 - recall: 0.8793\n",
            "Epoch 5/5\n",
            "94/94 [==============================] - 29s 311ms/step - loss: 0.3354 - accuracy: 0.8513 - precision: 0.8417 - recall: 0.8674\n",
            "Try adam learning rate of: 0.004600000000000002\n",
            "Epoch 1/5\n",
            "94/94 [==============================] - 32s 311ms/step - loss: 0.5667 - accuracy: 0.7808 - precision: 0.7722 - recall: 0.8001\n",
            "Epoch 2/5\n",
            "94/94 [==============================] - 29s 310ms/step - loss: 0.4018 - accuracy: 0.8337 - precision: 0.8215 - recall: 0.8548\n",
            "Epoch 3/5\n",
            "94/94 [==============================] - 29s 310ms/step - loss: 0.3710 - accuracy: 0.8467 - precision: 0.8338 - recall: 0.8680\n",
            "Epoch 4/5\n",
            "94/94 [==============================] - 29s 310ms/step - loss: 0.3344 - accuracy: 0.8643 - precision: 0.8568 - recall: 0.8767\n",
            "Epoch 5/5\n",
            "94/94 [==============================] - 29s 311ms/step - loss: 0.3322 - accuracy: 0.8650 - precision: 0.8542 - recall: 0.8820\n",
            "Try adam learning rate of: 0.004800000000000002\n",
            "Epoch 1/5\n",
            "94/94 [==============================] - 32s 311ms/step - loss: 0.5252 - accuracy: 0.8010 - precision: 0.7874 - recall: 0.8276\n",
            "Epoch 2/5\n",
            "94/94 [==============================] - 29s 312ms/step - loss: 0.3985 - accuracy: 0.8270 - precision: 0.8124 - recall: 0.8528\n",
            "Epoch 3/5\n",
            "94/94 [==============================] - 29s 311ms/step - loss: 0.3460 - accuracy: 0.8557 - precision: 0.8479 - recall: 0.8687\n",
            "Epoch 4/5\n",
            "94/94 [==============================] - 29s 310ms/step - loss: 0.3217 - accuracy: 0.8733 - precision: 0.8643 - recall: 0.8873\n",
            "Epoch 5/5\n",
            "94/94 [==============================] - 29s 310ms/step - loss: 0.3130 - accuracy: 0.8713 - precision: 0.8619 - recall: 0.8859\n",
            "Try adam learning rate of: 0.005000000000000002\n",
            "Epoch 1/5\n",
            "94/94 [==============================] - 31s 305ms/step - loss: 0.5662 - accuracy: 0.7917 - precision: 0.7837 - recall: 0.8087\n",
            "Epoch 2/5\n",
            "94/94 [==============================] - 29s 306ms/step - loss: 0.4160 - accuracy: 0.8213 - precision: 0.8131 - recall: 0.8369\n",
            "Epoch 3/5\n",
            "94/94 [==============================] - 29s 308ms/step - loss: 0.3616 - accuracy: 0.8537 - precision: 0.8451 - recall: 0.8680\n",
            "Epoch 4/5\n",
            "94/94 [==============================] - 29s 308ms/step - loss: 0.3311 - accuracy: 0.8667 - precision: 0.8533 - recall: 0.8873\n",
            "Epoch 5/5\n",
            "94/94 [==============================] - 29s 310ms/step - loss: 0.3177 - accuracy: 0.8770 - precision: 0.8696 - recall: 0.8886\n",
            "Try adam learning rate of: 0.005200000000000002\n",
            "Epoch 1/5\n",
            "94/94 [==============================] - 31s 303ms/step - loss: 0.5431 - accuracy: 0.7975 - precision: 0.7908 - recall: 0.8120\n",
            "Epoch 2/5\n",
            "94/94 [==============================] - 29s 306ms/step - loss: 0.4013 - accuracy: 0.8287 - precision: 0.8248 - recall: 0.8369\n",
            "Epoch 3/5\n",
            "94/94 [==============================] - 29s 307ms/step - loss: 0.3460 - accuracy: 0.8617 - precision: 0.8465 - recall: 0.8853\n",
            "Epoch 4/5\n",
            "94/94 [==============================] - 29s 308ms/step - loss: 0.3419 - accuracy: 0.8560 - precision: 0.8484 - recall: 0.8687\n",
            "Epoch 5/5\n",
            "94/94 [==============================] - 29s 310ms/step - loss: 0.3276 - accuracy: 0.8667 - precision: 0.8579 - recall: 0.8806\n",
            "Try adam learning rate of: 0.005400000000000002\n",
            "Epoch 1/5\n",
            "94/94 [==============================] - 33s 303ms/step - loss: 0.5662 - accuracy: 0.7818 - precision: 0.7758 - recall: 0.7961\n",
            "Epoch 2/5\n",
            "94/94 [==============================] - 29s 305ms/step - loss: 0.4074 - accuracy: 0.8220 - precision: 0.8130 - recall: 0.8389\n",
            "Epoch 3/5\n",
            "94/94 [==============================] - 29s 307ms/step - loss: 0.3590 - accuracy: 0.8577 - precision: 0.8471 - recall: 0.8747\n",
            "Epoch 4/5\n",
            "94/94 [==============================] - 29s 309ms/step - loss: 0.3374 - accuracy: 0.8540 - precision: 0.8465 - recall: 0.8667\n",
            "Epoch 5/5\n",
            "94/94 [==============================] - 29s 309ms/step - loss: 0.3073 - accuracy: 0.8747 - precision: 0.8605 - recall: 0.8959\n",
            "Try adam learning rate of: 0.005600000000000002\n",
            "Epoch 1/5\n",
            "94/94 [==============================] - 31s 303ms/step - loss: 0.5583 - accuracy: 0.7993 - precision: 0.7851 - recall: 0.8273\n",
            "Epoch 2/5\n",
            "94/94 [==============================] - 29s 306ms/step - loss: 0.4021 - accuracy: 0.8293 - precision: 0.8209 - recall: 0.8448\n",
            "Epoch 3/5\n",
            "94/94 [==============================] - 29s 306ms/step - loss: 0.3550 - accuracy: 0.8617 - precision: 0.8510 - recall: 0.8786\n",
            "Epoch 4/5\n",
            "94/94 [==============================] - 29s 307ms/step - loss: 0.3334 - accuracy: 0.8640 - precision: 0.8562 - recall: 0.8767\n",
            "Epoch 5/5\n",
            "94/94 [==============================] - 29s 309ms/step - loss: 0.3050 - accuracy: 0.8760 - precision: 0.8622 - recall: 0.8966\n",
            "Try adam learning rate of: 0.005800000000000002\n",
            "Epoch 1/5\n",
            "94/94 [==============================] - 31s 308ms/step - loss: 0.5442 - accuracy: 0.8055 - precision: 0.7945 - recall: 0.8269\n",
            "Epoch 2/5\n",
            "94/94 [==============================] - 29s 309ms/step - loss: 0.4012 - accuracy: 0.8330 - precision: 0.8250 - recall: 0.8475\n",
            "Epoch 3/5\n",
            "74/94 [======================>.......] - ETA: 6s - loss: 0.3633 - accuracy: 0.8383 - precision: 0.8285 - recall: 0.8582"
          ]
        }
      ],
      "source": [
        "import numpy as np\n",
        "EPOCHS = 5\n",
        "\n",
        "METRICS = [\n",
        "      tf.keras.metrics.BinaryAccuracy(name='accuracy'),\n",
        "      tf.keras.metrics.Precision(name='precision'),\n",
        "      tf.keras.metrics.Recall(name='recall'),\n",
        "]\n",
        "\n",
        "#model.compile(optimizer='adam',\n",
        "#              loss='binary_crossentropy',\n",
        "#              metrics=METRICS)\n",
        "\n",
        "lrs = np.arange(1e-3, 1e-2, 0.0002)\n",
        "print(f\"Combinations: {len(lrs)}\")\n",
        "for lr in lrs:\n",
        "    model: tf.keras.Model = build_model()\n",
        "\n",
        "    print(f\"Try adam learning rate of: {lr}\")\n",
        "\n",
        "    model.compile(optimizer=tf.keras.optimizers.Adam(learning_rate=lr),\n",
        "                  loss=tf.keras.losses.BinaryCrossentropy(),\n",
        "                  metrics=METRICS)\n",
        "    \n",
        "    model.fit(X_train, y_train, epochs=EPOCHS)"
      ]
    },
    {
      "cell_type": "code",
      "execution_count": null,
      "metadata": {
        "id": "pljz8LROU6EQ"
      },
      "outputs": [],
      "source": [
        ""
      ]
    },
    {
      "cell_type": "code",
      "execution_count": null,
      "metadata": {
        "id": "43I8YDy9tFru"
      },
      "outputs": [],
      "source": [
        "model.evaluate(X_test, y_test)"
      ]
    },
    {
      "cell_type": "code",
      "execution_count": null,
      "metadata": {
        "id": "vBU2uWMNWSQG"
      },
      "outputs": [],
      "source": [
        "#model.save_weights(\"/content/drive/MyDrive/Data Mining/bert_seperator/weights.md5\")"
      ]
    },
    {
      "cell_type": "code",
      "execution_count": null,
      "metadata": {
        "id": "bVrmb6LmtagI"
      },
      "outputs": [],
      "source": [
        "y_predicted = model.predict(X_test)\n",
        "y_predicted = y_predicted.flatten()"
      ]
    },
    {
      "cell_type": "code",
      "execution_count": null,
      "metadata": {
        "id": "nHmJQUuVta27"
      },
      "outputs": [],
      "source": [
        "import numpy as np\n",
        "\n",
        "y_predicted = np.where(y_predicted > 0.5, 1, 0)\n",
        "y_predicted"
      ]
    },
    {
      "cell_type": "code",
      "execution_count": null,
      "metadata": {
        "id": "HoxJt4-stby7"
      },
      "outputs": [],
      "source": [
        "from sklearn.metrics import confusion_matrix, classification_report\n",
        "\n",
        "cm = confusion_matrix(y_test, y_predicted)\n",
        "cm "
      ]
    },
    {
      "cell_type": "code",
      "execution_count": null,
      "metadata": {
        "id": "Wrzo6iHItcp7"
      },
      "outputs": [],
      "source": [
        "from matplotlib import pyplot as plt\n",
        "import seaborn as sn\n",
        "sn.heatmap(cm, annot=True, fmt='d')\n",
        "plt.xlabel('Predicted')\n",
        "plt.ylabel('Truth')"
      ]
    },
    {
      "cell_type": "code",
      "execution_count": null,
      "metadata": {
        "id": "h578m23Vtdt7"
      },
      "outputs": [],
      "source": [
        "print(classification_report(y_test, y_predicted))"
      ]
    },
    {
      "cell_type": "markdown",
      "metadata": {
        "id": "LEO8LnVatlir"
      },
      "source": [
        "# Own test"
      ]
    },
    {
      "cell_type": "code",
      "execution_count": null,
      "metadata": {
        "id": "nHjckUgBtgHL"
      },
      "outputs": [],
      "source": [
        "jokes = [\n",
        "    'What’s the best thing about Switzerland? I don’t know, but the flag is a big plus.',\n",
        "    'I study Business Informatics at the University of Mannheim!',\n",
        "    'I invented a new word! Plagiarism!',\n",
        "    'Did you hear about the mathematician who’s afraid of negative numbers? He’ll stop at nothing to avoid them.',\n",
        "    'My name is Elias.'\n",
        "]\n",
        "\n",
        "jokes_processed = [\" \".join(list(tokenizer.convert_ids_to_tokens(tokenizer.encode(i, add_special_tokens=True, max_length=MAX_LEN, truncation=True)))) for i in jokes]\n",
        "\n",
        "model.predict(jokes_processed)"
      ]
    },
    {
      "cell_type": "code",
      "execution_count": null,
      "metadata": {
        "id": "ybRqB9cdt9uL"
      },
      "outputs": [],
      "source": [
        ""
      ]
    }
  ],
  "metadata": {
    "accelerator": "GPU",
    "colab": {
      "collapsed_sections": [],
      "name": "Kopie von ANN with BERT.ipynb",
      "provenance": [],
      "include_colab_link": true
    },
    "kernelspec": {
      "display_name": "Python 3",
      "name": "python3"
    },
    "language_info": {
      "name": "python"
    }
  },
  "nbformat": 4,
  "nbformat_minor": 0
}