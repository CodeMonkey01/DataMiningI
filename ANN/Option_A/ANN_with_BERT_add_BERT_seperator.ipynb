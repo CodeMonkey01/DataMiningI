{
  "cells": [
    {
      "cell_type": "markdown",
      "metadata": {
        "id": "view-in-github",
        "colab_type": "text"
      },
      "source": [
        "<a href=\"https://colab.research.google.com/github/CodeMonkey01/DataMiningI/blob/main/ANN/Option_A/ANN_with_BERT_add_BERT_seperator.ipynb\" target=\"_parent\"><img src=\"https://colab.research.google.com/assets/colab-badge.svg\" alt=\"Open In Colab\"/></a>"
      ]
    },
    {
      "cell_type": "markdown",
      "metadata": {
        "id": "4oym-u7JY-lc"
      },
      "source": [
        "# ANN with BERT\n",
        "In this notebook I tried to solve the classification model with an ANN based on pretrained BERT layers.\n",
        "\n",
        "## TODO:\n",
        "- [ ] Stemming\n",
        "- [ ] Remove Stop Words\n",
        "- [x] BERT Seperator\n",
        "\n",
        "## Results\n",
        "### Result with no hyperparamater optimization\n",
        "accuracy: 0.9297 - precision: 0.9260 - recall: 0.9341\n",
        "\n",
        "### Result with hyperparamater optimization\n",
        "accuracy: 0.9290 - precision: 0.9125 - recall: 0.9494\n",
        "\n",
        "### Result with hyperparamater optimization and cross val\n",
        "Accuracy: 0.9284850060939789\n",
        "Precision: 0.9364166557788849\n",
        "Recall: 0.9201099872589111\n",
        "\n",
        "## Model\n",
        "Link to the model: https://drive.google.com/file/d/1-DcCa5FowzP-bHRPYxY7t0MAwo5gnBjN/view?usp=sharing, https://drive.google.com/file/d/1-IqI6Xf3s4oU5Eer6D46Hdn3405qw8uD/view?usp=sharing "
      ]
    },
    {
      "cell_type": "code",
      "execution_count": 1,
      "metadata": {
        "colab": {
          "base_uri": "https://localhost:8080/"
        },
        "id": "o41yey4xPvVp",
        "outputId": "6d7a87b3-f0ce-4248-ad55-ada33f0d1a29"
      },
      "outputs": [
        {
          "output_type": "stream",
          "name": "stdout",
          "text": [
            "Mounted at /content/drive/\n",
            "/content/drive/MyDrive\n",
            "Tue May 24 06:10:11 2022       \n",
            "+-----------------------------------------------------------------------------+\n",
            "| NVIDIA-SMI 460.32.03    Driver Version: 460.32.03    CUDA Version: 11.2     |\n",
            "|-------------------------------+----------------------+----------------------+\n",
            "| GPU  Name        Persistence-M| Bus-Id        Disp.A | Volatile Uncorr. ECC |\n",
            "| Fan  Temp  Perf  Pwr:Usage/Cap|         Memory-Usage | GPU-Util  Compute M. |\n",
            "|                               |                      |               MIG M. |\n",
            "|===============================+======================+======================|\n",
            "|   0  Tesla T4            Off  | 00000000:00:04.0 Off |                    0 |\n",
            "| N/A   56C    P8    10W /  70W |      0MiB / 15109MiB |      0%      Default |\n",
            "|                               |                      |                  N/A |\n",
            "+-------------------------------+----------------------+----------------------+\n",
            "                                                                               \n",
            "+-----------------------------------------------------------------------------+\n",
            "| Processes:                                                                  |\n",
            "|  GPU   GI   CI        PID   Type   Process name                  GPU Memory |\n",
            "|        ID   ID                                                   Usage      |\n",
            "|=============================================================================|\n",
            "|  No running processes found                                                 |\n",
            "+-----------------------------------------------------------------------------+\n"
          ]
        }
      ],
      "source": [
        "try:\n",
        "    from google.colab import drive\n",
        "    drive.mount('/content/drive/')\n",
        "    %cd '/content/drive/MyDrive/'\n",
        "\n",
        "    gpu_info = !nvidia-smi\n",
        "    gpu_info = '\\n'.join(gpu_info)\n",
        "    if gpu_info.find('failed') >= 0:\n",
        "      print('Not connected to a GPU')\n",
        "    else:\n",
        "      print(gpu_info)\n",
        "except ImportError as e:\n",
        "    pass"
      ]
    },
    {
      "cell_type": "code",
      "execution_count": null,
      "metadata": {
        "colab": {
          "base_uri": "https://localhost:8080/"
        },
        "id": "zPNfsRkESPvi",
        "outputId": "2bdb0e61-2fdf-4ffb-845d-7453b60a9a07"
      },
      "outputs": [
        {
          "output_type": "stream",
          "name": "stdout",
          "text": [
            "Looking in indexes: https://pypi.org/simple, https://us-python.pkg.dev/colab-wheels/public/simple/\n",
            "Collecting tensorflow_text\n",
            "  Downloading tensorflow_text-2.9.0-cp37-cp37m-manylinux_2_17_x86_64.manylinux2014_x86_64.whl (4.6 MB)\n",
            "\u001b[K     |████████████████████████████████| 4.6 MB 5.0 MB/s \n",
            "\u001b[?25hRequirement already satisfied: tensorflow-hub>=0.8.0 in /usr/local/lib/python3.7/dist-packages (from tensorflow_text) (0.12.0)\n",
            "Collecting tensorflow<2.10,>=2.9.0\n",
            "  Downloading https://us-python.pkg.dev/colab-wheels/public/tensorflow/tensorflow-2.9.1%2Bzzzcolab20220523102049-cp37-cp37m-linux_x86_64.whl\n",
            "\u001b[K     - 677.8 MB 405 kB/s\n",
            "\u001b[?25hRequirement already satisfied: grpcio<2.0,>=1.24.3 in /usr/local/lib/python3.7/dist-packages (from tensorflow<2.10,>=2.9.0->tensorflow_text) (1.46.1)\n",
            "Requirement already satisfied: numpy>=1.20 in /usr/local/lib/python3.7/dist-packages (from tensorflow<2.10,>=2.9.0->tensorflow_text) (1.21.6)\n",
            "Requirement already satisfied: typing-extensions>=3.6.6 in /usr/local/lib/python3.7/dist-packages (from tensorflow<2.10,>=2.9.0->tensorflow_text) (4.2.0)\n",
            "Requirement already satisfied: opt-einsum>=2.3.2 in /usr/local/lib/python3.7/dist-packages (from tensorflow<2.10,>=2.9.0->tensorflow_text) (3.3.0)\n",
            "Collecting flatbuffers<2,>=1.12\n",
            "  Downloading flatbuffers-1.12-py2.py3-none-any.whl (15 kB)\n",
            "Requirement already satisfied: h5py>=2.9.0 in /usr/local/lib/python3.7/dist-packages (from tensorflow<2.10,>=2.9.0->tensorflow_text) (3.1.0)\n",
            "Requirement already satisfied: wrapt>=1.11.0 in /usr/local/lib/python3.7/dist-packages (from tensorflow<2.10,>=2.9.0->tensorflow_text) (1.14.1)\n",
            "Collecting tensorboard<2.10,>=2.9\n",
            "  Downloading tensorboard-2.9.0-py3-none-any.whl (5.8 MB)\n",
            "\u001b[K     |████████████████████████████████| 5.8 MB 65.5 MB/s \n",
            "\u001b[?25hRequirement already satisfied: packaging in /usr/local/lib/python3.7/dist-packages (from tensorflow<2.10,>=2.9.0->tensorflow_text) (21.3)\n",
            "Requirement already satisfied: setuptools in /usr/local/lib/python3.7/dist-packages (from tensorflow<2.10,>=2.9.0->tensorflow_text) (57.4.0)\n",
            "Collecting keras<2.10.0,>=2.9.0rc0\n",
            "  Downloading keras-2.9.0-py2.py3-none-any.whl (1.6 MB)\n",
            "\u001b[K     |████████████████████████████████| 1.6 MB 67.6 MB/s \n",
            "\u001b[?25hRequirement already satisfied: absl-py>=1.0.0 in /usr/local/lib/python3.7/dist-packages (from tensorflow<2.10,>=2.9.0->tensorflow_text) (1.0.0)\n",
            "Requirement already satisfied: tensorflow-io-gcs-filesystem>=0.23.1 in /usr/local/lib/python3.7/dist-packages (from tensorflow<2.10,>=2.9.0->tensorflow_text) (0.26.0)\n",
            "Collecting gast<=0.4.0,>=0.2.1\n",
            "  Downloading gast-0.4.0-py3-none-any.whl (9.8 kB)\n",
            "Requirement already satisfied: protobuf<3.20,>=3.9.2 in /usr/local/lib/python3.7/dist-packages (from tensorflow<2.10,>=2.9.0->tensorflow_text) (3.17.3)\n",
            "Requirement already satisfied: google-pasta>=0.1.1 in /usr/local/lib/python3.7/dist-packages (from tensorflow<2.10,>=2.9.0->tensorflow_text) (0.2.0)\n",
            "Requirement already satisfied: libclang>=13.0.0 in /usr/local/lib/python3.7/dist-packages (from tensorflow<2.10,>=2.9.0->tensorflow_text) (14.0.1)\n",
            "Requirement already satisfied: astunparse>=1.6.0 in /usr/local/lib/python3.7/dist-packages (from tensorflow<2.10,>=2.9.0->tensorflow_text) (1.6.3)\n",
            "Requirement already satisfied: six>=1.12.0 in /usr/local/lib/python3.7/dist-packages (from tensorflow<2.10,>=2.9.0->tensorflow_text) (1.15.0)\n",
            "Collecting tensorflow-estimator<2.10.0,>=2.9.0rc0\n",
            "  Downloading tensorflow_estimator-2.9.0-py2.py3-none-any.whl (438 kB)\n",
            "\u001b[K     |████████████████████████████████| 438 kB 71.9 MB/s \n",
            "\u001b[?25hRequirement already satisfied: keras-preprocessing>=1.1.1 in /usr/local/lib/python3.7/dist-packages (from tensorflow<2.10,>=2.9.0->tensorflow_text) (1.1.2)\n",
            "Requirement already satisfied: termcolor>=1.1.0 in /usr/local/lib/python3.7/dist-packages (from tensorflow<2.10,>=2.9.0->tensorflow_text) (1.1.0)\n",
            "Requirement already satisfied: wheel<1.0,>=0.23.0 in /usr/local/lib/python3.7/dist-packages (from astunparse>=1.6.0->tensorflow<2.10,>=2.9.0->tensorflow_text) (0.37.1)\n",
            "Requirement already satisfied: cached-property in /usr/local/lib/python3.7/dist-packages (from h5py>=2.9.0->tensorflow<2.10,>=2.9.0->tensorflow_text) (1.5.2)\n",
            "Requirement already satisfied: requests<3,>=2.21.0 in /usr/local/lib/python3.7/dist-packages (from tensorboard<2.10,>=2.9->tensorflow<2.10,>=2.9.0->tensorflow_text) (2.23.0)\n",
            "Requirement already satisfied: google-auth<3,>=1.6.3 in /usr/local/lib/python3.7/dist-packages (from tensorboard<2.10,>=2.9->tensorflow<2.10,>=2.9.0->tensorflow_text) (1.35.0)\n",
            "Requirement already satisfied: google-auth-oauthlib<0.5,>=0.4.1 in /usr/local/lib/python3.7/dist-packages (from tensorboard<2.10,>=2.9->tensorflow<2.10,>=2.9.0->tensorflow_text) (0.4.6)\n",
            "Requirement already satisfied: tensorboard-plugin-wit>=1.6.0 in /usr/local/lib/python3.7/dist-packages (from tensorboard<2.10,>=2.9->tensorflow<2.10,>=2.9.0->tensorflow_text) (1.8.1)\n",
            "Requirement already satisfied: tensorboard-data-server<0.7.0,>=0.6.0 in /usr/local/lib/python3.7/dist-packages (from tensorboard<2.10,>=2.9->tensorflow<2.10,>=2.9.0->tensorflow_text) (0.6.1)\n",
            "Requirement already satisfied: werkzeug>=1.0.1 in /usr/local/lib/python3.7/dist-packages (from tensorboard<2.10,>=2.9->tensorflow<2.10,>=2.9.0->tensorflow_text) (1.0.1)\n",
            "Requirement already satisfied: markdown>=2.6.8 in /usr/local/lib/python3.7/dist-packages (from tensorboard<2.10,>=2.9->tensorflow<2.10,>=2.9.0->tensorflow_text) (3.3.7)\n",
            "Requirement already satisfied: pyasn1-modules>=0.2.1 in /usr/local/lib/python3.7/dist-packages (from google-auth<3,>=1.6.3->tensorboard<2.10,>=2.9->tensorflow<2.10,>=2.9.0->tensorflow_text) (0.2.8)\n",
            "Requirement already satisfied: rsa<5,>=3.1.4 in /usr/local/lib/python3.7/dist-packages (from google-auth<3,>=1.6.3->tensorboard<2.10,>=2.9->tensorflow<2.10,>=2.9.0->tensorflow_text) (4.8)\n",
            "Requirement already satisfied: cachetools<5.0,>=2.0.0 in /usr/local/lib/python3.7/dist-packages (from google-auth<3,>=1.6.3->tensorboard<2.10,>=2.9->tensorflow<2.10,>=2.9.0->tensorflow_text) (4.2.4)\n",
            "Requirement already satisfied: requests-oauthlib>=0.7.0 in /usr/local/lib/python3.7/dist-packages (from google-auth-oauthlib<0.5,>=0.4.1->tensorboard<2.10,>=2.9->tensorflow<2.10,>=2.9.0->tensorflow_text) (1.3.1)\n",
            "Requirement already satisfied: importlib-metadata>=4.4 in /usr/local/lib/python3.7/dist-packages (from markdown>=2.6.8->tensorboard<2.10,>=2.9->tensorflow<2.10,>=2.9.0->tensorflow_text) (4.11.3)\n",
            "Requirement already satisfied: zipp>=0.5 in /usr/local/lib/python3.7/dist-packages (from importlib-metadata>=4.4->markdown>=2.6.8->tensorboard<2.10,>=2.9->tensorflow<2.10,>=2.9.0->tensorflow_text) (3.8.0)\n",
            "Requirement already satisfied: pyasn1<0.5.0,>=0.4.6 in /usr/local/lib/python3.7/dist-packages (from pyasn1-modules>=0.2.1->google-auth<3,>=1.6.3->tensorboard<2.10,>=2.9->tensorflow<2.10,>=2.9.0->tensorflow_text) (0.4.8)\n",
            "Requirement already satisfied: certifi>=2017.4.17 in /usr/local/lib/python3.7/dist-packages (from requests<3,>=2.21.0->tensorboard<2.10,>=2.9->tensorflow<2.10,>=2.9.0->tensorflow_text) (2022.5.18.1)\n",
            "Requirement already satisfied: chardet<4,>=3.0.2 in /usr/local/lib/python3.7/dist-packages (from requests<3,>=2.21.0->tensorboard<2.10,>=2.9->tensorflow<2.10,>=2.9.0->tensorflow_text) (3.0.4)\n",
            "Requirement already satisfied: urllib3!=1.25.0,!=1.25.1,<1.26,>=1.21.1 in /usr/local/lib/python3.7/dist-packages (from requests<3,>=2.21.0->tensorboard<2.10,>=2.9->tensorflow<2.10,>=2.9.0->tensorflow_text) (1.24.3)\n",
            "Requirement already satisfied: idna<3,>=2.5 in /usr/local/lib/python3.7/dist-packages (from requests<3,>=2.21.0->tensorboard<2.10,>=2.9->tensorflow<2.10,>=2.9.0->tensorflow_text) (2.10)\n",
            "Requirement already satisfied: oauthlib>=3.0.0 in /usr/local/lib/python3.7/dist-packages (from requests-oauthlib>=0.7.0->google-auth-oauthlib<0.5,>=0.4.1->tensorboard<2.10,>=2.9->tensorflow<2.10,>=2.9.0->tensorflow_text) (3.2.0)\n",
            "Requirement already satisfied: pyparsing!=3.0.5,>=2.0.2 in /usr/local/lib/python3.7/dist-packages (from packaging->tensorflow<2.10,>=2.9.0->tensorflow_text) (3.0.9)\n",
            "Installing collected packages: tensorflow-estimator, tensorboard, keras, gast, flatbuffers, tensorflow, tensorflow-text\n",
            "  Attempting uninstall: tensorflow-estimator\n",
            "    Found existing installation: tensorflow-estimator 2.8.0\n",
            "    Uninstalling tensorflow-estimator-2.8.0:\n",
            "      Successfully uninstalled tensorflow-estimator-2.8.0\n",
            "  Attempting uninstall: tensorboard\n",
            "    Found existing installation: tensorboard 2.8.0\n",
            "    Uninstalling tensorboard-2.8.0:\n",
            "      Successfully uninstalled tensorboard-2.8.0\n",
            "  Attempting uninstall: keras\n",
            "    Found existing installation: keras 2.8.0\n",
            "    Uninstalling keras-2.8.0:\n",
            "      Successfully uninstalled keras-2.8.0\n",
            "  Attempting uninstall: gast\n",
            "    Found existing installation: gast 0.5.3\n",
            "    Uninstalling gast-0.5.3:\n",
            "      Successfully uninstalled gast-0.5.3\n",
            "  Attempting uninstall: flatbuffers\n",
            "    Found existing installation: flatbuffers 2.0\n",
            "    Uninstalling flatbuffers-2.0:\n",
            "      Successfully uninstalled flatbuffers-2.0\n",
            "  Attempting uninstall: tensorflow\n",
            "    Found existing installation: tensorflow 2.8.0+zzzcolab20220506162203\n",
            "    Uninstalling tensorflow-2.8.0+zzzcolab20220506162203:\n"
          ]
        }
      ],
      "source": [
        "!pip install tensorflow_text\n",
        "!pip install tensorflow_hub\n",
        "!pip install transformers\n",
        "#!pip install scikeras[tensorflow]"
      ]
    },
    {
      "cell_type": "code",
      "execution_count": null,
      "metadata": {
        "id": "HUKHIT8hSOAH"
      },
      "outputs": [],
      "source": [
        "import tensorflow as tf\n",
        "import tensorflow_hub as hub\n",
        "import tensorflow_text as text\n",
        "import pandas as pd\n",
        "from sklearn.preprocessing import LabelEncoder\n",
        "import tensorflow as tf"
      ]
    },
    {
      "cell_type": "code",
      "execution_count": null,
      "metadata": {
        "id": "7Iop3r0LP7b4"
      },
      "outputs": [],
      "source": [
        "df_raw = pd.read_csv('/content/drive/MyDrive/Data Mining/dataset.txt')\n",
        "df_raw.describe()"
      ]
    },
    {
      "cell_type": "code",
      "execution_count": 5,
      "metadata": {
        "id": "ypD9eaqv5CI6"
      },
      "outputs": [],
      "source": [
        "# todo --> take (random) sample to speed up training\n",
        "df = df_raw.sample(5_000)"
      ]
    },
    {
      "cell_type": "markdown",
      "metadata": {
        "id": "12R2RwOjS9-O"
      },
      "source": [
        "# Check for imbalance\n",
        "The dataset is equally balanced. Therefore, we do not need to rebalance the dataset."
      ]
    },
    {
      "cell_type": "code",
      "execution_count": 6,
      "metadata": {
        "colab": {
          "base_uri": "https://localhost:8080/"
        },
        "id": "HvW_6M_VSuhG",
        "outputId": "de5d3ef3-0993-4897-e6b7-615c77512def"
      },
      "outputs": [
        {
          "output_type": "execute_result",
          "data": {
            "text/plain": [
              "False    100000\n",
              "True     100000\n",
              "Name: humor, dtype: int64"
            ]
          },
          "metadata": {},
          "execution_count": 6
        }
      ],
      "source": [
        "df[\"humor\"].value_counts()"
      ]
    },
    {
      "cell_type": "markdown",
      "metadata": {
        "id": "b4KqkTrKTi5u"
      },
      "source": [
        "# Preprocessing"
      ]
    },
    {
      "cell_type": "code",
      "execution_count": 7,
      "metadata": {
        "id": "tKOlW4JGSgIk"
      },
      "outputs": [],
      "source": [
        "# Transform class from Boolean to integer value\n",
        "df['class']=df['humor'].apply(lambda x: 1 if x==True else 0)"
      ]
    },
    {
      "cell_type": "code",
      "execution_count": 8,
      "metadata": {
        "id": "4l7ycCbR0Zoe",
        "colab": {
          "base_uri": "https://localhost:8080/",
          "height": 113,
          "referenced_widgets": [
            "55d9eef2ab104447ad820e5899cf9366",
            "37b3ec5ee53946eea243ddce611f29a6",
            "c28be027b87d4a03940ff5d5c8a8c000",
            "e5f989130fb34353a8c6fecc33459c63",
            "d54c3f6fc06048dfaeadd64aaf56ba5f",
            "d718c4fd19bc4f9ab63683cf802d0f87",
            "6cf3c332a56e4b9fb3994622fea9c174",
            "637425ff220841f8b48887bb0fbf627b",
            "fb66e9c4000e470cb7ce64db1de0cb38",
            "7655c8357c4c4842a5d560e17f7f5e26",
            "7d61b61dfdfc4c5eb5cfce1aaf77ca20",
            "f1540c478f164001b950fbcb7fe25c15",
            "310ec00dec4046308a37825d88978636",
            "ba377e144811468a9f18e8407e29ded2",
            "c79e5f2b4c4047dcac9e236919a56969",
            "e9c7f251130841e2ade81768d25e8db5",
            "b195690bf1b04b24bfb0e6684233b169",
            "bb64b14a16ca47458c4e0fc6eb664540",
            "acef66fea5574cec9704acc5f612b88e",
            "3e6d961f9386428ea7e0157cf000d6c2",
            "08277ce5a7854c2bb4a076793d019358",
            "77288ac312934945a61f2b00e8ccddd8",
            "253119e870824fb89f293d73a2b53f61",
            "4b570e73b3a741f18f8d802ca4edb1ba",
            "2d51c5155496492c9d1544575119e6ff",
            "f0539d6d616047d4ad3a0aaa96bc05ed",
            "710b6b8cd3d64b01ab92d3883ecd77c5",
            "c4e60b71f13243c0b446141e353f96dc",
            "d9fe489292e640689c70d7791b93c816",
            "5df7feb4f2954996baab990b0bc50105",
            "e74ad70fe44745fea3118d11ffa3044f",
            "e7adbbd1a5154da1836f4596502fe3bb",
            "cf93f5b967dd42da8e5924bfa35caf7e"
          ]
        },
        "outputId": "6458989c-833b-4e1a-ed00-fcb51ba458dc"
      },
      "outputs": [
        {
          "output_type": "display_data",
          "data": {
            "text/plain": [
              "Downloading:   0%|          | 0.00/226k [00:00<?, ?B/s]"
            ],
            "application/vnd.jupyter.widget-view+json": {
              "version_major": 2,
              "version_minor": 0,
              "model_id": "55d9eef2ab104447ad820e5899cf9366"
            }
          },
          "metadata": {}
        },
        {
          "output_type": "display_data",
          "data": {
            "text/plain": [
              "Downloading:   0%|          | 0.00/28.0 [00:00<?, ?B/s]"
            ],
            "application/vnd.jupyter.widget-view+json": {
              "version_major": 2,
              "version_minor": 0,
              "model_id": "f1540c478f164001b950fbcb7fe25c15"
            }
          },
          "metadata": {}
        },
        {
          "output_type": "display_data",
          "data": {
            "text/plain": [
              "Downloading:   0%|          | 0.00/570 [00:00<?, ?B/s]"
            ],
            "application/vnd.jupyter.widget-view+json": {
              "version_major": 2,
              "version_minor": 0,
              "model_id": "253119e870824fb89f293d73a2b53f61"
            }
          },
          "metadata": {}
        }
      ],
      "source": [
        "from transformers import BertTokenizer\n",
        "tokenizer = BertTokenizer.from_pretrained(\"bert-base-uncased\")\n",
        "\n",
        "MAX_LEN = 128\n",
        "#pad_to_max_length=True,\n",
        "df['bert_preprocessed']=df['text'].apply(lambda x: \" \".join(list(tokenizer.convert_ids_to_tokens(tokenizer.encode(x, add_special_tokens=True, max_length=MAX_LEN, truncation=True)))))"
      ]
    },
    {
      "cell_type": "code",
      "execution_count": 10,
      "metadata": {
        "colab": {
          "base_uri": "https://localhost:8080/",
          "height": 206
        },
        "id": "ghGSvlxC3vme",
        "outputId": "002e8772-0491-4d46-c6da-09e7d60e38f2"
      },
      "outputs": [
        {
          "output_type": "execute_result",
          "data": {
            "text/plain": [
              "                                                text  humor  class  \\\n",
              "0  Joe biden rules out 2020 bid: 'guys, i'm not r...  False      0   \n",
              "1  Watch: darvish gave hitter whiplash with slow ...  False      0   \n",
              "2  What do you call a turtle without its shell? d...   True      1   \n",
              "3      5 reasons the 2016 election feels so personal  False      0   \n",
              "4  Pasco police shot mexican migrant from behind,...  False      0   \n",
              "\n",
              "                                   bert_preprocessed  \n",
              "0  [CLS] joe bid ##en rules out 2020 bid : ' guys...  \n",
              "1  [CLS] watch : dar ##vish gave hitter whip ##la...  \n",
              "2  [CLS] what do you call a turtle without its sh...  \n",
              "3  [CLS] 5 reasons the 2016 election feels so per...  \n",
              "4  [CLS] pas ##co police shot mexican migrant fro...  "
            ],
            "text/html": [
              "\n",
              "  <div id=\"df-36277126-1b89-47d0-8b8b-980e068de049\">\n",
              "    <div class=\"colab-df-container\">\n",
              "      <div>\n",
              "<style scoped>\n",
              "    .dataframe tbody tr th:only-of-type {\n",
              "        vertical-align: middle;\n",
              "    }\n",
              "\n",
              "    .dataframe tbody tr th {\n",
              "        vertical-align: top;\n",
              "    }\n",
              "\n",
              "    .dataframe thead th {\n",
              "        text-align: right;\n",
              "    }\n",
              "</style>\n",
              "<table border=\"1\" class=\"dataframe\">\n",
              "  <thead>\n",
              "    <tr style=\"text-align: right;\">\n",
              "      <th></th>\n",
              "      <th>text</th>\n",
              "      <th>humor</th>\n",
              "      <th>class</th>\n",
              "      <th>bert_preprocessed</th>\n",
              "    </tr>\n",
              "  </thead>\n",
              "  <tbody>\n",
              "    <tr>\n",
              "      <th>0</th>\n",
              "      <td>Joe biden rules out 2020 bid: 'guys, i'm not r...</td>\n",
              "      <td>False</td>\n",
              "      <td>0</td>\n",
              "      <td>[CLS] joe bid ##en rules out 2020 bid : ' guys...</td>\n",
              "    </tr>\n",
              "    <tr>\n",
              "      <th>1</th>\n",
              "      <td>Watch: darvish gave hitter whiplash with slow ...</td>\n",
              "      <td>False</td>\n",
              "      <td>0</td>\n",
              "      <td>[CLS] watch : dar ##vish gave hitter whip ##la...</td>\n",
              "    </tr>\n",
              "    <tr>\n",
              "      <th>2</th>\n",
              "      <td>What do you call a turtle without its shell? d...</td>\n",
              "      <td>True</td>\n",
              "      <td>1</td>\n",
              "      <td>[CLS] what do you call a turtle without its sh...</td>\n",
              "    </tr>\n",
              "    <tr>\n",
              "      <th>3</th>\n",
              "      <td>5 reasons the 2016 election feels so personal</td>\n",
              "      <td>False</td>\n",
              "      <td>0</td>\n",
              "      <td>[CLS] 5 reasons the 2016 election feels so per...</td>\n",
              "    </tr>\n",
              "    <tr>\n",
              "      <th>4</th>\n",
              "      <td>Pasco police shot mexican migrant from behind,...</td>\n",
              "      <td>False</td>\n",
              "      <td>0</td>\n",
              "      <td>[CLS] pas ##co police shot mexican migrant fro...</td>\n",
              "    </tr>\n",
              "  </tbody>\n",
              "</table>\n",
              "</div>\n",
              "      <button class=\"colab-df-convert\" onclick=\"convertToInteractive('df-36277126-1b89-47d0-8b8b-980e068de049')\"\n",
              "              title=\"Convert this dataframe to an interactive table.\"\n",
              "              style=\"display:none;\">\n",
              "        \n",
              "  <svg xmlns=\"http://www.w3.org/2000/svg\" height=\"24px\"viewBox=\"0 0 24 24\"\n",
              "       width=\"24px\">\n",
              "    <path d=\"M0 0h24v24H0V0z\" fill=\"none\"/>\n",
              "    <path d=\"M18.56 5.44l.94 2.06.94-2.06 2.06-.94-2.06-.94-.94-2.06-.94 2.06-2.06.94zm-11 1L8.5 8.5l.94-2.06 2.06-.94-2.06-.94L8.5 2.5l-.94 2.06-2.06.94zm10 10l.94 2.06.94-2.06 2.06-.94-2.06-.94-.94-2.06-.94 2.06-2.06.94z\"/><path d=\"M17.41 7.96l-1.37-1.37c-.4-.4-.92-.59-1.43-.59-.52 0-1.04.2-1.43.59L10.3 9.45l-7.72 7.72c-.78.78-.78 2.05 0 2.83L4 21.41c.39.39.9.59 1.41.59.51 0 1.02-.2 1.41-.59l7.78-7.78 2.81-2.81c.8-.78.8-2.07 0-2.86zM5.41 20L4 18.59l7.72-7.72 1.47 1.35L5.41 20z\"/>\n",
              "  </svg>\n",
              "      </button>\n",
              "      \n",
              "  <style>\n",
              "    .colab-df-container {\n",
              "      display:flex;\n",
              "      flex-wrap:wrap;\n",
              "      gap: 12px;\n",
              "    }\n",
              "\n",
              "    .colab-df-convert {\n",
              "      background-color: #E8F0FE;\n",
              "      border: none;\n",
              "      border-radius: 50%;\n",
              "      cursor: pointer;\n",
              "      display: none;\n",
              "      fill: #1967D2;\n",
              "      height: 32px;\n",
              "      padding: 0 0 0 0;\n",
              "      width: 32px;\n",
              "    }\n",
              "\n",
              "    .colab-df-convert:hover {\n",
              "      background-color: #E2EBFA;\n",
              "      box-shadow: 0px 1px 2px rgba(60, 64, 67, 0.3), 0px 1px 3px 1px rgba(60, 64, 67, 0.15);\n",
              "      fill: #174EA6;\n",
              "    }\n",
              "\n",
              "    [theme=dark] .colab-df-convert {\n",
              "      background-color: #3B4455;\n",
              "      fill: #D2E3FC;\n",
              "    }\n",
              "\n",
              "    [theme=dark] .colab-df-convert:hover {\n",
              "      background-color: #434B5C;\n",
              "      box-shadow: 0px 1px 3px 1px rgba(0, 0, 0, 0.15);\n",
              "      filter: drop-shadow(0px 1px 2px rgba(0, 0, 0, 0.3));\n",
              "      fill: #FFFFFF;\n",
              "    }\n",
              "  </style>\n",
              "\n",
              "      <script>\n",
              "        const buttonEl =\n",
              "          document.querySelector('#df-36277126-1b89-47d0-8b8b-980e068de049 button.colab-df-convert');\n",
              "        buttonEl.style.display =\n",
              "          google.colab.kernel.accessAllowed ? 'block' : 'none';\n",
              "\n",
              "        async function convertToInteractive(key) {\n",
              "          const element = document.querySelector('#df-36277126-1b89-47d0-8b8b-980e068de049');\n",
              "          const dataTable =\n",
              "            await google.colab.kernel.invokeFunction('convertToInteractive',\n",
              "                                                     [key], {});\n",
              "          if (!dataTable) return;\n",
              "\n",
              "          const docLinkHtml = 'Like what you see? Visit the ' +\n",
              "            '<a target=\"_blank\" href=https://colab.research.google.com/notebooks/data_table.ipynb>data table notebook</a>'\n",
              "            + ' to learn more about interactive tables.';\n",
              "          element.innerHTML = '';\n",
              "          dataTable['output_type'] = 'display_data';\n",
              "          await google.colab.output.renderOutput(dataTable, element);\n",
              "          const docLink = document.createElement('div');\n",
              "          docLink.innerHTML = docLinkHtml;\n",
              "          element.appendChild(docLink);\n",
              "        }\n",
              "      </script>\n",
              "    </div>\n",
              "  </div>\n",
              "  "
            ]
          },
          "metadata": {},
          "execution_count": 10
        }
      ],
      "source": [
        "df.head()"
      ]
    },
    {
      "cell_type": "code",
      "execution_count": 9,
      "metadata": {
        "id": "krCAqw4ITnh8"
      },
      "outputs": [],
      "source": [
        "from sklearn.model_selection import train_test_split\n",
        "\n",
        "X_train, X_test, y_train, y_test = train_test_split(df['bert_preprocessed'], df['class'], test_size=0.4)\n",
        "X = df['bert_preprocessed']\n",
        "Y = df['class']"
      ]
    },
    {
      "cell_type": "markdown",
      "metadata": {
        "id": "75KTg_ROTveS"
      },
      "source": [
        "# BERT"
      ]
    },
    {
      "cell_type": "code",
      "execution_count": 11,
      "metadata": {
        "id": "USX6Lts4T0ey"
      },
      "outputs": [],
      "source": [
        "bert_preprocess = hub.KerasLayer(\"https://tfhub.dev/tensorflow/bert_en_uncased_preprocess/3\")\n",
        "bert_encoder = hub.KerasLayer(\"https://tfhub.dev/tensorflow/bert_en_uncased_L-12_H-768_A-12/4\")"
      ]
    },
    {
      "cell_type": "code",
      "execution_count": 12,
      "metadata": {
        "id": "wlFXYUGkT3xW"
      },
      "outputs": [],
      "source": [
        "def get_sentence_embeding(sentences):\n",
        "    preprocessed_text = bert_preprocess(sentences)\n",
        "    return bert_encoder(preprocessed_text)['pooled_output']"
      ]
    },
    {
      "cell_type": "markdown",
      "metadata": {
        "id": "-Nt0AWJEUGJg"
      },
      "source": [
        "## Test embedding\n",
        "Test word embedding from pretrained BERT model with a real sentence from dataset."
      ]
    },
    {
      "cell_type": "code",
      "execution_count": null,
      "metadata": {
        "id": "1osx4LSXUECE"
      },
      "outputs": [],
      "source": [
        "#test_sentence = df[\"bert_preprocessed\"][11704]\n",
        "#print(\"Test sentence:\")\n",
        "#print(test_sentence)\n",
        "#print(\"Test sentence (word embedding):\")\n",
        "#print(get_sentence_embeding([test_sentence]))"
      ]
    },
    {
      "cell_type": "markdown",
      "metadata": {
        "id": "T06BUvCuUuJ8"
      },
      "source": [
        "# Build model"
      ]
    },
    {
      "cell_type": "code",
      "execution_count": 14,
      "metadata": {
        "id": "rMwxDdFPQCiQ"
      },
      "outputs": [],
      "source": [
        "def build_model() -> tf.keras.Model:\n",
        "    # Bert layers\n",
        "    text_input = tf.keras.layers.Input(shape=(), dtype=tf.string, name='text')\n",
        "    preprocessed_text = bert_preprocess(text_input)\n",
        "    outputs = bert_encoder(preprocessed_text)\n",
        "\n",
        "    # Neural network layers\n",
        "    l = tf.keras.layers.Dropout(0.1, name=\"dropout\")(outputs['pooled_output'])\n",
        "    l = tf.keras.layers.Dense(1, activation='sigmoid', name=\"output\")(l)\n",
        "\n",
        "    # Softmax is shit for this binary classification problem. Event though the literature suggest this activation function for binary class problem\n",
        "    #l = tf.keras.layers.Dense(1, activation='softmax', name=\"output\")(l) \n",
        "\n",
        "    # Use inputs and outputs to construct a final model\n",
        "    model = tf.keras.Model(inputs=[text_input], outputs = [l])\n",
        "\n",
        "    #model.summary()\n",
        "\n",
        "    return model"
      ]
    },
    {
      "cell_type": "code",
      "execution_count": 13,
      "metadata": {
        "id": "OXsa_dHHU1_n"
      },
      "outputs": [],
      "source": [
        "import numpy as np\n",
        "import itertools\n",
        "EPOCHS = 5\n",
        "\n",
        "METRICS = [\n",
        "      tf.keras.metrics.BinaryAccuracy(name='accuracy'),\n",
        "      tf.keras.metrics.Precision(name='precision'),\n",
        "      tf.keras.metrics.Recall(name='recall'),\n",
        "]\n",
        "\n",
        "\n",
        "lr_values = [0.0044] # np.arange(1e-3, 1e-2, 0.0002)\n",
        "epsilon_values = [1e-5]#[1e-7, 1e-6, 1e-5, 1e-4, 1e-3, 1e-2, 1e-1, 0.2, 0.3, 0.4, 0.5, 0.6, 0.7, 0.8, 0.9, 1]\n",
        "batch_values = [256]#range(32, 512, 16)\n",
        "\n",
        "values = list(itertools.product(lr_values, epsilon_values, batch_values))\n",
        "\n",
        "#print(f\"Combinations: {len(values)}\")\n",
        "#for lr, ep, batch in values:\n",
        "#    model: tf.keras.Model = build_model()\n",
        "\n",
        "#    print(f\"Try adam learning rate of: {lr} and e: {ep} and batch size: {batch}\")\n",
        "\n",
        " #   model.compile(optimizer=tf.keras.optimizers.Adam(learning_rate=lr, epsilon=ep),\n",
        "       #           loss=tf.keras.losses.BinaryCrossentropy(),\n",
        "        #          \n",
        "         #         metrics=METRICS)\n",
        "    \n",
        "  #  model.fit(X_train, y_train, epochs=EPOCHS, batch_size=batch)\n",
        " #   model.evaluate(X_test, y_test)"
      ]
    },
    {
      "cell_type": "markdown",
      "source": [
        "Add epoch optimization\n",
        "\n",
        "https://stackoverflow.com/questions/47421951/keras-optimal-epoch-selection"
      ],
      "metadata": {
        "id": "5T_aDcXlbCZB"
      }
    },
    {
      "cell_type": "code",
      "source": [
        "from sklearn.model_selection import StratifiedKFold\n",
        "from keras.callbacks import EarlyStopping, ModelCheckpoint\n",
        "from sklearn.model_selection import train_test_split\n",
        "\n",
        "ADAM_LEARNING_RATE = 0.0044\n",
        "ADAM_EPSILON = 1e-05\n",
        "\n",
        "EPOCH = 50\n",
        "\n",
        "BATCH_SIZE = 64\n",
        "\n",
        "PATIENCE = 2\n",
        "\n",
        "base_path = \"/content/drive/MyDrive/Data Mining/bert/\"\n",
        "\n",
        "METRICS = [\n",
        "      tf.keras.metrics.BinaryAccuracy(name='accuracy'),\n",
        "      tf.keras.metrics.Precision(name='precision'),\n",
        "      tf.keras.metrics.Recall(name='recall'),\n",
        "]\n",
        "\n",
        "def train_evaluate(model, run, x_train, y_train, x_test, y_test):\n",
        "    STAMP = 'model_run_%.2f'%(run)\n",
        "    early_stopping = EarlyStopping(monitor='val_loss', patience=PATIENCE)\n",
        "    bst_model_path = base_path + STAMP + '.h5'\n",
        "    model_checkpoint = ModelCheckpoint(bst_model_path, save_best_only=True, save_weights_only=True)\n",
        "\n",
        "    model.compile(optimizer=tf.keras.optimizers.Adam(learning_rate=ADAM_LEARNING_RATE, epsilon=ADAM_EPSILON),\n",
        "                  loss=tf.keras.losses.BinaryCrossentropy(),                  \n",
        "                  metrics=METRICS)\n",
        "    \n",
        "\n",
        "    X_tra, X_val, y_tra, y_val = train_test_split(x_train, y_train, test_size=0.2)\n",
        "\n",
        "    hist = model.fit(X_tra, y_tra, validation_data=(X_val, y_val), epochs=EPOCH, batch_size=BATCH_SIZE, shuffle=True, callbacks=[early_stopping, model_checkpoint])\n",
        "\n",
        "    return model.evaluate(x_test, y_test)\n",
        "\n",
        "kFold = StratifiedKFold(n_splits=4)\n",
        "accuracy_list = []\n",
        "precision_list = []\n",
        "recall_list = []\n",
        "i = 1\n",
        "for train, test in kFold.split(X, Y):\n",
        "    model = build_model()\n",
        "    _, accuracy, precision, recall = train_evaluate(model, i, X[train], Y[train], X[test], Y[test])\n",
        "    accuracy_list.append(accuracy)\n",
        "    precision_list.append(precision)\n",
        "    recall_list.append(recall)\n",
        "    i = i + 1\n",
        "\n",
        "print(f\"Accuracy: {sum(accuracy_list) / len(accuracy_list)}\")\n",
        "print(f\"Precision: {sum(precision_list) / len(precision_list)}\")\n",
        "print(f\"Recall: {sum(recall_list) / len(recall_list)}\")"
      ],
      "metadata": {
        "colab": {
          "base_uri": "https://localhost:8080/"
        },
        "id": "qqXcZjRAVV6P",
        "outputId": "7a3d299e-faee-41fa-f3b9-4533f9995897"
      },
      "execution_count": 16,
      "outputs": [
        {
          "output_type": "stream",
          "name": "stdout",
          "text": [
            "Epoch 1/50\n",
            "1875/1875 [==============================] - 1566s 834ms/step - loss: 0.2889 - accuracy: 0.8822 - precision: 0.8737 - recall: 0.8938 - val_loss: 0.2261 - val_accuracy: 0.9139 - val_precision: 0.9454 - val_recall: 0.8777\n",
            "Epoch 2/50\n",
            "1875/1875 [==============================] - 1563s 834ms/step - loss: 0.2391 - accuracy: 0.9045 - precision: 0.9000 - recall: 0.9103 - val_loss: 0.1924 - val_accuracy: 0.9272 - val_precision: 0.9225 - val_recall: 0.9323\n",
            "Epoch 3/50\n",
            "1875/1875 [==============================] - 1560s 832ms/step - loss: 0.2345 - accuracy: 0.9069 - precision: 0.9035 - recall: 0.9112 - val_loss: 0.1866 - val_accuracy: 0.9295 - val_precision: 0.9337 - val_recall: 0.9240\n",
            "Epoch 4/50\n",
            "1875/1875 [==============================] - 1559s 831ms/step - loss: 0.2330 - accuracy: 0.9078 - precision: 0.9050 - recall: 0.9114 - val_loss: 0.2011 - val_accuracy: 0.9209 - val_precision: 0.8879 - val_recall: 0.9627\n",
            "Epoch 5/50\n",
            "1875/1875 [==============================] - 1560s 832ms/step - loss: 0.2343 - accuracy: 0.9073 - precision: 0.9040 - recall: 0.9116 - val_loss: 0.1909 - val_accuracy: 0.9273 - val_precision: 0.9487 - val_recall: 0.9029\n",
            "1563/1563 [==============================] - 495s 317ms/step - loss: 0.1889 - accuracy: 0.9280 - precision: 0.9449 - recall: 0.9090\n",
            "Epoch 1/50\n",
            "1875/1875 [==============================] - 1563s 833ms/step - loss: 0.2864 - accuracy: 0.8968 - precision: 0.8947 - recall: 0.8995 - val_loss: 0.2089 - val_accuracy: 0.9209 - val_precision: 0.9256 - val_recall: 0.9151\n",
            "Epoch 2/50\n",
            "1875/1875 [==============================] - 1564s 834ms/step - loss: 0.2408 - accuracy: 0.9044 - precision: 0.9000 - recall: 0.9099 - val_loss: 0.1974 - val_accuracy: 0.9251 - val_precision: 0.9407 - val_recall: 0.9073\n",
            "Epoch 3/50\n",
            "1875/1875 [==============================] - 1559s 831ms/step - loss: 0.2371 - accuracy: 0.9057 - precision: 0.9020 - recall: 0.9103 - val_loss: 0.2252 - val_accuracy: 0.9117 - val_precision: 0.9641 - val_recall: 0.8549\n",
            "Epoch 4/50\n",
            "1875/1875 [==============================] - 1565s 835ms/step - loss: 0.2323 - accuracy: 0.9085 - precision: 0.9051 - recall: 0.9127 - val_loss: 0.1833 - val_accuracy: 0.9306 - val_precision: 0.9332 - val_recall: 0.9274\n",
            "Epoch 5/50\n",
            "1875/1875 [==============================] - 1559s 831ms/step - loss: 0.2332 - accuracy: 0.9073 - precision: 0.9043 - recall: 0.9112 - val_loss: 0.2339 - val_accuracy: 0.9048 - val_precision: 0.8553 - val_recall: 0.9741\n",
            "Epoch 6/50\n",
            "1875/1875 [==============================] - 1561s 833ms/step - loss: 0.2315 - accuracy: 0.9090 - precision: 0.9057 - recall: 0.9131 - val_loss: 0.1805 - val_accuracy: 0.9322 - val_precision: 0.9284 - val_recall: 0.9364\n",
            "Epoch 7/50\n",
            "1875/1875 [==============================] - 1561s 832ms/step - loss: 0.2312 - accuracy: 0.9086 - precision: 0.9055 - recall: 0.9126 - val_loss: 0.1804 - val_accuracy: 0.9312 - val_precision: 0.9229 - val_recall: 0.9408\n",
            "Epoch 8/50\n",
            "1875/1875 [==============================] - 1557s 830ms/step - loss: 0.2309 - accuracy: 0.9092 - precision: 0.9064 - recall: 0.9126 - val_loss: 0.1962 - val_accuracy: 0.9248 - val_precision: 0.9560 - val_recall: 0.8904\n",
            "Epoch 9/50\n",
            "1875/1875 [==============================] - 1557s 830ms/step - loss: 0.2323 - accuracy: 0.9090 - precision: 0.9061 - recall: 0.9127 - val_loss: 0.1855 - val_accuracy: 0.9292 - val_precision: 0.9109 - val_recall: 0.9512\n",
            "1563/1563 [==============================] - 494s 316ms/step - loss: 0.1873 - accuracy: 0.9282 - precision: 0.9081 - recall: 0.9527\n",
            "Epoch 1/50\n",
            "1875/1875 [==============================] - 1560s 831ms/step - loss: 0.2872 - accuracy: 0.8954 - precision: 0.8836 - recall: 0.9107 - val_loss: 0.2130 - val_accuracy: 0.9173 - val_precision: 0.9001 - val_recall: 0.9391\n",
            "Epoch 2/50\n",
            "1875/1875 [==============================] - 1560s 832ms/step - loss: 0.2398 - accuracy: 0.9041 - precision: 0.9002 - recall: 0.9090 - val_loss: 0.1999 - val_accuracy: 0.9219 - val_precision: 0.8990 - val_recall: 0.9508\n",
            "Epoch 3/50\n",
            "1875/1875 [==============================] - 1562s 833ms/step - loss: 0.2331 - accuracy: 0.9077 - precision: 0.9038 - recall: 0.9124 - val_loss: 0.1890 - val_accuracy: 0.9276 - val_precision: 0.9154 - val_recall: 0.9427\n",
            "Epoch 4/50\n",
            "1875/1875 [==============================] - 1557s 830ms/step - loss: 0.2335 - accuracy: 0.9072 - precision: 0.9037 - recall: 0.9115 - val_loss: 0.2060 - val_accuracy: 0.9185 - val_precision: 0.8831 - val_recall: 0.9650\n",
            "Epoch 5/50\n",
            "1875/1875 [==============================] - 1560s 832ms/step - loss: 0.2326 - accuracy: 0.9076 - precision: 0.9044 - recall: 0.9116 - val_loss: 0.1913 - val_accuracy: 0.9279 - val_precision: 0.9474 - val_recall: 0.9063\n",
            "1563/1563 [==============================] - 495s 317ms/step - loss: 0.1893 - accuracy: 0.9278 - precision: 0.9470 - recall: 0.9063\n",
            "Epoch 1/50\n",
            "1875/1875 [==============================] - 1563s 833ms/step - loss: 0.2876 - accuracy: 0.8961 - precision: 0.8949 - recall: 0.8973 - val_loss: 0.2693 - val_accuracy: 0.8870 - val_precision: 0.8302 - val_recall: 0.9747\n",
            "Epoch 2/50\n",
            "1875/1875 [==============================] - 1562s 833ms/step - loss: 0.2383 - accuracy: 0.9067 - precision: 0.9018 - recall: 0.9124 - val_loss: 0.2013 - val_accuracy: 0.9226 - val_precision: 0.9414 - val_recall: 0.9024\n",
            "Epoch 3/50\n",
            "1875/1875 [==============================] - 1562s 833ms/step - loss: 0.2351 - accuracy: 0.9068 - precision: 0.9029 - recall: 0.9113 - val_loss: 0.1875 - val_accuracy: 0.9273 - val_precision: 0.9266 - val_recall: 0.9291\n",
            "Epoch 4/50\n",
            "1875/1875 [==============================] - 1557s 830ms/step - loss: 0.2340 - accuracy: 0.9078 - precision: 0.9046 - recall: 0.9114 - val_loss: 0.1915 - val_accuracy: 0.9252 - val_precision: 0.9041 - val_recall: 0.9524\n",
            "Epoch 5/50\n",
            "1875/1875 [==============================] - 1561s 833ms/step - loss: 0.2332 - accuracy: 0.9084 - precision: 0.9049 - recall: 0.9125 - val_loss: 0.1848 - val_accuracy: 0.9290 - val_precision: 0.9145 - val_recall: 0.9475\n",
            "Epoch 6/50\n",
            "1875/1875 [==============================] - 1557s 831ms/step - loss: 0.2296 - accuracy: 0.9097 - precision: 0.9067 - recall: 0.9130 - val_loss: 0.1953 - val_accuracy: 0.9244 - val_precision: 0.9514 - val_recall: 0.8955\n",
            "Epoch 7/50\n",
            "1875/1875 [==============================] - 1557s 830ms/step - loss: 0.2326 - accuracy: 0.9079 - precision: 0.9045 - recall: 0.9117 - val_loss: 0.1868 - val_accuracy: 0.9281 - val_precision: 0.9422 - val_recall: 0.9132\n",
            "1563/1563 [==============================] - 495s 317ms/step - loss: 0.1851 - accuracy: 0.9300 - precision: 0.9456 - recall: 0.9125\n",
            "Accuracy: 0.9284850060939789\n",
            "Precision: 0.9364166557788849\n",
            "Recall: 0.9201099872589111\n"
          ]
        }
      ]
    },
    {
      "cell_type": "markdown",
      "source": [
        "# Evaluate epsilon\n",
        "We tried out different epsilon values.\n",
        "\n",
        "Each step was processed in 5 epochs with a sample size of 20k rows. \n",
        "\n",
        "| Epsilon | Accuracy - Precision - Recall                         |\n",
        "|---------|-------------------------------------------------------|\n",
        "| 1e-07   | accuracy: 0.8958 - precision: 0.8899 - recall: 0.9038 |\n",
        "| 1e-06   | accuracy: 0.8955 - precision: 0.8881 - recall: 0.9055 |\n",
        "| 1e-05   | accuracy: 0.8987 - precision: 0.8923 - recall: 0.9072 |\n",
        "| 0.0001  | accuracy: 0.8963 - precision: 0.8899 - recall: 0.9048 |\n",
        "| 0.001   | accuracy: 0.8956 - precision: 0.8888 - recall: 0.9047 |\n",
        "| 0.01    | accuracy: 0.8903 - precision: 0.8839 - recall: 0.8992 |\n",
        "| 0.1     | accuracy: 0.8731 - precision: 0.8614 - recall: 0.8897 |\n",
        "| 0.2     | accuracy: 0.8597 - precision: 0.8434 - recall: 0.8842 |\n",
        "| 0.3     | accuracy: 0.8578 - precision: 0.8418 - recall: 0.8819 |\n",
        "| 0.4     | accuracy: 0.8472 - precision: 0.8294 - recall: 0.8747 |\n",
        "| 0.5     | accuracy: 0.8369 - precision: 0.8193 - recall: 0.8652 |\n",
        "| 0.6     | accuracy: 0.8275 - precision: 0.8081 - recall: 0.8597 |\n",
        "| 0.7     | accuracy: 0.8191 - precision: 0.7987 - recall: 0.8541 |\n",
        "| 0.8     | accuracy: 0.8219 - precision: 0.8030 - recall: 0.8539 |\n",
        "| 0.9     | accuracy: 0.8117 - precision: 0.7949 - recall: 0.8409 |\n",
        "| 1       | accuracy: 0.7956 - precision: 0.7732 - recall: 0.8376 |\n",
        "\n",
        "> the lr was 0.0038000000000000013.\n",
        "\n",
        "The epsilon of **1e-05** reaches the highest accuracy, precision and recall. "
      ],
      "metadata": {
        "id": "KSnA56dMqMdb"
      }
    },
    {
      "cell_type": "code",
      "source": [
        "_Ä'"
      ],
      "metadata": {
        "id": "hp4mP1c518B-",
        "colab": {
          "base_uri": "https://localhost:8080/",
          "height": 131
        },
        "outputId": "cb9b90a5-ec32-4136-e0ce-4ce5099356db"
      },
      "execution_count": 17,
      "outputs": [
        {
          "ename": "SyntaxError",
          "evalue": "ignored",
          "output_type": "error",
          "traceback": [
            "\u001b[0;36m  File \u001b[0;32m\"<ipython-input-17-fb370e3bab99>\"\u001b[0;36m, line \u001b[0;32m1\u001b[0m\n\u001b[0;31m    _Ä'\u001b[0m\n\u001b[0m       ^\u001b[0m\n\u001b[0;31mSyntaxError\u001b[0m\u001b[0;31m:\u001b[0m EOL while scanning string literal\n"
          ]
        }
      ]
    },
    {
      "cell_type": "markdown",
      "source": [
        "# Evaluate learning rate\n",
        "\n",
        "Based on the identified epsilon of 1e-05 we tried out different learning rates.\n",
        "\n",
        "Each step was processed in 5 epochs with a sample size of 20k rows. \n",
        "\n",
        "| Learning rate |     Accuracy - Precision - Recall                     |\n",
        "|---------------|-------------------------------------------------------|\n",
        "| 0.001         | accuracy: 0.8917 - precision: 0.8801 - recall: 0.9073 |\n",
        "| 0.0012        | accuracy: 0.8852 - precision: 0.8766 - recall: 0.8970 |\n",
        "| 0.0014        | accuracy: 0.8917 - precision: 0.8822 - recall: 0.9045 |\n",
        "| 0.0016        | accuracy: 0.8906 - precision: 0.8821 - recall: 0.9022 |\n",
        "| 0.0018        | accuracy: 0.8932 - precision: 0.8829 - recall: 0.9072 |\n",
        "| 0.002         | accuracy: 0.8887 - precision: 0.8805 - recall: 0.8998 |\n",
        "| 0.0022        | accuracy: 0.8917 - precision: 0.8827 - recall: 0.9040 |\n",
        "| 0.0024        | accuracy: 0.8947 - precision: 0.8866 - recall: 0.9057 |\n",
        "| 0.0026        | accuracy: 0.8939 - precision: 0.8863 - recall: 0.9042 |\n",
        "| 0.0028        | accuracy: 0.8952 - precision: 0.8890 - recall: 0.9035 |\n",
        "| 0.0030        | accuracy: 0.8920 - precision: 0.8854 - recall: 0.9010 |\n",
        "| 0.0032        | accuracy: 0.8921 - precision: 0.8849 - recall: 0.9018 |\n",
        "| 0.0034        | accuracy: 0.8931 - precision: 0.8875 - recall: 0.9007 |\n",
        "| 0.0036        | accuracy: 0.8932 - precision: 0.8853 - recall: 0.9040 |\n",
        "| 0.0038        | accuracy: 0.8963 - precision: 0.8910 - recall: 0.9035 |\n",
        "| 0.0040        | accuracy: 0.8950 - precision: 0.8881 - recall: 0.9043 |\n",
        "| 0.0042        | accuracy: 0.8910 - precision: 0.8855 - recall: 0.8985 |\n",
        "| 0.0044        | accuracy: 0.8997 - precision: 0.8927 - recall: 0.9092 |\n",
        "| 0.0046        | accuracy: 0.8941 - precision: 0.8875 - recall: 0.9030 |\n",
        "| 0.0048        | accuracy: 0.8921 - precision: 0.8883 - recall: 0.8973 |\n",
        "| 0.0050        | accuracy: 0.8962 - precision: 0.8895 - recall: 0.9052 |\n",
        "| 0.0052        | accuracy: 0.8953 - precision: 0.8895 - recall: 0.9030 |\n",
        "| 0.0054        | accuracy: 0.8992 - precision: 0.8931 - recall: 0.9075 |\n",
        "| 0.0056        | accuracy: 0.8878 - precision: 0.8807 - recall: 0.8977 |\n",
        "| 0.0058        | accuracy: 0.8903 - precision: 0.8851 - recall: 0.8975 |\n",
        "| 0.0060        | accuracy: 0.8979 - precision: 0.8920 - recall: 0.9058 |\n",
        "| 0.0062        | accuracy: 0.8951 - precision: 0.8886 - recall: 0.9038 |\n",
        "| 0.0064        | accuracy: 0.8977 - precision: 0.8944 - recall: 0.9022 |\n",
        "| 0.0066        | accuracy: 0.8940 - precision: 0.8876 - recall: 0.9027 |\n",
        "| 0.0068        | accuracy: 0.8921 - precision: 0.8877 - recall: 0.8982 |\n",
        "| 0.0070        | accuracy: 0.8920 - precision: 0.8863 - recall: 0.8998 |\n",
        "| 0.0072        | accuracy: 0.8948 - precision: 0.8896 - recall: 0.9020 |\n",
        "| 0.0074        | accuracy: 0.8953 - precision: 0.8901 - recall: 0.9025 |\n",
        "| 0.0076        | accuracy: 0.8940 - precision: 0.8893 - recall: 0.9005 |\n",
        "| 0.0078        | accuracy: 0.8891 - precision: 0.8851 - recall: 0.8947 |\n",
        "| 0.0080        | accuracy: 0.8967 - precision: 0.8923 - recall: 0.9028 |\n",
        "| 0.0082        | accuracy: 0.8922 - precision: 0.8871 - recall: 0.8992 |\n",
        "| 0.0084        | accuracy: 0.8927 - precision: 0.8864 - recall: 0.9012 |\n",
        "| 0.0086        | accuracy: 0.8985 - precision: 0.8930 - recall: 0.9058 |\n",
        "| 0.0088        | accuracy: 0.8969 - precision: 0.8931 - recall: 0.9022 |\n",
        "| 0.0090        | accuracy: 0.8909 - precision: 0.8879 - recall: 0.8952 |\n",
        "| 0.0092        | accuracy: 0.8918 - precision: 0.8879 - recall: 0.8973 |\n",
        "| 0.0094        | accuracy: 0.8929 - precision: 0.8899 - recall: 0.8972 |\n",
        "| 0.0096        | accuracy: 0.8941 - precision: 0.8879 - recall: 0.9025 |\n",
        "| 0.0098        | accuracy: 0.8930 - precision: 0.8904 - recall: 0.8967 |\n",
        "\n",
        "> The epsilon was 1e-05.\n",
        "\n",
        "The learning rate of **0.0044** receaches the highest accuracy, precision and recall. \n",
        "\n",
        "Therefore we consider this as the new learning rate. "
      ],
      "metadata": {
        "id": "NN6Lw8JN09p6"
      }
    },
    {
      "cell_type": "code",
      "execution_count": null,
      "metadata": {
        "id": "43I8YDy9tFru"
      },
      "outputs": [],
      "source": [
        "_Ä'odel.evaluate(X_test, y_test)"
      ]
    },
    {
      "cell_type": "code",
      "execution_count": null,
      "metadata": {
        "id": "vBU2uWMNWSQG"
      },
      "outputs": [],
      "source": [
        "_Ä'model.save_weights(\"/content/drive/MyDrive/Data Mining/bert_seperator/weights.md5\")"
      ]
    },
    {
      "cell_type": "code",
      "execution_count": null,
      "metadata": {
        "id": "bVrmb6LmtagI"
      },
      "outputs": [],
      "source": [
        "_Ä'_predicted = model.predict(X_test)\n",
        "y_predicted = y_predicted.flatten()"
      ]
    },
    {
      "cell_type": "code",
      "execution_count": null,
      "metadata": {
        "id": "nHmJQUuVta27"
      },
      "outputs": [],
      "source": [
        "_import numpy as np\n",
        "\n",
        "y_predicted = np.where(y_predicted > 0.5, 1, 0)\n",
        "y_predicted"
      ]
    },
    {
      "cell_type": "code",
      "execution_count": null,
      "metadata": {
        "id": "HoxJt4-stby7"
      },
      "outputs": [],
      "source": [
        "from sklearn.metrics import confusion_matrix, classification_report\n",
        "\n",
        "cm = confusion_matrix(y_test, y_predicted)\n",
        "cm "
      ]
    },
    {
      "cell_type": "code",
      "execution_count": null,
      "metadata": {
        "id": "Wrzo6iHItcp7"
      },
      "outputs": [],
      "source": [
        "from matplotlib import pyplot as plt\n",
        "import seaborn as sn\n",
        "sn.heatmap(cm, annot=True, fmt='d')\n",
        "plt.xlabel('Predicted')\n",
        "plt.ylabel('Truth')"
      ]
    },
    {
      "cell_type": "code",
      "execution_count": null,
      "metadata": {
        "id": "h578m23Vtdt7"
      },
      "outputs": [],
      "source": [
        "print(classification_report(y_test, y_predicted))"
      ]
    },
    {
      "cell_type": "markdown",
      "metadata": {
        "id": "LEO8LnVatlir"
      },
      "source": [
        "# Own test"
      ]
    },
    {
      "cell_type": "code",
      "execution_count": null,
      "metadata": {
        "id": "nHjckUgBtgHL"
      },
      "outputs": [],
      "source": [
        "jokes = [\n",
        "    'What’s the best thing about Switzerland? I don’t know, but the flag is a big plus.',\n",
        "    'I study Business Informatics at the University of Mannheim!',\n",
        "    'I invented a new word! Plagiarism!',\n",
        "    'Did you hear about the mathematician who’s afraid of negative numbers? He’ll stop at nothing to avoid them.',\n",
        "    'My name is Elias.'\n",
        "]\n",
        "\n",
        "jokes_processed = [\" \".join(list(tokenizer.convert_ids_to_tokens(tokenizer.encode(i, add_special_tokens=True, max_length=MAX_LEN, truncation=True)))) for i in jokes]\n",
        "\n",
        "model.predict(jokes_processed)"
      ]
    },
    {
      "cell_type": "code",
      "execution_count": null,
      "metadata": {
        "id": "ybRqB9cdt9uL"
      },
      "outputs": [],
      "source": [
        ""
      ]
    }
  ],
  "metadata": {
    "accelerator": "GPU",
    "colab": {
      "collapsed_sections": [],
      "name": "Kopie von ANN with BERT.ipynb",
      "provenance": [],
      "machine_shape": "hm",
      "include_colab_link": true
    },
    "kernelspec": {
      "display_name": "Python 3",
      "name": "python3"
    },
    "language_info": {
      "name": "python"
    },
    "widgets": {
      "application/vnd.jupyter.widget-state+json": {
        "55d9eef2ab104447ad820e5899cf9366": {
          "model_module": "@jupyter-widgets/controls",
          "model_name": "HBoxModel",
          "model_module_version": "1.5.0",
          "state": {
            "_dom_classes": [],
            "_model_module": "@jupyter-widgets/controls",
            "_model_module_version": "1.5.0",
            "_model_name": "HBoxModel",
            "_view_count": null,
            "_view_module": "@jupyter-widgets/controls",
            "_view_module_version": "1.5.0",
            "_view_name": "HBoxView",
            "box_style": "",
            "children": [
              "IPY_MODEL_37b3ec5ee53946eea243ddce611f29a6",
              "IPY_MODEL_c28be027b87d4a03940ff5d5c8a8c000",
              "IPY_MODEL_e5f989130fb34353a8c6fecc33459c63"
            ],
            "layout": "IPY_MODEL_d54c3f6fc06048dfaeadd64aaf56ba5f"
          }
        },
        "37b3ec5ee53946eea243ddce611f29a6": {
          "model_module": "@jupyter-widgets/controls",
          "model_name": "HTMLModel",
          "model_module_version": "1.5.0",
          "state": {
            "_dom_classes": [],
            "_model_module": "@jupyter-widgets/controls",
            "_model_module_version": "1.5.0",
            "_model_name": "HTMLModel",
            "_view_count": null,
            "_view_module": "@jupyter-widgets/controls",
            "_view_module_version": "1.5.0",
            "_view_name": "HTMLView",
            "description": "",
            "description_tooltip": null,
            "layout": "IPY_MODEL_d718c4fd19bc4f9ab63683cf802d0f87",
            "placeholder": "​",
            "style": "IPY_MODEL_6cf3c332a56e4b9fb3994622fea9c174",
            "value": "Downloading: 100%"
          }
        },
        "c28be027b87d4a03940ff5d5c8a8c000": {
          "model_module": "@jupyter-widgets/controls",
          "model_name": "FloatProgressModel",
          "model_module_version": "1.5.0",
          "state": {
            "_dom_classes": [],
            "_model_module": "@jupyter-widgets/controls",
            "_model_module_version": "1.5.0",
            "_model_name": "FloatProgressModel",
            "_view_count": null,
            "_view_module": "@jupyter-widgets/controls",
            "_view_module_version": "1.5.0",
            "_view_name": "ProgressView",
            "bar_style": "success",
            "description": "",
            "description_tooltip": null,
            "layout": "IPY_MODEL_637425ff220841f8b48887bb0fbf627b",
            "max": 231508,
            "min": 0,
            "orientation": "horizontal",
            "style": "IPY_MODEL_fb66e9c4000e470cb7ce64db1de0cb38",
            "value": 231508
          }
        },
        "e5f989130fb34353a8c6fecc33459c63": {
          "model_module": "@jupyter-widgets/controls",
          "model_name": "HTMLModel",
          "model_module_version": "1.5.0",
          "state": {
            "_dom_classes": [],
            "_model_module": "@jupyter-widgets/controls",
            "_model_module_version": "1.5.0",
            "_model_name": "HTMLModel",
            "_view_count": null,
            "_view_module": "@jupyter-widgets/controls",
            "_view_module_version": "1.5.0",
            "_view_name": "HTMLView",
            "description": "",
            "description_tooltip": null,
            "layout": "IPY_MODEL_7655c8357c4c4842a5d560e17f7f5e26",
            "placeholder": "​",
            "style": "IPY_MODEL_7d61b61dfdfc4c5eb5cfce1aaf77ca20",
            "value": " 226k/226k [00:00&lt;00:00, 598kB/s]"
          }
        },
        "d54c3f6fc06048dfaeadd64aaf56ba5f": {
          "model_module": "@jupyter-widgets/base",
          "model_name": "LayoutModel",
          "model_module_version": "1.2.0",
          "state": {
            "_model_module": "@jupyter-widgets/base",
            "_model_module_version": "1.2.0",
            "_model_name": "LayoutModel",
            "_view_count": null,
            "_view_module": "@jupyter-widgets/base",
            "_view_module_version": "1.2.0",
            "_view_name": "LayoutView",
            "align_content": null,
            "align_items": null,
            "align_self": null,
            "border": null,
            "bottom": null,
            "display": null,
            "flex": null,
            "flex_flow": null,
            "grid_area": null,
            "grid_auto_columns": null,
            "grid_auto_flow": null,
            "grid_auto_rows": null,
            "grid_column": null,
            "grid_gap": null,
            "grid_row": null,
            "grid_template_areas": null,
            "grid_template_columns": null,
            "grid_template_rows": null,
            "height": null,
            "justify_content": null,
            "justify_items": null,
            "left": null,
            "margin": null,
            "max_height": null,
            "max_width": null,
            "min_height": null,
            "min_width": null,
            "object_fit": null,
            "object_position": null,
            "order": null,
            "overflow": null,
            "overflow_x": null,
            "overflow_y": null,
            "padding": null,
            "right": null,
            "top": null,
            "visibility": null,
            "width": null
          }
        },
        "d718c4fd19bc4f9ab63683cf802d0f87": {
          "model_module": "@jupyter-widgets/base",
          "model_name": "LayoutModel",
          "model_module_version": "1.2.0",
          "state": {
            "_model_module": "@jupyter-widgets/base",
            "_model_module_version": "1.2.0",
            "_model_name": "LayoutModel",
            "_view_count": null,
            "_view_module": "@jupyter-widgets/base",
            "_view_module_version": "1.2.0",
            "_view_name": "LayoutView",
            "align_content": null,
            "align_items": null,
            "align_self": null,
            "border": null,
            "bottom": null,
            "display": null,
            "flex": null,
            "flex_flow": null,
            "grid_area": null,
            "grid_auto_columns": null,
            "grid_auto_flow": null,
            "grid_auto_rows": null,
            "grid_column": null,
            "grid_gap": null,
            "grid_row": null,
            "grid_template_areas": null,
            "grid_template_columns": null,
            "grid_template_rows": null,
            "height": null,
            "justify_content": null,
            "justify_items": null,
            "left": null,
            "margin": null,
            "max_height": null,
            "max_width": null,
            "min_height": null,
            "min_width": null,
            "object_fit": null,
            "object_position": null,
            "order": null,
            "overflow": null,
            "overflow_x": null,
            "overflow_y": null,
            "padding": null,
            "right": null,
            "top": null,
            "visibility": null,
            "width": null
          }
        },
        "6cf3c332a56e4b9fb3994622fea9c174": {
          "model_module": "@jupyter-widgets/controls",
          "model_name": "DescriptionStyleModel",
          "model_module_version": "1.5.0",
          "state": {
            "_model_module": "@jupyter-widgets/controls",
            "_model_module_version": "1.5.0",
            "_model_name": "DescriptionStyleModel",
            "_view_count": null,
            "_view_module": "@jupyter-widgets/base",
            "_view_module_version": "1.2.0",
            "_view_name": "StyleView",
            "description_width": ""
          }
        },
        "637425ff220841f8b48887bb0fbf627b": {
          "model_module": "@jupyter-widgets/base",
          "model_name": "LayoutModel",
          "model_module_version": "1.2.0",
          "state": {
            "_model_module": "@jupyter-widgets/base",
            "_model_module_version": "1.2.0",
            "_model_name": "LayoutModel",
            "_view_count": null,
            "_view_module": "@jupyter-widgets/base",
            "_view_module_version": "1.2.0",
            "_view_name": "LayoutView",
            "align_content": null,
            "align_items": null,
            "align_self": null,
            "border": null,
            "bottom": null,
            "display": null,
            "flex": null,
            "flex_flow": null,
            "grid_area": null,
            "grid_auto_columns": null,
            "grid_auto_flow": null,
            "grid_auto_rows": null,
            "grid_column": null,
            "grid_gap": null,
            "grid_row": null,
            "grid_template_areas": null,
            "grid_template_columns": null,
            "grid_template_rows": null,
            "height": null,
            "justify_content": null,
            "justify_items": null,
            "left": null,
            "margin": null,
            "max_height": null,
            "max_width": null,
            "min_height": null,
            "min_width": null,
            "object_fit": null,
            "object_position": null,
            "order": null,
            "overflow": null,
            "overflow_x": null,
            "overflow_y": null,
            "padding": null,
            "right": null,
            "top": null,
            "visibility": null,
            "width": null
          }
        },
        "fb66e9c4000e470cb7ce64db1de0cb38": {
          "model_module": "@jupyter-widgets/controls",
          "model_name": "ProgressStyleModel",
          "model_module_version": "1.5.0",
          "state": {
            "_model_module": "@jupyter-widgets/controls",
            "_model_module_version": "1.5.0",
            "_model_name": "ProgressStyleModel",
            "_view_count": null,
            "_view_module": "@jupyter-widgets/base",
            "_view_module_version": "1.2.0",
            "_view_name": "StyleView",
            "bar_color": null,
            "description_width": ""
          }
        },
        "7655c8357c4c4842a5d560e17f7f5e26": {
          "model_module": "@jupyter-widgets/base",
          "model_name": "LayoutModel",
          "model_module_version": "1.2.0",
          "state": {
            "_model_module": "@jupyter-widgets/base",
            "_model_module_version": "1.2.0",
            "_model_name": "LayoutModel",
            "_view_count": null,
            "_view_module": "@jupyter-widgets/base",
            "_view_module_version": "1.2.0",
            "_view_name": "LayoutView",
            "align_content": null,
            "align_items": null,
            "align_self": null,
            "border": null,
            "bottom": null,
            "display": null,
            "flex": null,
            "flex_flow": null,
            "grid_area": null,
            "grid_auto_columns": null,
            "grid_auto_flow": null,
            "grid_auto_rows": null,
            "grid_column": null,
            "grid_gap": null,
            "grid_row": null,
            "grid_template_areas": null,
            "grid_template_columns": null,
            "grid_template_rows": null,
            "height": null,
            "justify_content": null,
            "justify_items": null,
            "left": null,
            "margin": null,
            "max_height": null,
            "max_width": null,
            "min_height": null,
            "min_width": null,
            "object_fit": null,
            "object_position": null,
            "order": null,
            "overflow": null,
            "overflow_x": null,
            "overflow_y": null,
            "padding": null,
            "right": null,
            "top": null,
            "visibility": null,
            "width": null
          }
        },
        "7d61b61dfdfc4c5eb5cfce1aaf77ca20": {
          "model_module": "@jupyter-widgets/controls",
          "model_name": "DescriptionStyleModel",
          "model_module_version": "1.5.0",
          "state": {
            "_model_module": "@jupyter-widgets/controls",
            "_model_module_version": "1.5.0",
            "_model_name": "DescriptionStyleModel",
            "_view_count": null,
            "_view_module": "@jupyter-widgets/base",
            "_view_module_version": "1.2.0",
            "_view_name": "StyleView",
            "description_width": ""
          }
        },
        "f1540c478f164001b950fbcb7fe25c15": {
          "model_module": "@jupyter-widgets/controls",
          "model_name": "HBoxModel",
          "model_module_version": "1.5.0",
          "state": {
            "_dom_classes": [],
            "_model_module": "@jupyter-widgets/controls",
            "_model_module_version": "1.5.0",
            "_model_name": "HBoxModel",
            "_view_count": null,
            "_view_module": "@jupyter-widgets/controls",
            "_view_module_version": "1.5.0",
            "_view_name": "HBoxView",
            "box_style": "",
            "children": [
              "IPY_MODEL_310ec00dec4046308a37825d88978636",
              "IPY_MODEL_ba377e144811468a9f18e8407e29ded2",
              "IPY_MODEL_c79e5f2b4c4047dcac9e236919a56969"
            ],
            "layout": "IPY_MODEL_e9c7f251130841e2ade81768d25e8db5"
          }
        },
        "310ec00dec4046308a37825d88978636": {
          "model_module": "@jupyter-widgets/controls",
          "model_name": "HTMLModel",
          "model_module_version": "1.5.0",
          "state": {
            "_dom_classes": [],
            "_model_module": "@jupyter-widgets/controls",
            "_model_module_version": "1.5.0",
            "_model_name": "HTMLModel",
            "_view_count": null,
            "_view_module": "@jupyter-widgets/controls",
            "_view_module_version": "1.5.0",
            "_view_name": "HTMLView",
            "description": "",
            "description_tooltip": null,
            "layout": "IPY_MODEL_b195690bf1b04b24bfb0e6684233b169",
            "placeholder": "​",
            "style": "IPY_MODEL_bb64b14a16ca47458c4e0fc6eb664540",
            "value": "Downloading: 100%"
          }
        },
        "ba377e144811468a9f18e8407e29ded2": {
          "model_module": "@jupyter-widgets/controls",
          "model_name": "FloatProgressModel",
          "model_module_version": "1.5.0",
          "state": {
            "_dom_classes": [],
            "_model_module": "@jupyter-widgets/controls",
            "_model_module_version": "1.5.0",
            "_model_name": "FloatProgressModel",
            "_view_count": null,
            "_view_module": "@jupyter-widgets/controls",
            "_view_module_version": "1.5.0",
            "_view_name": "ProgressView",
            "bar_style": "success",
            "description": "",
            "description_tooltip": null,
            "layout": "IPY_MODEL_acef66fea5574cec9704acc5f612b88e",
            "max": 28,
            "min": 0,
            "orientation": "horizontal",
            "style": "IPY_MODEL_3e6d961f9386428ea7e0157cf000d6c2",
            "value": 28
          }
        },
        "c79e5f2b4c4047dcac9e236919a56969": {
          "model_module": "@jupyter-widgets/controls",
          "model_name": "HTMLModel",
          "model_module_version": "1.5.0",
          "state": {
            "_dom_classes": [],
            "_model_module": "@jupyter-widgets/controls",
            "_model_module_version": "1.5.0",
            "_model_name": "HTMLModel",
            "_view_count": null,
            "_view_module": "@jupyter-widgets/controls",
            "_view_module_version": "1.5.0",
            "_view_name": "HTMLView",
            "description": "",
            "description_tooltip": null,
            "layout": "IPY_MODEL_08277ce5a7854c2bb4a076793d019358",
            "placeholder": "​",
            "style": "IPY_MODEL_77288ac312934945a61f2b00e8ccddd8",
            "value": " 28.0/28.0 [00:00&lt;00:00, 1.23kB/s]"
          }
        },
        "e9c7f251130841e2ade81768d25e8db5": {
          "model_module": "@jupyter-widgets/base",
          "model_name": "LayoutModel",
          "model_module_version": "1.2.0",
          "state": {
            "_model_module": "@jupyter-widgets/base",
            "_model_module_version": "1.2.0",
            "_model_name": "LayoutModel",
            "_view_count": null,
            "_view_module": "@jupyter-widgets/base",
            "_view_module_version": "1.2.0",
            "_view_name": "LayoutView",
            "align_content": null,
            "align_items": null,
            "align_self": null,
            "border": null,
            "bottom": null,
            "display": null,
            "flex": null,
            "flex_flow": null,
            "grid_area": null,
            "grid_auto_columns": null,
            "grid_auto_flow": null,
            "grid_auto_rows": null,
            "grid_column": null,
            "grid_gap": null,
            "grid_row": null,
            "grid_template_areas": null,
            "grid_template_columns": null,
            "grid_template_rows": null,
            "height": null,
            "justify_content": null,
            "justify_items": null,
            "left": null,
            "margin": null,
            "max_height": null,
            "max_width": null,
            "min_height": null,
            "min_width": null,
            "object_fit": null,
            "object_position": null,
            "order": null,
            "overflow": null,
            "overflow_x": null,
            "overflow_y": null,
            "padding": null,
            "right": null,
            "top": null,
            "visibility": null,
            "width": null
          }
        },
        "b195690bf1b04b24bfb0e6684233b169": {
          "model_module": "@jupyter-widgets/base",
          "model_name": "LayoutModel",
          "model_module_version": "1.2.0",
          "state": {
            "_model_module": "@jupyter-widgets/base",
            "_model_module_version": "1.2.0",
            "_model_name": "LayoutModel",
            "_view_count": null,
            "_view_module": "@jupyter-widgets/base",
            "_view_module_version": "1.2.0",
            "_view_name": "LayoutView",
            "align_content": null,
            "align_items": null,
            "align_self": null,
            "border": null,
            "bottom": null,
            "display": null,
            "flex": null,
            "flex_flow": null,
            "grid_area": null,
            "grid_auto_columns": null,
            "grid_auto_flow": null,
            "grid_auto_rows": null,
            "grid_column": null,
            "grid_gap": null,
            "grid_row": null,
            "grid_template_areas": null,
            "grid_template_columns": null,
            "grid_template_rows": null,
            "height": null,
            "justify_content": null,
            "justify_items": null,
            "left": null,
            "margin": null,
            "max_height": null,
            "max_width": null,
            "min_height": null,
            "min_width": null,
            "object_fit": null,
            "object_position": null,
            "order": null,
            "overflow": null,
            "overflow_x": null,
            "overflow_y": null,
            "padding": null,
            "right": null,
            "top": null,
            "visibility": null,
            "width": null
          }
        },
        "bb64b14a16ca47458c4e0fc6eb664540": {
          "model_module": "@jupyter-widgets/controls",
          "model_name": "DescriptionStyleModel",
          "model_module_version": "1.5.0",
          "state": {
            "_model_module": "@jupyter-widgets/controls",
            "_model_module_version": "1.5.0",
            "_model_name": "DescriptionStyleModel",
            "_view_count": null,
            "_view_module": "@jupyter-widgets/base",
            "_view_module_version": "1.2.0",
            "_view_name": "StyleView",
            "description_width": ""
          }
        },
        "acef66fea5574cec9704acc5f612b88e": {
          "model_module": "@jupyter-widgets/base",
          "model_name": "LayoutModel",
          "model_module_version": "1.2.0",
          "state": {
            "_model_module": "@jupyter-widgets/base",
            "_model_module_version": "1.2.0",
            "_model_name": "LayoutModel",
            "_view_count": null,
            "_view_module": "@jupyter-widgets/base",
            "_view_module_version": "1.2.0",
            "_view_name": "LayoutView",
            "align_content": null,
            "align_items": null,
            "align_self": null,
            "border": null,
            "bottom": null,
            "display": null,
            "flex": null,
            "flex_flow": null,
            "grid_area": null,
            "grid_auto_columns": null,
            "grid_auto_flow": null,
            "grid_auto_rows": null,
            "grid_column": null,
            "grid_gap": null,
            "grid_row": null,
            "grid_template_areas": null,
            "grid_template_columns": null,
            "grid_template_rows": null,
            "height": null,
            "justify_content": null,
            "justify_items": null,
            "left": null,
            "margin": null,
            "max_height": null,
            "max_width": null,
            "min_height": null,
            "min_width": null,
            "object_fit": null,
            "object_position": null,
            "order": null,
            "overflow": null,
            "overflow_x": null,
            "overflow_y": null,
            "padding": null,
            "right": null,
            "top": null,
            "visibility": null,
            "width": null
          }
        },
        "3e6d961f9386428ea7e0157cf000d6c2": {
          "model_module": "@jupyter-widgets/controls",
          "model_name": "ProgressStyleModel",
          "model_module_version": "1.5.0",
          "state": {
            "_model_module": "@jupyter-widgets/controls",
            "_model_module_version": "1.5.0",
            "_model_name": "ProgressStyleModel",
            "_view_count": null,
            "_view_module": "@jupyter-widgets/base",
            "_view_module_version": "1.2.0",
            "_view_name": "StyleView",
            "bar_color": null,
            "description_width": ""
          }
        },
        "08277ce5a7854c2bb4a076793d019358": {
          "model_module": "@jupyter-widgets/base",
          "model_name": "LayoutModel",
          "model_module_version": "1.2.0",
          "state": {
            "_model_module": "@jupyter-widgets/base",
            "_model_module_version": "1.2.0",
            "_model_name": "LayoutModel",
            "_view_count": null,
            "_view_module": "@jupyter-widgets/base",
            "_view_module_version": "1.2.0",
            "_view_name": "LayoutView",
            "align_content": null,
            "align_items": null,
            "align_self": null,
            "border": null,
            "bottom": null,
            "display": null,
            "flex": null,
            "flex_flow": null,
            "grid_area": null,
            "grid_auto_columns": null,
            "grid_auto_flow": null,
            "grid_auto_rows": null,
            "grid_column": null,
            "grid_gap": null,
            "grid_row": null,
            "grid_template_areas": null,
            "grid_template_columns": null,
            "grid_template_rows": null,
            "height": null,
            "justify_content": null,
            "justify_items": null,
            "left": null,
            "margin": null,
            "max_height": null,
            "max_width": null,
            "min_height": null,
            "min_width": null,
            "object_fit": null,
            "object_position": null,
            "order": null,
            "overflow": null,
            "overflow_x": null,
            "overflow_y": null,
            "padding": null,
            "right": null,
            "top": null,
            "visibility": null,
            "width": null
          }
        },
        "77288ac312934945a61f2b00e8ccddd8": {
          "model_module": "@jupyter-widgets/controls",
          "model_name": "DescriptionStyleModel",
          "model_module_version": "1.5.0",
          "state": {
            "_model_module": "@jupyter-widgets/controls",
            "_model_module_version": "1.5.0",
            "_model_name": "DescriptionStyleModel",
            "_view_count": null,
            "_view_module": "@jupyter-widgets/base",
            "_view_module_version": "1.2.0",
            "_view_name": "StyleView",
            "description_width": ""
          }
        },
        "253119e870824fb89f293d73a2b53f61": {
          "model_module": "@jupyter-widgets/controls",
          "model_name": "HBoxModel",
          "model_module_version": "1.5.0",
          "state": {
            "_dom_classes": [],
            "_model_module": "@jupyter-widgets/controls",
            "_model_module_version": "1.5.0",
            "_model_name": "HBoxModel",
            "_view_count": null,
            "_view_module": "@jupyter-widgets/controls",
            "_view_module_version": "1.5.0",
            "_view_name": "HBoxView",
            "box_style": "",
            "children": [
              "IPY_MODEL_4b570e73b3a741f18f8d802ca4edb1ba",
              "IPY_MODEL_2d51c5155496492c9d1544575119e6ff",
              "IPY_MODEL_f0539d6d616047d4ad3a0aaa96bc05ed"
            ],
            "layout": "IPY_MODEL_710b6b8cd3d64b01ab92d3883ecd77c5"
          }
        },
        "4b570e73b3a741f18f8d802ca4edb1ba": {
          "model_module": "@jupyter-widgets/controls",
          "model_name": "HTMLModel",
          "model_module_version": "1.5.0",
          "state": {
            "_dom_classes": [],
            "_model_module": "@jupyter-widgets/controls",
            "_model_module_version": "1.5.0",
            "_model_name": "HTMLModel",
            "_view_count": null,
            "_view_module": "@jupyter-widgets/controls",
            "_view_module_version": "1.5.0",
            "_view_name": "HTMLView",
            "description": "",
            "description_tooltip": null,
            "layout": "IPY_MODEL_c4e60b71f13243c0b446141e353f96dc",
            "placeholder": "​",
            "style": "IPY_MODEL_d9fe489292e640689c70d7791b93c816",
            "value": "Downloading: 100%"
          }
        },
        "2d51c5155496492c9d1544575119e6ff": {
          "model_module": "@jupyter-widgets/controls",
          "model_name": "FloatProgressModel",
          "model_module_version": "1.5.0",
          "state": {
            "_dom_classes": [],
            "_model_module": "@jupyter-widgets/controls",
            "_model_module_version": "1.5.0",
            "_model_name": "FloatProgressModel",
            "_view_count": null,
            "_view_module": "@jupyter-widgets/controls",
            "_view_module_version": "1.5.0",
            "_view_name": "ProgressView",
            "bar_style": "success",
            "description": "",
            "description_tooltip": null,
            "layout": "IPY_MODEL_5df7feb4f2954996baab990b0bc50105",
            "max": 570,
            "min": 0,
            "orientation": "horizontal",
            "style": "IPY_MODEL_e74ad70fe44745fea3118d11ffa3044f",
            "value": 570
          }
        },
        "f0539d6d616047d4ad3a0aaa96bc05ed": {
          "model_module": "@jupyter-widgets/controls",
          "model_name": "HTMLModel",
          "model_module_version": "1.5.0",
          "state": {
            "_dom_classes": [],
            "_model_module": "@jupyter-widgets/controls",
            "_model_module_version": "1.5.0",
            "_model_name": "HTMLModel",
            "_view_count": null,
            "_view_module": "@jupyter-widgets/controls",
            "_view_module_version": "1.5.0",
            "_view_name": "HTMLView",
            "description": "",
            "description_tooltip": null,
            "layout": "IPY_MODEL_e7adbbd1a5154da1836f4596502fe3bb",
            "placeholder": "​",
            "style": "IPY_MODEL_cf93f5b967dd42da8e5924bfa35caf7e",
            "value": " 570/570 [00:00&lt;00:00, 24.4kB/s]"
          }
        },
        "710b6b8cd3d64b01ab92d3883ecd77c5": {
          "model_module": "@jupyter-widgets/base",
          "model_name": "LayoutModel",
          "model_module_version": "1.2.0",
          "state": {
            "_model_module": "@jupyter-widgets/base",
            "_model_module_version": "1.2.0",
            "_model_name": "LayoutModel",
            "_view_count": null,
            "_view_module": "@jupyter-widgets/base",
            "_view_module_version": "1.2.0",
            "_view_name": "LayoutView",
            "align_content": null,
            "align_items": null,
            "align_self": null,
            "border": null,
            "bottom": null,
            "display": null,
            "flex": null,
            "flex_flow": null,
            "grid_area": null,
            "grid_auto_columns": null,
            "grid_auto_flow": null,
            "grid_auto_rows": null,
            "grid_column": null,
            "grid_gap": null,
            "grid_row": null,
            "grid_template_areas": null,
            "grid_template_columns": null,
            "grid_template_rows": null,
            "height": null,
            "justify_content": null,
            "justify_items": null,
            "left": null,
            "margin": null,
            "max_height": null,
            "max_width": null,
            "min_height": null,
            "min_width": null,
            "object_fit": null,
            "object_position": null,
            "order": null,
            "overflow": null,
            "overflow_x": null,
            "overflow_y": null,
            "padding": null,
            "right": null,
            "top": null,
            "visibility": null,
            "width": null
          }
        },
        "c4e60b71f13243c0b446141e353f96dc": {
          "model_module": "@jupyter-widgets/base",
          "model_name": "LayoutModel",
          "model_module_version": "1.2.0",
          "state": {
            "_model_module": "@jupyter-widgets/base",
            "_model_module_version": "1.2.0",
            "_model_name": "LayoutModel",
            "_view_count": null,
            "_view_module": "@jupyter-widgets/base",
            "_view_module_version": "1.2.0",
            "_view_name": "LayoutView",
            "align_content": null,
            "align_items": null,
            "align_self": null,
            "border": null,
            "bottom": null,
            "display": null,
            "flex": null,
            "flex_flow": null,
            "grid_area": null,
            "grid_auto_columns": null,
            "grid_auto_flow": null,
            "grid_auto_rows": null,
            "grid_column": null,
            "grid_gap": null,
            "grid_row": null,
            "grid_template_areas": null,
            "grid_template_columns": null,
            "grid_template_rows": null,
            "height": null,
            "justify_content": null,
            "justify_items": null,
            "left": null,
            "margin": null,
            "max_height": null,
            "max_width": null,
            "min_height": null,
            "min_width": null,
            "object_fit": null,
            "object_position": null,
            "order": null,
            "overflow": null,
            "overflow_x": null,
            "overflow_y": null,
            "padding": null,
            "right": null,
            "top": null,
            "visibility": null,
            "width": null
          }
        },
        "d9fe489292e640689c70d7791b93c816": {
          "model_module": "@jupyter-widgets/controls",
          "model_name": "DescriptionStyleModel",
          "model_module_version": "1.5.0",
          "state": {
            "_model_module": "@jupyter-widgets/controls",
            "_model_module_version": "1.5.0",
            "_model_name": "DescriptionStyleModel",
            "_view_count": null,
            "_view_module": "@jupyter-widgets/base",
            "_view_module_version": "1.2.0",
            "_view_name": "StyleView",
            "description_width": ""
          }
        },
        "5df7feb4f2954996baab990b0bc50105": {
          "model_module": "@jupyter-widgets/base",
          "model_name": "LayoutModel",
          "model_module_version": "1.2.0",
          "state": {
            "_model_module": "@jupyter-widgets/base",
            "_model_module_version": "1.2.0",
            "_model_name": "LayoutModel",
            "_view_count": null,
            "_view_module": "@jupyter-widgets/base",
            "_view_module_version": "1.2.0",
            "_view_name": "LayoutView",
            "align_content": null,
            "align_items": null,
            "align_self": null,
            "border": null,
            "bottom": null,
            "display": null,
            "flex": null,
            "flex_flow": null,
            "grid_area": null,
            "grid_auto_columns": null,
            "grid_auto_flow": null,
            "grid_auto_rows": null,
            "grid_column": null,
            "grid_gap": null,
            "grid_row": null,
            "grid_template_areas": null,
            "grid_template_columns": null,
            "grid_template_rows": null,
            "height": null,
            "justify_content": null,
            "justify_items": null,
            "left": null,
            "margin": null,
            "max_height": null,
            "max_width": null,
            "min_height": null,
            "min_width": null,
            "object_fit": null,
            "object_position": null,
            "order": null,
            "overflow": null,
            "overflow_x": null,
            "overflow_y": null,
            "padding": null,
            "right": null,
            "top": null,
            "visibility": null,
            "width": null
          }
        },
        "e74ad70fe44745fea3118d11ffa3044f": {
          "model_module": "@jupyter-widgets/controls",
          "model_name": "ProgressStyleModel",
          "model_module_version": "1.5.0",
          "state": {
            "_model_module": "@jupyter-widgets/controls",
            "_model_module_version": "1.5.0",
            "_model_name": "ProgressStyleModel",
            "_view_count": null,
            "_view_module": "@jupyter-widgets/base",
            "_view_module_version": "1.2.0",
            "_view_name": "StyleView",
            "bar_color": null,
            "description_width": ""
          }
        },
        "e7adbbd1a5154da1836f4596502fe3bb": {
          "model_module": "@jupyter-widgets/base",
          "model_name": "LayoutModel",
          "model_module_version": "1.2.0",
          "state": {
            "_model_module": "@jupyter-widgets/base",
            "_model_module_version": "1.2.0",
            "_model_name": "LayoutModel",
            "_view_count": null,
            "_view_module": "@jupyter-widgets/base",
            "_view_module_version": "1.2.0",
            "_view_name": "LayoutView",
            "align_content": null,
            "align_items": null,
            "align_self": null,
            "border": null,
            "bottom": null,
            "display": null,
            "flex": null,
            "flex_flow": null,
            "grid_area": null,
            "grid_auto_columns": null,
            "grid_auto_flow": null,
            "grid_auto_rows": null,
            "grid_column": null,
            "grid_gap": null,
            "grid_row": null,
            "grid_template_areas": null,
            "grid_template_columns": null,
            "grid_template_rows": null,
            "height": null,
            "justify_content": null,
            "justify_items": null,
            "left": null,
            "margin": null,
            "max_height": null,
            "max_width": null,
            "min_height": null,
            "min_width": null,
            "object_fit": null,
            "object_position": null,
            "order": null,
            "overflow": null,
            "overflow_x": null,
            "overflow_y": null,
            "padding": null,
            "right": null,
            "top": null,
            "visibility": null,
            "width": null
          }
        },
        "cf93f5b967dd42da8e5924bfa35caf7e": {
          "model_module": "@jupyter-widgets/controls",
          "model_name": "DescriptionStyleModel",
          "model_module_version": "1.5.0",
          "state": {
            "_model_module": "@jupyter-widgets/controls",
            "_model_module_version": "1.5.0",
            "_model_name": "DescriptionStyleModel",
            "_view_count": null,
            "_view_module": "@jupyter-widgets/base",
            "_view_module_version": "1.2.0",
            "_view_name": "StyleView",
            "description_width": ""
          }
        }
      }
    }
  },
  "nbformat": 4,
  "nbformat_minor": 0
}