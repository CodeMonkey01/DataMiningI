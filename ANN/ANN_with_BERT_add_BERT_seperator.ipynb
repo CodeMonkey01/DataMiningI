{
  "nbformat": 4,
  "nbformat_minor": 0,
  "metadata": {
    "colab": {
      "name": "ANN with BERT.ipynb",
      "provenance": [],
      "collapsed_sections": [],
      "authorship_tag": "ABX9TyOmlsQ9kGWHM9K6LNUSOD63",
      "include_colab_link": true
    },
    "kernelspec": {
      "name": "python3",
      "display_name": "Python 3"
    },
    "language_info": {
      "name": "python"
    },
    "accelerator": "GPU"
  },
  "cells": [
    {
      "cell_type": "markdown",
      "metadata": {
        "id": "view-in-github",
        "colab_type": "text"
      },
      "source": [
        "<a href=\"https://colab.research.google.com/github/CodeMonkey01/DataMiningI/blob/main/ANN/ANN_with_BERT_add_BERT_seperator.ipynb\" target=\"_parent\"><img src=\"https://colab.research.google.com/assets/colab-badge.svg\" alt=\"Open In Colab\"/></a>"
      ]
    },
    {
      "cell_type": "markdown",
      "source": [
        "# ANN with BERT\n",
        "In this notebook I tried to solve the classification model with an ANN based on pretrained BERT layers.\n",
        "\n",
        "## TODO:\n",
        "- [ ] Stemming\n",
        "- [ ] Remove Stop Words\n",
        "- [x] BERT Seperator\n",
        "\n",
        "## Results\n",
        "accuracy: 0.8648 - precision: 0.8275 - recall: 0.9173"
      ],
      "metadata": {
        "id": "4oym-u7JY-lc"
      }
    },
    {
      "cell_type": "code",
      "execution_count": 1,
      "metadata": {
        "colab": {
          "base_uri": "https://localhost:8080/"
        },
        "id": "o41yey4xPvVp",
        "outputId": "e237d27d-b889-4759-9c4c-7a790da0a3bb"
      },
      "outputs": [
        {
          "output_type": "stream",
          "name": "stdout",
          "text": [
            "Mounted at /content/drive/\n",
            "/content/drive/MyDrive\n",
            "Sun May 15 17:43:38 2022       \n",
            "+-----------------------------------------------------------------------------+\n",
            "| NVIDIA-SMI 460.32.03    Driver Version: 460.32.03    CUDA Version: 11.2     |\n",
            "|-------------------------------+----------------------+----------------------+\n",
            "| GPU  Name        Persistence-M| Bus-Id        Disp.A | Volatile Uncorr. ECC |\n",
            "| Fan  Temp  Perf  Pwr:Usage/Cap|         Memory-Usage | GPU-Util  Compute M. |\n",
            "|                               |                      |               MIG M. |\n",
            "|===============================+======================+======================|\n",
            "|   0  Tesla P100-PCIE...  Off  | 00000000:00:04.0 Off |                    0 |\n",
            "| N/A   33C    P0    27W / 250W |      0MiB / 16280MiB |      0%      Default |\n",
            "|                               |                      |                  N/A |\n",
            "+-------------------------------+----------------------+----------------------+\n",
            "                                                                               \n",
            "+-----------------------------------------------------------------------------+\n",
            "| Processes:                                                                  |\n",
            "|  GPU   GI   CI        PID   Type   Process name                  GPU Memory |\n",
            "|        ID   ID                                                   Usage      |\n",
            "|=============================================================================|\n",
            "|  No running processes found                                                 |\n",
            "+-----------------------------------------------------------------------------+\n"
          ]
        }
      ],
      "source": [
        "try:\n",
        "    from google.colab import drive\n",
        "    drive.mount('/content/drive/')\n",
        "    %cd '/content/drive/MyDrive/'\n",
        "\n",
        "    gpu_info = !nvidia-smi\n",
        "    gpu_info = '\\n'.join(gpu_info)\n",
        "    if gpu_info.find('failed') >= 0:\n",
        "      print('Not connected to a GPU')\n",
        "    else:\n",
        "      print(gpu_info)\n",
        "except ImportError as e:\n",
        "    pass"
      ]
    },
    {
      "cell_type": "code",
      "source": [
        "!pip install tensorflow_text\n",
        "!pip install tensorflow_hub\n",
        "!pip install transformers"
      ],
      "metadata": {
        "id": "zPNfsRkESPvi",
        "colab": {
          "base_uri": "https://localhost:8080/"
        },
        "outputId": "c4e56cdf-6a3f-4192-88c2-16985960a286"
      },
      "execution_count": 8,
      "outputs": [
        {
          "output_type": "stream",
          "name": "stdout",
          "text": [
            "Requirement already satisfied: tensorflow_text in /usr/local/lib/python3.7/dist-packages (2.8.2)\n",
            "Requirement already satisfied: tensorflow-hub>=0.8.0 in /usr/local/lib/python3.7/dist-packages (from tensorflow_text) (0.12.0)\n",
            "Requirement already satisfied: tensorflow<2.9,>=2.8.0 in /usr/local/lib/python3.7/dist-packages (from tensorflow_text) (2.8.0)\n",
            "Requirement already satisfied: flatbuffers>=1.12 in /usr/local/lib/python3.7/dist-packages (from tensorflow<2.9,>=2.8.0->tensorflow_text) (2.0)\n",
            "Requirement already satisfied: libclang>=9.0.1 in /usr/local/lib/python3.7/dist-packages (from tensorflow<2.9,>=2.8.0->tensorflow_text) (14.0.1)\n",
            "Requirement already satisfied: grpcio<2.0,>=1.24.3 in /usr/local/lib/python3.7/dist-packages (from tensorflow<2.9,>=2.8.0->tensorflow_text) (1.44.0)\n",
            "Requirement already satisfied: astunparse>=1.6.0 in /usr/local/lib/python3.7/dist-packages (from tensorflow<2.9,>=2.8.0->tensorflow_text) (1.6.3)\n",
            "Requirement already satisfied: tensorflow-io-gcs-filesystem>=0.23.1 in /usr/local/lib/python3.7/dist-packages (from tensorflow<2.9,>=2.8.0->tensorflow_text) (0.25.0)\n",
            "Requirement already satisfied: keras-preprocessing>=1.1.1 in /usr/local/lib/python3.7/dist-packages (from tensorflow<2.9,>=2.8.0->tensorflow_text) (1.1.2)\n",
            "Requirement already satisfied: setuptools in /usr/local/lib/python3.7/dist-packages (from tensorflow<2.9,>=2.8.0->tensorflow_text) (57.4.0)\n",
            "Requirement already satisfied: keras<2.9,>=2.8.0rc0 in /usr/local/lib/python3.7/dist-packages (from tensorflow<2.9,>=2.8.0->tensorflow_text) (2.8.0)\n",
            "Requirement already satisfied: gast>=0.2.1 in /usr/local/lib/python3.7/dist-packages (from tensorflow<2.9,>=2.8.0->tensorflow_text) (0.5.3)\n",
            "Requirement already satisfied: wrapt>=1.11.0 in /usr/local/lib/python3.7/dist-packages (from tensorflow<2.9,>=2.8.0->tensorflow_text) (1.14.0)\n",
            "Requirement already satisfied: numpy>=1.20 in /usr/local/lib/python3.7/dist-packages (from tensorflow<2.9,>=2.8.0->tensorflow_text) (1.21.6)\n",
            "Requirement already satisfied: opt-einsum>=2.3.2 in /usr/local/lib/python3.7/dist-packages (from tensorflow<2.9,>=2.8.0->tensorflow_text) (3.3.0)\n",
            "Requirement already satisfied: typing-extensions>=3.6.6 in /usr/local/lib/python3.7/dist-packages (from tensorflow<2.9,>=2.8.0->tensorflow_text) (4.2.0)\n",
            "Requirement already satisfied: google-pasta>=0.1.1 in /usr/local/lib/python3.7/dist-packages (from tensorflow<2.9,>=2.8.0->tensorflow_text) (0.2.0)\n",
            "Requirement already satisfied: h5py>=2.9.0 in /usr/local/lib/python3.7/dist-packages (from tensorflow<2.9,>=2.8.0->tensorflow_text) (3.1.0)\n",
            "Requirement already satisfied: tensorboard<2.9,>=2.8 in /usr/local/lib/python3.7/dist-packages (from tensorflow<2.9,>=2.8.0->tensorflow_text) (2.8.0)\n",
            "Requirement already satisfied: six>=1.12.0 in /usr/local/lib/python3.7/dist-packages (from tensorflow<2.9,>=2.8.0->tensorflow_text) (1.15.0)\n",
            "Requirement already satisfied: termcolor>=1.1.0 in /usr/local/lib/python3.7/dist-packages (from tensorflow<2.9,>=2.8.0->tensorflow_text) (1.1.0)\n",
            "Requirement already satisfied: protobuf>=3.9.2 in /usr/local/lib/python3.7/dist-packages (from tensorflow<2.9,>=2.8.0->tensorflow_text) (3.17.3)\n",
            "Requirement already satisfied: tf-estimator-nightly==2.8.0.dev2021122109 in /usr/local/lib/python3.7/dist-packages (from tensorflow<2.9,>=2.8.0->tensorflow_text) (2.8.0.dev2021122109)\n",
            "Requirement already satisfied: absl-py>=0.4.0 in /usr/local/lib/python3.7/dist-packages (from tensorflow<2.9,>=2.8.0->tensorflow_text) (1.0.0)\n",
            "Requirement already satisfied: wheel<1.0,>=0.23.0 in /usr/local/lib/python3.7/dist-packages (from astunparse>=1.6.0->tensorflow<2.9,>=2.8.0->tensorflow_text) (0.37.1)\n",
            "Requirement already satisfied: cached-property in /usr/local/lib/python3.7/dist-packages (from h5py>=2.9.0->tensorflow<2.9,>=2.8.0->tensorflow_text) (1.5.2)\n",
            "Requirement already satisfied: markdown>=2.6.8 in /usr/local/lib/python3.7/dist-packages (from tensorboard<2.9,>=2.8->tensorflow<2.9,>=2.8.0->tensorflow_text) (3.3.6)\n",
            "Requirement already satisfied: tensorboard-data-server<0.7.0,>=0.6.0 in /usr/local/lib/python3.7/dist-packages (from tensorboard<2.9,>=2.8->tensorflow<2.9,>=2.8.0->tensorflow_text) (0.6.1)\n",
            "Requirement already satisfied: google-auth<3,>=1.6.3 in /usr/local/lib/python3.7/dist-packages (from tensorboard<2.9,>=2.8->tensorflow<2.9,>=2.8.0->tensorflow_text) (1.35.0)\n",
            "Requirement already satisfied: tensorboard-plugin-wit>=1.6.0 in /usr/local/lib/python3.7/dist-packages (from tensorboard<2.9,>=2.8->tensorflow<2.9,>=2.8.0->tensorflow_text) (1.8.1)\n",
            "Requirement already satisfied: werkzeug>=0.11.15 in /usr/local/lib/python3.7/dist-packages (from tensorboard<2.9,>=2.8->tensorflow<2.9,>=2.8.0->tensorflow_text) (1.0.1)\n",
            "Requirement already satisfied: google-auth-oauthlib<0.5,>=0.4.1 in /usr/local/lib/python3.7/dist-packages (from tensorboard<2.9,>=2.8->tensorflow<2.9,>=2.8.0->tensorflow_text) (0.4.6)\n",
            "Requirement already satisfied: requests<3,>=2.21.0 in /usr/local/lib/python3.7/dist-packages (from tensorboard<2.9,>=2.8->tensorflow<2.9,>=2.8.0->tensorflow_text) (2.23.0)\n",
            "Requirement already satisfied: rsa<5,>=3.1.4 in /usr/local/lib/python3.7/dist-packages (from google-auth<3,>=1.6.3->tensorboard<2.9,>=2.8->tensorflow<2.9,>=2.8.0->tensorflow_text) (4.8)\n",
            "Requirement already satisfied: cachetools<5.0,>=2.0.0 in /usr/local/lib/python3.7/dist-packages (from google-auth<3,>=1.6.3->tensorboard<2.9,>=2.8->tensorflow<2.9,>=2.8.0->tensorflow_text) (4.2.4)\n",
            "Requirement already satisfied: pyasn1-modules>=0.2.1 in /usr/local/lib/python3.7/dist-packages (from google-auth<3,>=1.6.3->tensorboard<2.9,>=2.8->tensorflow<2.9,>=2.8.0->tensorflow_text) (0.2.8)\n",
            "Requirement already satisfied: requests-oauthlib>=0.7.0 in /usr/local/lib/python3.7/dist-packages (from google-auth-oauthlib<0.5,>=0.4.1->tensorboard<2.9,>=2.8->tensorflow<2.9,>=2.8.0->tensorflow_text) (1.3.1)\n",
            "Requirement already satisfied: importlib-metadata>=4.4 in /usr/local/lib/python3.7/dist-packages (from markdown>=2.6.8->tensorboard<2.9,>=2.8->tensorflow<2.9,>=2.8.0->tensorflow_text) (4.11.3)\n",
            "Requirement already satisfied: zipp>=0.5 in /usr/local/lib/python3.7/dist-packages (from importlib-metadata>=4.4->markdown>=2.6.8->tensorboard<2.9,>=2.8->tensorflow<2.9,>=2.8.0->tensorflow_text) (3.8.0)\n",
            "Requirement already satisfied: pyasn1<0.5.0,>=0.4.6 in /usr/local/lib/python3.7/dist-packages (from pyasn1-modules>=0.2.1->google-auth<3,>=1.6.3->tensorboard<2.9,>=2.8->tensorflow<2.9,>=2.8.0->tensorflow_text) (0.4.8)\n",
            "Requirement already satisfied: idna<3,>=2.5 in /usr/local/lib/python3.7/dist-packages (from requests<3,>=2.21.0->tensorboard<2.9,>=2.8->tensorflow<2.9,>=2.8.0->tensorflow_text) (2.10)\n",
            "Requirement already satisfied: certifi>=2017.4.17 in /usr/local/lib/python3.7/dist-packages (from requests<3,>=2.21.0->tensorboard<2.9,>=2.8->tensorflow<2.9,>=2.8.0->tensorflow_text) (2021.10.8)\n",
            "Requirement already satisfied: urllib3!=1.25.0,!=1.25.1,<1.26,>=1.21.1 in /usr/local/lib/python3.7/dist-packages (from requests<3,>=2.21.0->tensorboard<2.9,>=2.8->tensorflow<2.9,>=2.8.0->tensorflow_text) (1.24.3)\n",
            "Requirement already satisfied: chardet<4,>=3.0.2 in /usr/local/lib/python3.7/dist-packages (from requests<3,>=2.21.0->tensorboard<2.9,>=2.8->tensorflow<2.9,>=2.8.0->tensorflow_text) (3.0.4)\n",
            "Requirement already satisfied: oauthlib>=3.0.0 in /usr/local/lib/python3.7/dist-packages (from requests-oauthlib>=0.7.0->google-auth-oauthlib<0.5,>=0.4.1->tensorboard<2.9,>=2.8->tensorflow<2.9,>=2.8.0->tensorflow_text) (3.2.0)\n",
            "Requirement already satisfied: tensorflow_hub in /usr/local/lib/python3.7/dist-packages (0.12.0)\n",
            "Requirement already satisfied: numpy>=1.12.0 in /usr/local/lib/python3.7/dist-packages (from tensorflow_hub) (1.21.6)\n",
            "Requirement already satisfied: protobuf>=3.8.0 in /usr/local/lib/python3.7/dist-packages (from tensorflow_hub) (3.17.3)\n",
            "Requirement already satisfied: six>=1.9 in /usr/local/lib/python3.7/dist-packages (from protobuf>=3.8.0->tensorflow_hub) (1.15.0)\n",
            "Collecting transformers\n",
            "  Downloading transformers-4.19.1-py3-none-any.whl (4.2 MB)\n",
            "\u001b[K     |████████████████████████████████| 4.2 MB 10.8 MB/s \n",
            "\u001b[?25hRequirement already satisfied: numpy>=1.17 in /usr/local/lib/python3.7/dist-packages (from transformers) (1.21.6)\n",
            "Requirement already satisfied: regex!=2019.12.17 in /usr/local/lib/python3.7/dist-packages (from transformers) (2019.12.20)\n",
            "Collecting tokenizers!=0.11.3,<0.13,>=0.11.1\n",
            "  Downloading tokenizers-0.12.1-cp37-cp37m-manylinux_2_12_x86_64.manylinux2010_x86_64.whl (6.6 MB)\n",
            "\u001b[K     |████████████████████████████████| 6.6 MB 65.9 MB/s \n",
            "\u001b[?25hRequirement already satisfied: tqdm>=4.27 in /usr/local/lib/python3.7/dist-packages (from transformers) (4.64.0)\n",
            "Requirement already satisfied: packaging>=20.0 in /usr/local/lib/python3.7/dist-packages (from transformers) (21.3)\n",
            "Collecting pyyaml>=5.1\n",
            "  Downloading PyYAML-6.0-cp37-cp37m-manylinux_2_5_x86_64.manylinux1_x86_64.manylinux_2_12_x86_64.manylinux2010_x86_64.whl (596 kB)\n",
            "\u001b[K     |████████████████████████████████| 596 kB 54.6 MB/s \n",
            "\u001b[?25hCollecting huggingface-hub<1.0,>=0.1.0\n",
            "  Downloading huggingface_hub-0.6.0-py3-none-any.whl (84 kB)\n",
            "\u001b[K     |████████████████████████████████| 84 kB 4.4 MB/s \n",
            "\u001b[?25hRequirement already satisfied: importlib-metadata in /usr/local/lib/python3.7/dist-packages (from transformers) (4.11.3)\n",
            "Requirement already satisfied: filelock in /usr/local/lib/python3.7/dist-packages (from transformers) (3.6.0)\n",
            "Requirement already satisfied: requests in /usr/local/lib/python3.7/dist-packages (from transformers) (2.23.0)\n",
            "Requirement already satisfied: typing-extensions>=3.7.4.3 in /usr/local/lib/python3.7/dist-packages (from huggingface-hub<1.0,>=0.1.0->transformers) (4.2.0)\n",
            "Requirement already satisfied: pyparsing!=3.0.5,>=2.0.2 in /usr/local/lib/python3.7/dist-packages (from packaging>=20.0->transformers) (3.0.8)\n",
            "Requirement already satisfied: zipp>=0.5 in /usr/local/lib/python3.7/dist-packages (from importlib-metadata->transformers) (3.8.0)\n",
            "Requirement already satisfied: urllib3!=1.25.0,!=1.25.1,<1.26,>=1.21.1 in /usr/local/lib/python3.7/dist-packages (from requests->transformers) (1.24.3)\n",
            "Requirement already satisfied: idna<3,>=2.5 in /usr/local/lib/python3.7/dist-packages (from requests->transformers) (2.10)\n",
            "Requirement already satisfied: certifi>=2017.4.17 in /usr/local/lib/python3.7/dist-packages (from requests->transformers) (2021.10.8)\n",
            "Requirement already satisfied: chardet<4,>=3.0.2 in /usr/local/lib/python3.7/dist-packages (from requests->transformers) (3.0.4)\n",
            "Installing collected packages: pyyaml, tokenizers, huggingface-hub, transformers\n",
            "  Attempting uninstall: pyyaml\n",
            "    Found existing installation: PyYAML 3.13\n",
            "    Uninstalling PyYAML-3.13:\n",
            "      Successfully uninstalled PyYAML-3.13\n",
            "Successfully installed huggingface-hub-0.6.0 pyyaml-6.0 tokenizers-0.12.1 transformers-4.19.1\n"
          ]
        }
      ]
    },
    {
      "cell_type": "code",
      "source": [
        "import tensorflow as tf\n",
        "import tensorflow_hub as hub\n",
        "import tensorflow_text as text\n",
        "import pandas as pd\n",
        "from sklearn.preprocessing import LabelEncoder\n",
        "import tensorflow as tf"
      ],
      "metadata": {
        "id": "HUKHIT8hSOAH"
      },
      "execution_count": 32,
      "outputs": []
    },
    {
      "cell_type": "code",
      "source": [
        "df_raw = pd.read_csv('/content/drive/MyDrive/Data Mining/dataset.txt')\n",
        "df_raw.describe()"
      ],
      "metadata": {
        "colab": {
          "base_uri": "https://localhost:8080/",
          "height": 175
        },
        "id": "7Iop3r0LP7b4",
        "outputId": "0b8e7c1a-2821-4d1e-dd25-3b9625798a09"
      },
      "execution_count": 33,
      "outputs": [
        {
          "output_type": "execute_result",
          "data": {
            "text/plain": [
              "                                                     text   humor\n",
              "count                                              200000  200000\n",
              "unique                                             200000       2\n",
              "top     Joe biden rules out 2020 bid: 'guys, i'm not r...   False\n",
              "freq                                                    1  100000"
            ],
            "text/html": [
              "\n",
              "  <div id=\"df-d57e45ac-f338-4f10-8706-e71ee32fbba0\">\n",
              "    <div class=\"colab-df-container\">\n",
              "      <div>\n",
              "<style scoped>\n",
              "    .dataframe tbody tr th:only-of-type {\n",
              "        vertical-align: middle;\n",
              "    }\n",
              "\n",
              "    .dataframe tbody tr th {\n",
              "        vertical-align: top;\n",
              "    }\n",
              "\n",
              "    .dataframe thead th {\n",
              "        text-align: right;\n",
              "    }\n",
              "</style>\n",
              "<table border=\"1\" class=\"dataframe\">\n",
              "  <thead>\n",
              "    <tr style=\"text-align: right;\">\n",
              "      <th></th>\n",
              "      <th>text</th>\n",
              "      <th>humor</th>\n",
              "    </tr>\n",
              "  </thead>\n",
              "  <tbody>\n",
              "    <tr>\n",
              "      <th>count</th>\n",
              "      <td>200000</td>\n",
              "      <td>200000</td>\n",
              "    </tr>\n",
              "    <tr>\n",
              "      <th>unique</th>\n",
              "      <td>200000</td>\n",
              "      <td>2</td>\n",
              "    </tr>\n",
              "    <tr>\n",
              "      <th>top</th>\n",
              "      <td>Joe biden rules out 2020 bid: 'guys, i'm not r...</td>\n",
              "      <td>False</td>\n",
              "    </tr>\n",
              "    <tr>\n",
              "      <th>freq</th>\n",
              "      <td>1</td>\n",
              "      <td>100000</td>\n",
              "    </tr>\n",
              "  </tbody>\n",
              "</table>\n",
              "</div>\n",
              "      <button class=\"colab-df-convert\" onclick=\"convertToInteractive('df-d57e45ac-f338-4f10-8706-e71ee32fbba0')\"\n",
              "              title=\"Convert this dataframe to an interactive table.\"\n",
              "              style=\"display:none;\">\n",
              "        \n",
              "  <svg xmlns=\"http://www.w3.org/2000/svg\" height=\"24px\"viewBox=\"0 0 24 24\"\n",
              "       width=\"24px\">\n",
              "    <path d=\"M0 0h24v24H0V0z\" fill=\"none\"/>\n",
              "    <path d=\"M18.56 5.44l.94 2.06.94-2.06 2.06-.94-2.06-.94-.94-2.06-.94 2.06-2.06.94zm-11 1L8.5 8.5l.94-2.06 2.06-.94-2.06-.94L8.5 2.5l-.94 2.06-2.06.94zm10 10l.94 2.06.94-2.06 2.06-.94-2.06-.94-.94-2.06-.94 2.06-2.06.94z\"/><path d=\"M17.41 7.96l-1.37-1.37c-.4-.4-.92-.59-1.43-.59-.52 0-1.04.2-1.43.59L10.3 9.45l-7.72 7.72c-.78.78-.78 2.05 0 2.83L4 21.41c.39.39.9.59 1.41.59.51 0 1.02-.2 1.41-.59l7.78-7.78 2.81-2.81c.8-.78.8-2.07 0-2.86zM5.41 20L4 18.59l7.72-7.72 1.47 1.35L5.41 20z\"/>\n",
              "  </svg>\n",
              "      </button>\n",
              "      \n",
              "  <style>\n",
              "    .colab-df-container {\n",
              "      display:flex;\n",
              "      flex-wrap:wrap;\n",
              "      gap: 12px;\n",
              "    }\n",
              "\n",
              "    .colab-df-convert {\n",
              "      background-color: #E8F0FE;\n",
              "      border: none;\n",
              "      border-radius: 50%;\n",
              "      cursor: pointer;\n",
              "      display: none;\n",
              "      fill: #1967D2;\n",
              "      height: 32px;\n",
              "      padding: 0 0 0 0;\n",
              "      width: 32px;\n",
              "    }\n",
              "\n",
              "    .colab-df-convert:hover {\n",
              "      background-color: #E2EBFA;\n",
              "      box-shadow: 0px 1px 2px rgba(60, 64, 67, 0.3), 0px 1px 3px 1px rgba(60, 64, 67, 0.15);\n",
              "      fill: #174EA6;\n",
              "    }\n",
              "\n",
              "    [theme=dark] .colab-df-convert {\n",
              "      background-color: #3B4455;\n",
              "      fill: #D2E3FC;\n",
              "    }\n",
              "\n",
              "    [theme=dark] .colab-df-convert:hover {\n",
              "      background-color: #434B5C;\n",
              "      box-shadow: 0px 1px 3px 1px rgba(0, 0, 0, 0.15);\n",
              "      filter: drop-shadow(0px 1px 2px rgba(0, 0, 0, 0.3));\n",
              "      fill: #FFFFFF;\n",
              "    }\n",
              "  </style>\n",
              "\n",
              "      <script>\n",
              "        const buttonEl =\n",
              "          document.querySelector('#df-d57e45ac-f338-4f10-8706-e71ee32fbba0 button.colab-df-convert');\n",
              "        buttonEl.style.display =\n",
              "          google.colab.kernel.accessAllowed ? 'block' : 'none';\n",
              "\n",
              "        async function convertToInteractive(key) {\n",
              "          const element = document.querySelector('#df-d57e45ac-f338-4f10-8706-e71ee32fbba0');\n",
              "          const dataTable =\n",
              "            await google.colab.kernel.invokeFunction('convertToInteractive',\n",
              "                                                     [key], {});\n",
              "          if (!dataTable) return;\n",
              "\n",
              "          const docLinkHtml = 'Like what you see? Visit the ' +\n",
              "            '<a target=\"_blank\" href=https://colab.research.google.com/notebooks/data_table.ipynb>data table notebook</a>'\n",
              "            + ' to learn more about interactive tables.';\n",
              "          element.innerHTML = '';\n",
              "          dataTable['output_type'] = 'display_data';\n",
              "          await google.colab.output.renderOutput(dataTable, element);\n",
              "          const docLink = document.createElement('div');\n",
              "          docLink.innerHTML = docLinkHtml;\n",
              "          element.appendChild(docLink);\n",
              "        }\n",
              "      </script>\n",
              "    </div>\n",
              "  </div>\n",
              "  "
            ]
          },
          "metadata": {},
          "execution_count": 33
        }
      ]
    },
    {
      "cell_type": "code",
      "source": [
        "# todo --> take random sample to speed up training\n",
        "df = df_raw.sample(5000)"
      ],
      "metadata": {
        "id": "ypD9eaqv5CI6"
      },
      "execution_count": 34,
      "outputs": []
    },
    {
      "cell_type": "markdown",
      "source": [
        "# Check for imbalance\n",
        "The dataset is equally balanced. Therefore, we do not need to rebalance the dataset."
      ],
      "metadata": {
        "id": "12R2RwOjS9-O"
      }
    },
    {
      "cell_type": "code",
      "source": [
        "df[\"humor\"].value_counts()"
      ],
      "metadata": {
        "colab": {
          "base_uri": "https://localhost:8080/"
        },
        "id": "HvW_6M_VSuhG",
        "outputId": "4abcbb2d-4f56-471c-947e-43dc4ae45707"
      },
      "execution_count": 35,
      "outputs": [
        {
          "output_type": "execute_result",
          "data": {
            "text/plain": [
              "False    2530\n",
              "True     2470\n",
              "Name: humor, dtype: int64"
            ]
          },
          "metadata": {},
          "execution_count": 35
        }
      ]
    },
    {
      "cell_type": "markdown",
      "source": [
        "# Preprocessing"
      ],
      "metadata": {
        "id": "b4KqkTrKTi5u"
      }
    },
    {
      "cell_type": "code",
      "source": [
        "# Transform class from Boolean to integer value\n",
        "df['class']=df['humor'].apply(lambda x: 1 if x==True else 0)"
      ],
      "metadata": {
        "id": "tKOlW4JGSgIk"
      },
      "execution_count": 36,
      "outputs": []
    },
    {
      "cell_type": "code",
      "source": [
        "from transformers import BertTokenizer\n",
        "tokenizer = BertTokenizer.from_pretrained(\"bert-base-uncased\")\n",
        "\n",
        "MAX_LEN = 128\n",
        "#pad_to_max_length=True,\n",
        "df['bert_preprocessed']=df['text'].apply(lambda x: \" \".join(list(tokenizer.convert_ids_to_tokens(tokenizer.encode(x, add_special_tokens=True, max_length=MAX_LEN,  truncation=True)))))"
      ],
      "metadata": {
        "id": "4l7ycCbR0Zoe"
      },
      "execution_count": 53,
      "outputs": []
    },
    {
      "cell_type": "code",
      "source": [
        "df.head()"
      ],
      "metadata": {
        "id": "ghGSvlxC3vme",
        "outputId": "57dd70f3-205c-4153-a249-a133dfa86f8f",
        "colab": {
          "base_uri": "https://localhost:8080/",
          "height": 206
        }
      },
      "execution_count": 54,
      "outputs": [
        {
          "output_type": "execute_result",
          "data": {
            "text/plain": [
              "                                                     text  humor  class  \\\n",
              "171413  Iraqis mock prime minister's reaction to stain...  False      0   \n",
              "166207  Right-wing reporter jerome corsi promotes film...  False      0   \n",
              "25252   Gap black friday sale 2012: deals on sweaters,...  False      0   \n",
              "11704   How do you know if you have an underbite? when...   True      1   \n",
              "118750  What do you call 2 white girls + a starbucks? ...   True      1   \n",
              "\n",
              "                                        bert_preprocessed  \n",
              "171413  [CLS] iraqi ##s mock prime minister ' s reacti...  \n",
              "166207  [CLS] right - wing reporter jerome co ##rs ##i...  \n",
              "25252   [CLS] gap black friday sale 2012 : deals on sw...  \n",
              "11704   [CLS] how do you know if you have an under ##b...  \n",
              "118750  [CLS] what do you call 2 white girls + a starb...  "
            ],
            "text/html": [
              "\n",
              "  <div id=\"df-663c4387-5ea9-4376-b694-884caf0a3932\">\n",
              "    <div class=\"colab-df-container\">\n",
              "      <div>\n",
              "<style scoped>\n",
              "    .dataframe tbody tr th:only-of-type {\n",
              "        vertical-align: middle;\n",
              "    }\n",
              "\n",
              "    .dataframe tbody tr th {\n",
              "        vertical-align: top;\n",
              "    }\n",
              "\n",
              "    .dataframe thead th {\n",
              "        text-align: right;\n",
              "    }\n",
              "</style>\n",
              "<table border=\"1\" class=\"dataframe\">\n",
              "  <thead>\n",
              "    <tr style=\"text-align: right;\">\n",
              "      <th></th>\n",
              "      <th>text</th>\n",
              "      <th>humor</th>\n",
              "      <th>class</th>\n",
              "      <th>bert_preprocessed</th>\n",
              "    </tr>\n",
              "  </thead>\n",
              "  <tbody>\n",
              "    <tr>\n",
              "      <th>171413</th>\n",
              "      <td>Iraqis mock prime minister's reaction to stain...</td>\n",
              "      <td>False</td>\n",
              "      <td>0</td>\n",
              "      <td>[CLS] iraqi ##s mock prime minister ' s reacti...</td>\n",
              "    </tr>\n",
              "    <tr>\n",
              "      <th>166207</th>\n",
              "      <td>Right-wing reporter jerome corsi promotes film...</td>\n",
              "      <td>False</td>\n",
              "      <td>0</td>\n",
              "      <td>[CLS] right - wing reporter jerome co ##rs ##i...</td>\n",
              "    </tr>\n",
              "    <tr>\n",
              "      <th>25252</th>\n",
              "      <td>Gap black friday sale 2012: deals on sweaters,...</td>\n",
              "      <td>False</td>\n",
              "      <td>0</td>\n",
              "      <td>[CLS] gap black friday sale 2012 : deals on sw...</td>\n",
              "    </tr>\n",
              "    <tr>\n",
              "      <th>11704</th>\n",
              "      <td>How do you know if you have an underbite? when...</td>\n",
              "      <td>True</td>\n",
              "      <td>1</td>\n",
              "      <td>[CLS] how do you know if you have an under ##b...</td>\n",
              "    </tr>\n",
              "    <tr>\n",
              "      <th>118750</th>\n",
              "      <td>What do you call 2 white girls + a starbucks? ...</td>\n",
              "      <td>True</td>\n",
              "      <td>1</td>\n",
              "      <td>[CLS] what do you call 2 white girls + a starb...</td>\n",
              "    </tr>\n",
              "  </tbody>\n",
              "</table>\n",
              "</div>\n",
              "      <button class=\"colab-df-convert\" onclick=\"convertToInteractive('df-663c4387-5ea9-4376-b694-884caf0a3932')\"\n",
              "              title=\"Convert this dataframe to an interactive table.\"\n",
              "              style=\"display:none;\">\n",
              "        \n",
              "  <svg xmlns=\"http://www.w3.org/2000/svg\" height=\"24px\"viewBox=\"0 0 24 24\"\n",
              "       width=\"24px\">\n",
              "    <path d=\"M0 0h24v24H0V0z\" fill=\"none\"/>\n",
              "    <path d=\"M18.56 5.44l.94 2.06.94-2.06 2.06-.94-2.06-.94-.94-2.06-.94 2.06-2.06.94zm-11 1L8.5 8.5l.94-2.06 2.06-.94-2.06-.94L8.5 2.5l-.94 2.06-2.06.94zm10 10l.94 2.06.94-2.06 2.06-.94-2.06-.94-.94-2.06-.94 2.06-2.06.94z\"/><path d=\"M17.41 7.96l-1.37-1.37c-.4-.4-.92-.59-1.43-.59-.52 0-1.04.2-1.43.59L10.3 9.45l-7.72 7.72c-.78.78-.78 2.05 0 2.83L4 21.41c.39.39.9.59 1.41.59.51 0 1.02-.2 1.41-.59l7.78-7.78 2.81-2.81c.8-.78.8-2.07 0-2.86zM5.41 20L4 18.59l7.72-7.72 1.47 1.35L5.41 20z\"/>\n",
              "  </svg>\n",
              "      </button>\n",
              "      \n",
              "  <style>\n",
              "    .colab-df-container {\n",
              "      display:flex;\n",
              "      flex-wrap:wrap;\n",
              "      gap: 12px;\n",
              "    }\n",
              "\n",
              "    .colab-df-convert {\n",
              "      background-color: #E8F0FE;\n",
              "      border: none;\n",
              "      border-radius: 50%;\n",
              "      cursor: pointer;\n",
              "      display: none;\n",
              "      fill: #1967D2;\n",
              "      height: 32px;\n",
              "      padding: 0 0 0 0;\n",
              "      width: 32px;\n",
              "    }\n",
              "\n",
              "    .colab-df-convert:hover {\n",
              "      background-color: #E2EBFA;\n",
              "      box-shadow: 0px 1px 2px rgba(60, 64, 67, 0.3), 0px 1px 3px 1px rgba(60, 64, 67, 0.15);\n",
              "      fill: #174EA6;\n",
              "    }\n",
              "\n",
              "    [theme=dark] .colab-df-convert {\n",
              "      background-color: #3B4455;\n",
              "      fill: #D2E3FC;\n",
              "    }\n",
              "\n",
              "    [theme=dark] .colab-df-convert:hover {\n",
              "      background-color: #434B5C;\n",
              "      box-shadow: 0px 1px 3px 1px rgba(0, 0, 0, 0.15);\n",
              "      filter: drop-shadow(0px 1px 2px rgba(0, 0, 0, 0.3));\n",
              "      fill: #FFFFFF;\n",
              "    }\n",
              "  </style>\n",
              "\n",
              "      <script>\n",
              "        const buttonEl =\n",
              "          document.querySelector('#df-663c4387-5ea9-4376-b694-884caf0a3932 button.colab-df-convert');\n",
              "        buttonEl.style.display =\n",
              "          google.colab.kernel.accessAllowed ? 'block' : 'none';\n",
              "\n",
              "        async function convertToInteractive(key) {\n",
              "          const element = document.querySelector('#df-663c4387-5ea9-4376-b694-884caf0a3932');\n",
              "          const dataTable =\n",
              "            await google.colab.kernel.invokeFunction('convertToInteractive',\n",
              "                                                     [key], {});\n",
              "          if (!dataTable) return;\n",
              "\n",
              "          const docLinkHtml = 'Like what you see? Visit the ' +\n",
              "            '<a target=\"_blank\" href=https://colab.research.google.com/notebooks/data_table.ipynb>data table notebook</a>'\n",
              "            + ' to learn more about interactive tables.';\n",
              "          element.innerHTML = '';\n",
              "          dataTable['output_type'] = 'display_data';\n",
              "          await google.colab.output.renderOutput(dataTable, element);\n",
              "          const docLink = document.createElement('div');\n",
              "          docLink.innerHTML = docLinkHtml;\n",
              "          element.appendChild(docLink);\n",
              "        }\n",
              "      </script>\n",
              "    </div>\n",
              "  </div>\n",
              "  "
            ]
          },
          "metadata": {},
          "execution_count": 54
        }
      ]
    },
    {
      "cell_type": "code",
      "source": [
        "from sklearn.model_selection import train_test_split\n",
        "\n",
        "X_train, X_test, y_train, y_test = train_test_split(df['bert_preprocessed'],df['class'], stratify=df['class'])"
      ],
      "metadata": {
        "id": "krCAqw4ITnh8"
      },
      "execution_count": 56,
      "outputs": []
    },
    {
      "cell_type": "markdown",
      "source": [
        "# BERT"
      ],
      "metadata": {
        "id": "75KTg_ROTveS"
      }
    },
    {
      "cell_type": "code",
      "source": [
        "bert_preprocess = hub.KerasLayer(\"https://tfhub.dev/tensorflow/bert_en_uncased_preprocess/3\")\n",
        "bert_encoder = hub.KerasLayer(\"https://tfhub.dev/tensorflow/bert_en_uncased_L-12_H-768_A-12/4\")"
      ],
      "metadata": {
        "id": "USX6Lts4T0ey"
      },
      "execution_count": 43,
      "outputs": []
    },
    {
      "cell_type": "code",
      "source": [
        "def get_sentence_embeding(sentences):\n",
        "    preprocessed_text = bert_preprocess(sentences)\n",
        "    return bert_encoder(preprocessed_text)['pooled_output']"
      ],
      "metadata": {
        "id": "wlFXYUGkT3xW"
      },
      "execution_count": 44,
      "outputs": []
    },
    {
      "cell_type": "markdown",
      "source": [
        "## Test embedding\n",
        "Test word embedding from pretrained BERT model with a real sentence from dataset."
      ],
      "metadata": {
        "id": "-Nt0AWJEUGJg"
      }
    },
    {
      "cell_type": "code",
      "source": [
        "test_sentence = df[\"bert_preprocessed\"][11704]\n",
        "print(\"Test sentence:\")\n",
        "print(test_sentence)\n",
        "print(\"Test sentence (word embedding):\")\n",
        "print(get_sentence_embeding([test_sentence]))"
      ],
      "metadata": {
        "colab": {
          "base_uri": "https://localhost:8080/"
        },
        "id": "1osx4LSXUECE",
        "outputId": "580d6348-567e-4c84-e171-37dda0d54b1d"
      },
      "execution_count": 57,
      "outputs": [
        {
          "output_type": "stream",
          "name": "stdout",
          "text": [
            "Test sentence:\n",
            "[CLS] how do you know if you have an under ##bit ##e ? when your eating pussy and it tastes like shit [SEP]\n",
            "Test sentence (word embedding):\n",
            "tf.Tensor(\n",
            "[[-0.67741776 -0.4490584  -0.95135707  0.60711306  0.72812676 -0.27687746\n",
            "   0.5345937   0.48518488 -0.88754416 -0.9998756  -0.4800782   0.85981077\n",
            "   0.950432    0.7438225   0.68355787 -0.56738394 -0.3061249  -0.6148141\n",
            "   0.3474084   0.48334384  0.47370803  0.99998176 -0.04600458  0.381481\n",
            "   0.54948837  0.9565371  -0.6465457   0.7572651   0.88931435  0.6762042\n",
            "  -0.50415266  0.30961713 -0.96937877 -0.30989617 -0.97473437 -0.96919906\n",
            "   0.441268   -0.38966355 -0.19350205  0.13595979 -0.73526496  0.33768964\n",
            "   0.99978644  0.10677565  0.42090157 -0.4456232  -0.9999949   0.45143238\n",
            "  -0.6074282   0.86333513  0.9115562   0.9116548   0.2170636   0.43620047\n",
            "   0.48742473 -0.46417025 -0.04729513  0.26929355 -0.28880244 -0.51774293\n",
            "  -0.6124603   0.53548366 -0.8380733  -0.7394806   0.8929394   0.90238565\n",
            "  -0.40408364 -0.2695354  -0.28722236 -0.00269475  0.5312926   0.36843026\n",
            "  -0.2816628  -0.767245    0.80947423  0.4371903  -0.6895857   1.\n",
            "  -0.19199412 -0.9062566   0.9683618   0.8716799   0.63716495 -0.5683625\n",
            "   0.64738214 -1.          0.6586541  -0.2796241  -0.96320057  0.37254837\n",
            "   0.5491958  -0.34222424  0.9265738   0.68080544 -0.7806021  -0.32881615\n",
            "  -0.22488536 -0.85963887 -0.47408608 -0.44108117  0.22652607 -0.29952005\n",
            "  -0.5843641  -0.42121133  0.5141782  -0.51790327  0.10120893  0.5240092\n",
            "   0.34726378  0.65189976  0.60086066 -0.43262702  0.5392091  -0.8266403\n",
            "   0.5494309  -0.42664993 -0.95119643 -0.67438585 -0.96622604  0.5812194\n",
            "  -0.28735656 -0.49469912  0.7629877  -0.48116857  0.4738392  -0.31683436\n",
            "  -0.89269686 -1.         -0.33537972 -0.5624824  -0.37994486 -0.40363735\n",
            "  -0.9440371  -0.9134642   0.6724012   0.8317496   0.2826534   0.9995042\n",
            "  -0.32882798  0.85114276 -0.55965483 -0.8577851   0.46892238 -0.49861646\n",
            "   0.7090015  -0.20137535 -0.21563148  0.1577345  -0.09725702  0.37387502\n",
            "  -0.5626518  -0.3513716  -0.8899565  -0.75204676 -0.53407997  0.7822089\n",
            "  -0.6264269  -0.9598884  -0.42345086 -0.27912313 -0.27593282  0.68000084\n",
            "   0.53308386  0.32692057 -0.5189697   0.51199085  0.3398548   0.36958364\n",
            "  -0.5724106  -0.15241614  0.42763123 -0.33953235 -0.92254853 -0.9451458\n",
            "  -0.4260375   0.3212361   0.9493226   0.43503729  0.5162749   0.73845863\n",
            "  -0.24300122  0.5155098  -0.9270568   0.9590492  -0.22115894  0.38929072\n",
            "  -0.7396445   0.6456847  -0.59607196  0.4933684   0.49950397 -0.6163315\n",
            "  -0.48082218 -0.18761049 -0.6147479  -0.5034847  -0.84050894  0.10374074\n",
            "  -0.30409613 -0.44277698 -0.30995998  0.7760915   0.78274524  0.16754866\n",
            "   0.6704172   0.51104534 -0.59439015 -0.4379469   0.18093568  0.27453977\n",
            "   0.32633284  0.9636894  -0.75200796 -0.1985441  -0.74454397 -0.95186454\n",
            "   0.10921714 -0.758657   -0.19706711 -0.43396297  0.6806296  -0.34748954\n",
            "   0.5373845   0.4495088  -0.6210709  -0.6528658   0.33170402 -0.54448056\n",
            "   0.5249485  -0.2864547   0.93544245  0.9505538  -0.59025544  0.08420616\n",
            "   0.9166435  -0.94210017 -0.66676044  0.19338664 -0.35783586  0.5075542\n",
            "  -0.64136416  0.9400029   0.88134956  0.6065964  -0.7598657  -0.89132875\n",
            "  -0.41368482 -0.7488731  -0.3354434   0.40882728  0.9222182   0.68617713\n",
            "   0.4831594   0.01223487 -0.4896516   0.79209965 -0.95366424 -0.9008954\n",
            "  -0.85999453 -0.03392106 -0.9753923   0.869909    0.4902019   0.37790778\n",
            "  -0.5259999  -0.43095237 -0.85386837  0.46646234  0.22072232  0.82547075\n",
            "  -0.4669101  -0.64527285 -0.5031684  -0.838094    0.00140641 -0.17315134\n",
            "  -0.61658096  0.17096397 -0.72609085  0.60899484  0.39719647  0.32874808\n",
            "  -0.9370583   0.97160953  1.          0.91165066  0.61475205  0.46733958\n",
            "  -0.9998046  -0.7947227   0.999906   -0.9860517  -1.         -0.77135706\n",
            "  -0.60066724 -0.04300963 -1.         -0.41120893 -0.23168804 -0.7760112\n",
            "   0.7145041   0.9044351   0.81165123 -1.          0.55480164  0.68214715\n",
            "  -0.7165594   0.8612139  -0.49990892  0.89868456  0.75973356  0.5893849\n",
            "  -0.3330428   0.5922096  -0.979193   -0.66690975 -0.80649036 -0.7828721\n",
            "   0.9977945   0.20181751 -0.6639684  -0.63327724  0.41258034 -0.12237284\n",
            "   0.255645   -0.8830267  -0.40308982  0.49368674  0.72400147  0.20464064\n",
            "   0.37353253 -0.2976146   0.4815747   0.45446998 -0.19878761  0.6962583\n",
            "  -0.7584268  -0.05579558  0.11968038  0.16481727 -0.86298263 -0.9339534\n",
            "   0.8916837  -0.32921615  0.880445    1.          0.5329352  -0.43307316\n",
            "   0.5133019   0.22775894 -0.71653897  1.          0.6559715  -0.9344167\n",
            "  -0.65546656  0.6635335  -0.67634183 -0.6616935   0.99732804 -0.25773638\n",
            "  -0.89641273 -0.2639691   0.96836007 -0.9720233   0.99349993 -0.5725897\n",
            "  -0.88935107  0.867938    0.8262437  -0.6825568  -0.44152147  0.30603206\n",
            "  -0.78822803  0.3251562  -0.62503046  0.5302043   0.50393504 -0.2344851\n",
            "   0.62399256 -0.13969745 -0.6499973   0.19632868 -0.5935832  -0.41885313\n",
            "   0.95105106  0.5568354  -0.2961484  -0.01244181 -0.4736328  -0.5943376\n",
            "  -0.8880671   0.43696702  1.         -0.4117688   0.68713987 -0.4090041\n",
            "  -0.17161793  0.09384354  0.6101757   0.6415191  -0.37156835 -0.58656985\n",
            "   0.8305576  -0.778368   -0.9718306   0.3386002   0.25771764 -0.2481993\n",
            "   0.99986345  0.7339683   0.3352909   0.5884581   0.9654614   0.06934413\n",
            "   0.18784928  0.9134935   0.929508   -0.43760505  0.658442    0.03733391\n",
            "  -0.9124305  -0.43006524 -0.5820467   0.04422767 -0.89953357 -0.07091829\n",
            "  -0.85125643  0.897949    0.92428434  0.48239338  0.4081699   0.8489698\n",
            "   1.         -0.8398649   0.33192304  0.46273944  0.33776256 -0.9997924\n",
            "  -0.32939202 -0.4146329  -0.19719778 -0.8755248  -0.3497787   0.3573396\n",
            "  -0.8742868   0.87786543  0.7833607  -0.65005475 -0.95342934 -0.6295656\n",
            "   0.4923633   0.3341071  -0.96787643 -0.5038971  -0.35937473  0.6800023\n",
            "  -0.39627945 -0.84890825 -0.45706803 -0.4526021   0.44988483 -0.40421027\n",
            "   0.65123     0.9146538   0.55721825 -0.83693266 -0.30936804 -0.13603799\n",
            "  -0.6244896   0.4420929  -0.4139907  -0.8874489  -0.3399906   1.\n",
            "  -0.54908     0.95122486  0.4041787   0.05468224 -0.28102645  0.17236888\n",
            "   0.92115074  0.39118943 -0.790058   -0.89674103  0.48049507 -0.46945274\n",
            "   0.5651019   0.61260253  0.7783325   0.59359455  0.69712913  0.12570408\n",
            "  -0.14243005  0.09681798  0.9612793  -0.23250821 -0.3073306  -0.3745177\n",
            "  -0.34575748 -0.37416705  0.42617702  1.          0.38219038  0.5695792\n",
            "  -0.9758727  -0.8776416  -0.66504073  0.99999964  0.7785736  -0.25769508\n",
            "   0.4974813   0.6382763  -0.37319097  0.18639414 -0.35502008 -0.37259036\n",
            "   0.37179154  0.24409689  0.8243485  -0.6534392  -0.92217875 -0.3720485\n",
            "   0.45808992 -0.81856334  0.99991983 -0.6696835  -0.27539274 -0.34308508\n",
            "   0.05896871 -0.7602637  -0.10437322 -0.9239599  -0.26164398  0.39062136\n",
            "   0.8936651   0.3993058  -0.6778991  -0.71974605  0.85723317  0.8121154\n",
            "  -0.8780261  -0.8100073   0.88206124 -0.821046    0.5119023   1.\n",
            "   0.58604306  0.23790412  0.3377788  -0.25575688  0.3672339  -0.18977259\n",
            "   0.35879487 -0.8349344  -0.41010436 -0.21027327  0.35327595 -0.22114025\n",
            "  -0.74791014  0.36480767  0.22957769 -0.6497484  -0.63993126 -0.14682373\n",
            "   0.44556683  0.74208015 -0.43040818 -0.30837062  0.1730711   0.00364585\n",
            "  -0.7268884  -0.42613238 -0.45153183 -0.9999885   0.41922328 -1.\n",
            "   0.6458012   0.338826   -0.36437804  0.58167356  0.5345101   0.6650411\n",
            "  -0.4674443  -0.90846497 -0.09303809  0.64954674 -0.37291268 -0.22620465\n",
            "  -0.28840986  0.36848083 -0.19775969  0.30877456 -0.67136496  0.6274675\n",
            "  -0.31385532  1.          0.25138035 -0.6149681  -0.6363376   0.2237888\n",
            "  -0.38779265  1.         -0.22454128 -0.9131461   0.42815033 -0.6246732\n",
            "  -0.53405553  0.40331495  0.27414808 -0.7304746  -0.9625664   0.6178978\n",
            "   0.5904546  -0.7054252   0.5226262  -0.5064815  -0.42632934  0.25744876\n",
            "   0.84853137  0.9485054   0.64846563  0.5048172  -0.6036721  -0.54328215\n",
            "   0.91437864  0.32489726 -0.17746519  0.23768093  1.          0.43023092\n",
            "  -0.8434286  -0.27945083 -0.77361196 -0.35332012 -0.7835859   0.3577393\n",
            "   0.36568415  0.7938419  -0.40065238  0.828929   -0.89246744 -0.01386343\n",
            "  -0.3555719  -0.7018326   0.58501863 -0.767539   -0.9529982  -0.9442894\n",
            "   0.4899529  -0.38137782 -0.24992362  0.42418042  0.13166994  0.48682696\n",
            "   0.39574602 -1.          0.85731953  0.50978214  0.95054287  0.82979804\n",
            "   0.6810351   0.5253404   0.42265934 -0.9289144  -0.5304092  -0.46386987\n",
            "  -0.2779833   0.46861067  0.5797124   0.64830774  0.3338639  -0.46842933\n",
            "  -0.3132378  -0.7819889  -0.8327202  -0.97684765  0.52625036 -0.63326484\n",
            "  -0.4426208   0.9229708   0.30907542 -0.30033746 -0.4740167  -0.80866563\n",
            "   0.18211088  0.41401273  0.20071127  0.0841978   0.47343117  0.63312775\n",
            "   0.83241117  0.9533657  -0.91496533  0.36937124 -0.6488554   0.48188218\n",
            "   0.87731683 -0.87688434  0.31778535  0.53806156 -0.52102226  0.4168783\n",
            "  -0.47834513 -0.598134    0.7459662  -0.48824564  0.24447829 -0.4453691\n",
            "  -0.05596891 -0.49321902 -0.28635266 -0.4510284  -0.61912596  0.71464545\n",
            "  -0.01540768  0.77322286  0.85963094 -0.39435652 -0.5157631  -0.1621725\n",
            "  -0.80719715 -0.8356122   0.3903164  -0.22148855 -0.34166554  0.6803147\n",
            "  -0.03356506  0.89947665  0.5096985  -0.45852524 -0.32892475 -0.62088716\n",
            "   0.47499317 -0.5098881  -0.6453871  -0.47063613  0.3713886   0.42606333\n",
            "   0.9999841  -0.89113224 -0.91201305 -0.41935185 -0.41784284  0.49098718\n",
            "  -0.5218024  -1.          0.36646545 -0.4634846   0.7322936  -0.7076336\n",
            "   0.87917984 -0.467492   -0.8224966  -0.39233497  0.5068077   0.7976461\n",
            "  -0.5107343  -0.44041234  0.56130326  0.02097965  0.9381352   0.6228173\n",
            "  -0.30276236 -0.20252304  0.70420676 -0.814287   -0.70660245  0.6257136 ]], shape=(1, 768), dtype=float32)\n"
          ]
        }
      ]
    },
    {
      "cell_type": "markdown",
      "source": [
        "# Build model"
      ],
      "metadata": {
        "id": "T06BUvCuUuJ8"
      }
    },
    {
      "cell_type": "code",
      "source": [
        "# Bert layers\n",
        "text_input = tf.keras.layers.Input(shape=(), dtype=tf.string, name='text')\n",
        "preprocessed_text = bert_preprocess(text_input)\n",
        "outputs = bert_encoder(preprocessed_text)\n",
        "\n",
        "# Neural network layers\n",
        "l = tf.keras.layers.Dropout(0.1, name=\"dropout\")(outputs['pooled_output'])\n",
        "l = tf.keras.layers.Dense(1, activation='sigmoid', name=\"output\")(l)\n",
        "\n",
        "# Use inputs and outputs to construct a final model\n",
        "model = tf.keras.Model(inputs=[text_input], outputs = [l])"
      ],
      "metadata": {
        "id": "rMwxDdFPQCiQ"
      },
      "execution_count": 58,
      "outputs": []
    },
    {
      "cell_type": "code",
      "source": [
        "model.summary()"
      ],
      "metadata": {
        "colab": {
          "base_uri": "https://localhost:8080/"
        },
        "id": "gjGj4uV5U0j9",
        "outputId": "61b8fd23-5c53-4d16-c197-65f4a066542e"
      },
      "execution_count": 59,
      "outputs": [
        {
          "output_type": "stream",
          "name": "stdout",
          "text": [
            "Model: \"model_2\"\n",
            "__________________________________________________________________________________________________\n",
            " Layer (type)                   Output Shape         Param #     Connected to                     \n",
            "==================================================================================================\n",
            " text (InputLayer)              [(None,)]            0           []                               \n",
            "                                                                                                  \n",
            " keras_layer_2 (KerasLayer)     {'input_word_ids':   0           ['text[0][0]']                   \n",
            "                                (None, 128),                                                      \n",
            "                                 'input_type_ids':                                                \n",
            "                                (None, 128),                                                      \n",
            "                                 'input_mask': (Non                                               \n",
            "                                e, 128)}                                                          \n",
            "                                                                                                  \n",
            " keras_layer_3 (KerasLayer)     {'default': (None,   109482241   ['keras_layer_2[1][0]',          \n",
            "                                768),                             'keras_layer_2[1][1]',          \n",
            "                                 'encoder_outputs':               'keras_layer_2[1][2]']          \n",
            "                                 [(None, 128, 768),                                               \n",
            "                                 (None, 128, 768),                                                \n",
            "                                 (None, 128, 768),                                                \n",
            "                                 (None, 128, 768),                                                \n",
            "                                 (None, 128, 768),                                                \n",
            "                                 (None, 128, 768),                                                \n",
            "                                 (None, 128, 768),                                                \n",
            "                                 (None, 128, 768),                                                \n",
            "                                 (None, 128, 768),                                                \n",
            "                                 (None, 128, 768),                                                \n",
            "                                 (None, 128, 768),                                                \n",
            "                                 (None, 128, 768)],                                               \n",
            "                                 'pooled_output': (                                               \n",
            "                                None, 768),                                                       \n",
            "                                 'sequence_output':                                               \n",
            "                                 (None, 128, 768)}                                                \n",
            "                                                                                                  \n",
            " dropout (Dropout)              (None, 768)          0           ['keras_layer_3[1][13]']         \n",
            "                                                                                                  \n",
            " output (Dense)                 (None, 1)            769         ['dropout[0][0]']                \n",
            "                                                                                                  \n",
            "==================================================================================================\n",
            "Total params: 109,483,010\n",
            "Trainable params: 769\n",
            "Non-trainable params: 109,482,241\n",
            "__________________________________________________________________________________________________\n"
          ]
        }
      ]
    },
    {
      "cell_type": "code",
      "source": [
        "METRICS = [\n",
        "      tf.keras.metrics.BinaryAccuracy(name='accuracy'),\n",
        "      tf.keras.metrics.Precision(name='precision'),\n",
        "      tf.keras.metrics.Recall(name='recall'),\n",
        "]\n",
        "\n",
        "model.compile(optimizer='adam',\n",
        "              loss='binary_crossentropy',\n",
        "              metrics=METRICS)"
      ],
      "metadata": {
        "id": "OXsa_dHHU1_n"
      },
      "execution_count": 60,
      "outputs": []
    },
    {
      "cell_type": "code",
      "source": [
        "model.fit(X_train, y_train, epochs=5)"
      ],
      "metadata": {
        "colab": {
          "base_uri": "https://localhost:8080/"
        },
        "id": "pljz8LROU6EQ",
        "outputId": "5f2e22a3-8151-48e1-9f08-f11c028cd73a"
      },
      "execution_count": 61,
      "outputs": [
        {
          "output_type": "stream",
          "name": "stdout",
          "text": [
            "Epoch 1/5\n",
            "118/118 [==============================] - 28s 219ms/step - loss: 0.6327 - accuracy: 0.6317 - precision: 0.6171 - recall: 0.6713\n",
            "Epoch 2/5\n",
            "118/118 [==============================] - 26s 220ms/step - loss: 0.5014 - accuracy: 0.7915 - precision: 0.7773 - recall: 0.8100\n",
            "Epoch 3/5\n",
            "118/118 [==============================] - 26s 219ms/step - loss: 0.4462 - accuracy: 0.8200 - precision: 0.8030 - recall: 0.8424\n",
            "Epoch 4/5\n",
            "118/118 [==============================] - 26s 219ms/step - loss: 0.4081 - accuracy: 0.8413 - precision: 0.8262 - recall: 0.8597\n",
            "Epoch 5/5\n",
            "118/118 [==============================] - 26s 220ms/step - loss: 0.3817 - accuracy: 0.8528 - precision: 0.8372 - recall: 0.8716\n"
          ]
        },
        {
          "output_type": "execute_result",
          "data": {
            "text/plain": [
              "<keras.callbacks.History at 0x7f64e259fcd0>"
            ]
          },
          "metadata": {},
          "execution_count": 61
        }
      ]
    },
    {
      "cell_type": "code",
      "source": [
        "model.evaluate(X_test, y_test)"
      ],
      "metadata": {
        "colab": {
          "base_uri": "https://localhost:8080/"
        },
        "id": "43I8YDy9tFru",
        "outputId": "569d081d-166f-40f7-8833-a4c112f2215c"
      },
      "execution_count": 62,
      "outputs": [
        {
          "output_type": "stream",
          "name": "stdout",
          "text": [
            "40/40 [==============================] - 10s 216ms/step - loss: 0.3651 - accuracy: 0.8648 - precision: 0.8275 - recall: 0.9173\n"
          ]
        },
        {
          "output_type": "execute_result",
          "data": {
            "text/plain": [
              "[0.36505651473999023, 0.864799976348877, 0.8274853825569153, 0.917341947555542]"
            ]
          },
          "metadata": {},
          "execution_count": 62
        }
      ]
    },
    {
      "cell_type": "code",
      "source": [
        "model.save(\"/content/drive/MyDrive/Data Mining/stop words\")"
      ],
      "metadata": {
        "id": "vBU2uWMNWSQG"
      },
      "execution_count": null,
      "outputs": []
    },
    {
      "cell_type": "code",
      "source": [
        "y_predicted = model.predict(X_test)\n",
        "y_predicted = y_predicted.flatten()"
      ],
      "metadata": {
        "id": "bVrmb6LmtagI"
      },
      "execution_count": null,
      "outputs": []
    },
    {
      "cell_type": "code",
      "source": [
        "import numpy as np\n",
        "\n",
        "y_predicted = np.where(y_predicted > 0.5, 1, 0)\n",
        "y_predicted"
      ],
      "metadata": {
        "id": "nHmJQUuVta27"
      },
      "execution_count": null,
      "outputs": []
    },
    {
      "cell_type": "code",
      "source": [
        "from sklearn.metrics import confusion_matrix, classification_report\n",
        "\n",
        "cm = confusion_matrix(y_test, y_predicted)\n",
        "cm "
      ],
      "metadata": {
        "id": "HoxJt4-stby7"
      },
      "execution_count": null,
      "outputs": []
    },
    {
      "cell_type": "code",
      "source": [
        "from matplotlib import pyplot as plt\n",
        "import seaborn as sn\n",
        "sn.heatmap(cm, annot=True, fmt='d')\n",
        "plt.xlabel('Predicted')\n",
        "plt.ylabel('Truth')"
      ],
      "metadata": {
        "id": "Wrzo6iHItcp7"
      },
      "execution_count": null,
      "outputs": []
    },
    {
      "cell_type": "code",
      "source": [
        "print(classification_report(y_test, y_predicted))"
      ],
      "metadata": {
        "id": "h578m23Vtdt7"
      },
      "execution_count": null,
      "outputs": []
    },
    {
      "cell_type": "markdown",
      "source": [
        "# Own test"
      ],
      "metadata": {
        "id": "LEO8LnVatlir"
      }
    },
    {
      "cell_type": "code",
      "source": [
        "jokes = [\n",
        "    'What’s the best thing about Switzerland? I don’t know, but the flag is a big plus.',\n",
        "    'I study Business Informatics at the University of Mannheim!',\n",
        "    'I invented a new word! Plagiarism!',\n",
        "    'Did you hear about the mathematician who’s afraid of negative numbers? He’ll stop at nothing to avoid them.',\n",
        "    'My name is Elias.'\n",
        "]\n",
        "model.predict(jokes)"
      ],
      "metadata": {
        "id": "nHjckUgBtgHL"
      },
      "execution_count": null,
      "outputs": []
    },
    {
      "cell_type": "code",
      "source": [
        ""
      ],
      "metadata": {
        "id": "ybRqB9cdt9uL"
      },
      "execution_count": null,
      "outputs": []
    }
  ]
}