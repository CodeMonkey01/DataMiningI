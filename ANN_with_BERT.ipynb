{
  "nbformat": 4,
  "nbformat_minor": 0,
  "metadata": {
    "colab": {
      "name": "ANN with BERT.ipynb",
      "provenance": [],
      "collapsed_sections": [],
      "machine_shape": "hm",
      "authorship_tag": "ABX9TyMBYct+N+l1ZfrVnHI+iADH",
      "include_colab_link": true
    },
    "kernelspec": {
      "name": "python3",
      "display_name": "Python 3"
    },
    "language_info": {
      "name": "python"
    },
    "accelerator": "GPU"
  },
  "cells": [
    {
      "cell_type": "markdown",
      "metadata": {
        "id": "view-in-github",
        "colab_type": "text"
      },
      "source": [
        "<a href=\"https://colab.research.google.com/github/CodeMonkey01/DataMiningI/blob/main/ANN_with_BERT.ipynb\" target=\"_parent\"><img src=\"https://colab.research.google.com/assets/colab-badge.svg\" alt=\"Open In Colab\"/></a>"
      ]
    },
    {
      "cell_type": "markdown",
      "source": [
        "# ANN with BERT\n",
        "In this notebook I tried to solve the classification model with an ANN based on pretrained BERT layers.\n",
        "\n",
        "## TODO:\n",
        "- [ ] Stemming\n",
        "- [ ] Remove Stop Words\n",
        "\n",
        "## Results\n",
        "### Result 1\n",
        "No Stemming and no other major preprocessing results in a score of:\n",
        "\n",
        "accuracy: 0.9146 - precision: 0.9048 - recall: 0.9263\n",
        "\n",
        "Training time: 5 * 15 Minutes"
      ],
      "metadata": {
        "id": "4oym-u7JY-lc"
      }
    },
    {
      "cell_type": "code",
      "execution_count": 1,
      "metadata": {
        "colab": {
          "base_uri": "https://localhost:8080/"
        },
        "id": "o41yey4xPvVp",
        "outputId": "5d2331d7-ce9f-4f81-efd3-68ed3547cc9c"
      },
      "outputs": [
        {
          "output_type": "stream",
          "name": "stdout",
          "text": [
            "Mounted at /content/drive/\n",
            "/content/drive/MyDrive\n",
            "Sat May 14 06:27:05 2022       \n",
            "+-----------------------------------------------------------------------------+\n",
            "| NVIDIA-SMI 460.32.03    Driver Version: 460.32.03    CUDA Version: 11.2     |\n",
            "|-------------------------------+----------------------+----------------------+\n",
            "| GPU  Name        Persistence-M| Bus-Id        Disp.A | Volatile Uncorr. ECC |\n",
            "| Fan  Temp  Perf  Pwr:Usage/Cap|         Memory-Usage | GPU-Util  Compute M. |\n",
            "|                               |                      |               MIG M. |\n",
            "|===============================+======================+======================|\n",
            "|   0  Tesla P100-PCIE...  Off  | 00000000:00:04.0 Off |                    0 |\n",
            "| N/A   37C    P0    25W / 250W |      0MiB / 16280MiB |      0%      Default |\n",
            "|                               |                      |                  N/A |\n",
            "+-------------------------------+----------------------+----------------------+\n",
            "                                                                               \n",
            "+-----------------------------------------------------------------------------+\n",
            "| Processes:                                                                  |\n",
            "|  GPU   GI   CI        PID   Type   Process name                  GPU Memory |\n",
            "|        ID   ID                                                   Usage      |\n",
            "|=============================================================================|\n",
            "|  No running processes found                                                 |\n",
            "+-----------------------------------------------------------------------------+\n"
          ]
        }
      ],
      "source": [
        "try:\n",
        "    from google.colab import drive\n",
        "    drive.mount('/content/drive/')\n",
        "    %cd '/content/drive/MyDrive/'\n",
        "\n",
        "    gpu_info = !nvidia-smi\n",
        "    gpu_info = '\\n'.join(gpu_info)\n",
        "    if gpu_info.find('failed') >= 0:\n",
        "      print('Not connected to a GPU')\n",
        "    else:\n",
        "      print(gpu_info)\n",
        "except ImportError as e:\n",
        "    pass"
      ]
    },
    {
      "cell_type": "code",
      "source": [
        "!pip install tensorflow_text\n",
        "!pip install tensorflow_hub"
      ],
      "metadata": {
        "id": "zPNfsRkESPvi"
      },
      "execution_count": 34,
      "outputs": []
    },
    {
      "cell_type": "code",
      "source": [
        "import tensorflow as tf\n",
        "import tensorflow_hub as hub\n",
        "import tensorflow_text as text\n",
        "import pandas as pd\n",
        "from sklearn.preprocessing import LabelEncoder\n",
        "import tensorflow as tf"
      ],
      "metadata": {
        "id": "HUKHIT8hSOAH"
      },
      "execution_count": 35,
      "outputs": []
    },
    {
      "cell_type": "code",
      "source": [
        "df = pd.read_csv('/content/drive/MyDrive/Data Mining/dataset.txt')\n",
        "df.describe()"
      ],
      "metadata": {
        "colab": {
          "base_uri": "https://localhost:8080/",
          "height": 175
        },
        "id": "7Iop3r0LP7b4",
        "outputId": "0b07deec-9610-4bf7-cf68-8a399e03e3e9"
      },
      "execution_count": 39,
      "outputs": [
        {
          "output_type": "execute_result",
          "data": {
            "text/plain": [
              "                                                     text   humor\n",
              "count                                              200000  200000\n",
              "unique                                             200000       2\n",
              "top     Joe biden rules out 2020 bid: 'guys, i'm not r...   False\n",
              "freq                                                    1  100000"
            ],
            "text/html": [
              "\n",
              "  <div id=\"df-9e95b48b-23ea-48b6-936f-4503f11b3e41\">\n",
              "    <div class=\"colab-df-container\">\n",
              "      <div>\n",
              "<style scoped>\n",
              "    .dataframe tbody tr th:only-of-type {\n",
              "        vertical-align: middle;\n",
              "    }\n",
              "\n",
              "    .dataframe tbody tr th {\n",
              "        vertical-align: top;\n",
              "    }\n",
              "\n",
              "    .dataframe thead th {\n",
              "        text-align: right;\n",
              "    }\n",
              "</style>\n",
              "<table border=\"1\" class=\"dataframe\">\n",
              "  <thead>\n",
              "    <tr style=\"text-align: right;\">\n",
              "      <th></th>\n",
              "      <th>text</th>\n",
              "      <th>humor</th>\n",
              "    </tr>\n",
              "  </thead>\n",
              "  <tbody>\n",
              "    <tr>\n",
              "      <th>count</th>\n",
              "      <td>200000</td>\n",
              "      <td>200000</td>\n",
              "    </tr>\n",
              "    <tr>\n",
              "      <th>unique</th>\n",
              "      <td>200000</td>\n",
              "      <td>2</td>\n",
              "    </tr>\n",
              "    <tr>\n",
              "      <th>top</th>\n",
              "      <td>Joe biden rules out 2020 bid: 'guys, i'm not r...</td>\n",
              "      <td>False</td>\n",
              "    </tr>\n",
              "    <tr>\n",
              "      <th>freq</th>\n",
              "      <td>1</td>\n",
              "      <td>100000</td>\n",
              "    </tr>\n",
              "  </tbody>\n",
              "</table>\n",
              "</div>\n",
              "      <button class=\"colab-df-convert\" onclick=\"convertToInteractive('df-9e95b48b-23ea-48b6-936f-4503f11b3e41')\"\n",
              "              title=\"Convert this dataframe to an interactive table.\"\n",
              "              style=\"display:none;\">\n",
              "        \n",
              "  <svg xmlns=\"http://www.w3.org/2000/svg\" height=\"24px\"viewBox=\"0 0 24 24\"\n",
              "       width=\"24px\">\n",
              "    <path d=\"M0 0h24v24H0V0z\" fill=\"none\"/>\n",
              "    <path d=\"M18.56 5.44l.94 2.06.94-2.06 2.06-.94-2.06-.94-.94-2.06-.94 2.06-2.06.94zm-11 1L8.5 8.5l.94-2.06 2.06-.94-2.06-.94L8.5 2.5l-.94 2.06-2.06.94zm10 10l.94 2.06.94-2.06 2.06-.94-2.06-.94-.94-2.06-.94 2.06-2.06.94z\"/><path d=\"M17.41 7.96l-1.37-1.37c-.4-.4-.92-.59-1.43-.59-.52 0-1.04.2-1.43.59L10.3 9.45l-7.72 7.72c-.78.78-.78 2.05 0 2.83L4 21.41c.39.39.9.59 1.41.59.51 0 1.02-.2 1.41-.59l7.78-7.78 2.81-2.81c.8-.78.8-2.07 0-2.86zM5.41 20L4 18.59l7.72-7.72 1.47 1.35L5.41 20z\"/>\n",
              "  </svg>\n",
              "      </button>\n",
              "      \n",
              "  <style>\n",
              "    .colab-df-container {\n",
              "      display:flex;\n",
              "      flex-wrap:wrap;\n",
              "      gap: 12px;\n",
              "    }\n",
              "\n",
              "    .colab-df-convert {\n",
              "      background-color: #E8F0FE;\n",
              "      border: none;\n",
              "      border-radius: 50%;\n",
              "      cursor: pointer;\n",
              "      display: none;\n",
              "      fill: #1967D2;\n",
              "      height: 32px;\n",
              "      padding: 0 0 0 0;\n",
              "      width: 32px;\n",
              "    }\n",
              "\n",
              "    .colab-df-convert:hover {\n",
              "      background-color: #E2EBFA;\n",
              "      box-shadow: 0px 1px 2px rgba(60, 64, 67, 0.3), 0px 1px 3px 1px rgba(60, 64, 67, 0.15);\n",
              "      fill: #174EA6;\n",
              "    }\n",
              "\n",
              "    [theme=dark] .colab-df-convert {\n",
              "      background-color: #3B4455;\n",
              "      fill: #D2E3FC;\n",
              "    }\n",
              "\n",
              "    [theme=dark] .colab-df-convert:hover {\n",
              "      background-color: #434B5C;\n",
              "      box-shadow: 0px 1px 3px 1px rgba(0, 0, 0, 0.15);\n",
              "      filter: drop-shadow(0px 1px 2px rgba(0, 0, 0, 0.3));\n",
              "      fill: #FFFFFF;\n",
              "    }\n",
              "  </style>\n",
              "\n",
              "      <script>\n",
              "        const buttonEl =\n",
              "          document.querySelector('#df-9e95b48b-23ea-48b6-936f-4503f11b3e41 button.colab-df-convert');\n",
              "        buttonEl.style.display =\n",
              "          google.colab.kernel.accessAllowed ? 'block' : 'none';\n",
              "\n",
              "        async function convertToInteractive(key) {\n",
              "          const element = document.querySelector('#df-9e95b48b-23ea-48b6-936f-4503f11b3e41');\n",
              "          const dataTable =\n",
              "            await google.colab.kernel.invokeFunction('convertToInteractive',\n",
              "                                                     [key], {});\n",
              "          if (!dataTable) return;\n",
              "\n",
              "          const docLinkHtml = 'Like what you see? Visit the ' +\n",
              "            '<a target=\"_blank\" href=https://colab.research.google.com/notebooks/data_table.ipynb>data table notebook</a>'\n",
              "            + ' to learn more about interactive tables.';\n",
              "          element.innerHTML = '';\n",
              "          dataTable['output_type'] = 'display_data';\n",
              "          await google.colab.output.renderOutput(dataTable, element);\n",
              "          const docLink = document.createElement('div');\n",
              "          docLink.innerHTML = docLinkHtml;\n",
              "          element.appendChild(docLink);\n",
              "        }\n",
              "      </script>\n",
              "    </div>\n",
              "  </div>\n",
              "  "
            ]
          },
          "metadata": {},
          "execution_count": 39
        }
      ]
    },
    {
      "cell_type": "markdown",
      "source": [
        "# Check for imbalance\n",
        "The dataset is equally balanced. Therefore, we do not need to rebalance the dataset."
      ],
      "metadata": {
        "id": "12R2RwOjS9-O"
      }
    },
    {
      "cell_type": "code",
      "source": [
        "df[\"humor\"].value_counts()"
      ],
      "metadata": {
        "colab": {
          "base_uri": "https://localhost:8080/"
        },
        "id": "HvW_6M_VSuhG",
        "outputId": "308e8c90-fd82-42ab-d05b-0081c5d61ad7"
      },
      "execution_count": 44,
      "outputs": [
        {
          "output_type": "execute_result",
          "data": {
            "text/plain": [
              "False    100000\n",
              "True     100000\n",
              "Name: humor, dtype: int64"
            ]
          },
          "metadata": {},
          "execution_count": 44
        }
      ]
    },
    {
      "cell_type": "markdown",
      "source": [
        "# Preprocessing"
      ],
      "metadata": {
        "id": "b4KqkTrKTi5u"
      }
    },
    {
      "cell_type": "code",
      "source": [
        "# Transform class from Boolean to integer value\n",
        "df['class']=df['humor'].apply(lambda x: 1 if x==True else 0)"
      ],
      "metadata": {
        "id": "tKOlW4JGSgIk"
      },
      "execution_count": 49,
      "outputs": []
    },
    {
      "cell_type": "code",
      "source": [
        "from sklearn.model_selection import train_test_split\n",
        "\n",
        "X_train, X_test, y_train, y_test = train_test_split(df['text'],df['class'], stratify=df['class'])"
      ],
      "metadata": {
        "id": "krCAqw4ITnh8"
      },
      "execution_count": 50,
      "outputs": []
    },
    {
      "cell_type": "markdown",
      "source": [
        "# BERT"
      ],
      "metadata": {
        "id": "75KTg_ROTveS"
      }
    },
    {
      "cell_type": "code",
      "source": [
        "bert_preprocess = hub.KerasLayer(\"https://tfhub.dev/tensorflow/bert_en_uncased_preprocess/3\")\n",
        "bert_encoder = hub.KerasLayer(\"https://tfhub.dev/tensorflow/bert_en_uncased_L-12_H-768_A-12/4\")"
      ],
      "metadata": {
        "id": "USX6Lts4T0ey"
      },
      "execution_count": 52,
      "outputs": []
    },
    {
      "cell_type": "code",
      "source": [
        "def get_sentence_embeding(sentences):\n",
        "    preprocessed_text = bert_preprocess(sentences)\n",
        "    return bert_encoder(preprocessed_text)['pooled_output']"
      ],
      "metadata": {
        "id": "wlFXYUGkT3xW"
      },
      "execution_count": 54,
      "outputs": []
    },
    {
      "cell_type": "markdown",
      "source": [
        "## Test embedding\n",
        "Test word embedding from pretrained BERT model with a real sentence from dataset."
      ],
      "metadata": {
        "id": "-Nt0AWJEUGJg"
      }
    },
    {
      "cell_type": "code",
      "source": [
        "test_sentence = df[\"text\"][100]\n",
        "print(\"Test sentence:\")\n",
        "print(test_sentence)\n",
        "print(\"Test sentence (word embedding):\")\n",
        "print(get_sentence_embeding([test_sentence]))"
      ],
      "metadata": {
        "colab": {
          "base_uri": "https://localhost:8080/"
        },
        "id": "1osx4LSXUECE",
        "outputId": "6997a615-a220-4419-8f74-876a803a9baa"
      },
      "execution_count": 58,
      "outputs": [
        {
          "output_type": "stream",
          "name": "stdout",
          "text": [
            "Test sentence:\n",
            "The killer cookie-selling tactics of history's most brilliant girl scouts\n",
            "Test sentence (word embedding):\n",
            "tf.Tensor(\n",
            "[[-0.8383674  -0.5698111  -0.93893224  0.7274852   0.7521046  -0.21280268\n",
            "   0.662314    0.29903945 -0.80004877 -0.9999303  -0.7598443   0.9762059\n",
            "   0.9827676   0.60256517  0.89031804 -0.6077464  -0.40622038 -0.49395287\n",
            "   0.33386633 -0.04131969  0.8039414   0.99999344 -0.3836854   0.43390495\n",
            "   0.6210272   0.99278605 -0.8362436   0.91170084  0.93795663  0.7941823\n",
            "  -0.43672553  0.47321633 -0.9925877  -0.26447856 -0.9361383  -0.9939919\n",
            "   0.53679025 -0.57231116  0.2705292   0.02515196 -0.85115147  0.2810659\n",
            "   0.9999263   0.32382467  0.43440333 -0.21971542 -1.          0.33585405\n",
            "  -0.81916404  0.94695175  0.8892858   0.9612853   0.2559307   0.61210674\n",
            "   0.38046634 -0.6135495   0.11692104  0.2888212  -0.3547126  -0.6275435\n",
            "  -0.6321413   0.57837707 -0.9253761  -0.7939989   0.9640587   0.79581815\n",
            "  -0.3925013  -0.39623934 -0.19945098 -0.08280874  0.7380071   0.2529879\n",
            "  -0.35328794 -0.8361693   0.76310766  0.38870427 -0.47190928  1.\n",
            "  -0.45974755 -0.98670524  0.8930175   0.6567329   0.30042914 -0.46370697\n",
            "   0.42042226 -1.          0.6005963  -0.3661754  -0.9918118   0.36683244\n",
            "   0.6858995  -0.30919728  0.5908385   0.32263982 -0.5217968  -0.61774474\n",
            "  -0.28914896 -0.8026146  -0.31748348 -0.7237938   0.12093485 -0.22210559\n",
            "  -0.28619933 -0.24392141  0.5293209  -0.6286985  -0.24163663  0.55048966\n",
            "   0.24651776  0.6336737   0.09936215 -0.57592946  0.6415632  -0.9494306\n",
            "   0.68493056 -0.36883274 -0.98861766 -0.41205102 -0.9942748   0.6222608\n",
            "  -0.32779184 -0.3979333   0.91562176 -0.47175658  0.2474526  -0.10849699\n",
            "  -0.91759634 -1.         -0.75688916 -0.52141446 -0.46582326 -0.5785195\n",
            "  -0.97473985 -0.9684322   0.5838907   0.91007394  0.07915837  0.9995976\n",
            "  -0.525153    0.9200892  -0.3439775  -0.85849595  0.8002649  -0.52833474\n",
            "   0.7474553  -0.2608176  -0.30641198  0.389955   -0.43163007  0.5091444\n",
            "  -0.75779563 -0.38924515 -0.7938167  -0.8612226  -0.2201566   0.9242846\n",
            "  -0.66356725 -0.92724425 -0.26389018 -0.39164641 -0.3980363   0.72200036\n",
            "   0.7609533   0.5312676  -0.4904744   0.46322152  0.02252742  0.55120456\n",
            "  -0.6562081  -0.36857474  0.47507134 -0.53629357 -0.88842773 -0.9887203\n",
            "  -0.5501655   0.38939247  0.9871533   0.62159073  0.2688398   0.8308684\n",
            "  -0.18835564  0.7747907  -0.9507944   0.981379   -0.33344164  0.37757522\n",
            "  -0.7149031   0.642324   -0.69122076  0.0567605   0.7531389  -0.7278804\n",
            "  -0.75916827 -0.24098662 -0.4911716  -0.40273988 -0.8484309   0.33985293\n",
            "  -0.37382683 -0.24930474 -0.05554766  0.8404998   0.8898136   0.6315887\n",
            "   0.3965592   0.62691206 -0.8488963  -0.5810664   0.27083042  0.30015102\n",
            "   0.30200872  0.993038   -0.39784124 -0.17869183 -0.856133   -0.98923254\n",
            "   0.09223618 -0.87978643 -0.38804674 -0.635825    0.68696463 -0.5238322\n",
            "   0.1440508   0.27720925 -0.9210323  -0.696383    0.42196342 -0.22444633\n",
            "   0.45875862 -0.30165872  0.87530464  0.97350556 -0.56913584  0.3402917\n",
            "   0.88763624 -0.9139875  -0.8459855   0.6999387  -0.32147065  0.6136067\n",
            "  -0.57011634  0.9768445   0.9336598   0.7282935  -0.90979517 -0.6943971\n",
            "  -0.5507009  -0.5413601  -0.1689184  -0.08094231  0.8932292   0.25417256\n",
            "   0.5457137   0.4124344  -0.6467428   0.9675333  -0.9154427  -0.96365803\n",
            "  -0.8596102  -0.1626545  -0.9904241   0.88718176  0.3972605   0.5271538\n",
            "  -0.54721075 -0.5831672  -0.9682541   0.82849586  0.22253792  0.9560965\n",
            "  -0.58469033 -0.8245662  -0.82456315 -0.94478667  0.03864773 -0.31421006\n",
            "  -0.6890439   0.09601338 -0.936523    0.70264614  0.4452667   0.5226547\n",
            "  -0.8732421   0.99457645  1.          0.96215695  0.90579796  0.38907698\n",
            "  -0.9999353  -0.8208257   0.99997115 -0.99636793 -1.         -0.8677317\n",
            "  -0.6046137   0.01657842 -1.         -0.29063436 -0.12561123 -0.89385146\n",
            "   0.73757654  0.97766846  0.9639831  -1.          0.72075695  0.9329942\n",
            "  -0.40470135  0.9708571  -0.51632816  0.9798712   0.3602382   0.63059783\n",
            "  -0.27306414  0.6214587  -0.9621507  -0.7620176  -0.71519184 -0.8483733\n",
            "   0.9986447   0.37543774 -0.72398657 -0.85307014  0.7329676  -0.21403238\n",
            "   0.15042897 -0.9478728  -0.22002457  0.68195736  0.82774127  0.15028174\n",
            "   0.26253265 -0.6301696   0.35076976  0.36560926 -0.19724312  0.3484448\n",
            "  -0.9192437  -0.36970598 -0.82828885  0.4309134  -0.55938435 -0.95605904\n",
            "   0.9344902  -0.52905816  0.8935276   1.          0.7226266  -0.71240705\n",
            "   0.6467393   0.3603595  -0.55874145  1.          0.89957243 -0.9841953\n",
            "  -0.23995084  0.6467417  -0.644111   -0.72577304  0.9983116  -0.4605086\n",
            "  -0.8041597  -0.31348684  0.989928   -0.9943227   0.9962947  -0.7307558\n",
            "  -0.9695793   0.9113153   0.9431341  -0.56738394 -0.41645584  0.32726735\n",
            "  -0.4553238   0.47483084 -0.8459137   0.74911916  0.36559543 -0.17967455\n",
            "   0.86199445 -0.6630759  -0.3081053   0.4046115  -0.8617279  -0.38538584\n",
            "   0.9210913   0.6484104  -0.25775218  0.1694191  -0.5215585  -0.62468517\n",
            "  -0.93943983  0.72127146  1.         -0.5207567   0.83266544 -0.3370295\n",
            "  -0.06912244  0.03693186  0.5853923   0.6208989  -0.3900294  -0.6056087\n",
            "   0.82923466 -0.9143799  -0.9949004   0.4982695   0.35882562 -0.21772785\n",
            "   0.9999883   0.52468604  0.40937266  0.7094648   0.99327725  0.10827964\n",
            "   0.07787916  0.9135696   0.97673607 -0.24506228  0.44565088  0.5595502\n",
            "  -0.9222203  -0.19478814 -0.6389693   0.08980438 -0.9316116   0.04476098\n",
            "  -0.9406797   0.9657774   0.97070026  0.5186161   0.2692726   0.8318568\n",
            "   1.         -0.86950916  0.5375675   0.25751093  0.7384383  -0.9998447\n",
            "  -0.60285413 -0.6034812  -0.21052057 -0.8958144  -0.36541724  0.3201481\n",
            "  -0.9446178   0.8217243   0.82473177 -0.93513215 -0.9928123  -0.7417313\n",
            "   0.6987877   0.15860993 -0.9907439  -0.7830574  -0.59709567  0.65617585\n",
            "  -0.4353246  -0.94723046 -0.39010996 -0.4063508   0.44388223 -0.35159338\n",
            "   0.34368473  0.8228523   0.7942143  -0.7820866  -0.5200269  -0.33477658\n",
            "  -0.7235721   0.6748751  -0.5103794  -0.89582765 -0.14997599  1.\n",
            "  -0.7119655   0.8778688   0.66781396  0.50883985 -0.44129077  0.41339886\n",
            "   0.93976307  0.3992423  -0.7844183  -0.940876   -0.12566951 -0.4170814\n",
            "   0.46800777  0.7854218   0.45378184  0.74344903  0.83644444  0.46663123\n",
            "  -0.10134716  0.00574596  0.996866   -0.25230953 -0.1655156  -0.41784683\n",
            "  -0.30721164 -0.46952808  0.29206017  1.          0.44676724  0.5163795\n",
            "  -0.9942019  -0.8654949  -0.80374694  1.          0.86465514 -0.39969814\n",
            "   0.76218754  0.7306265  -0.28496587  0.55179244 -0.28994492 -0.01346611\n",
            "   0.36139902  0.21950264  0.95237106 -0.71463436 -0.97431505 -0.5386786\n",
            "   0.55833215 -0.9439528   0.9999464  -0.57606435 -0.26771834 -0.31668097\n",
            "  -0.27114922 -0.32707158  0.18115571 -0.97734874 -0.10852188  0.5158924\n",
            "   0.9683128   0.25644574 -0.44008842 -0.86571014  0.9505306   0.8625467\n",
            "  -0.93671626 -0.92882985  0.96880746 -0.9627332   0.68739307  1.\n",
            "   0.44536418  0.43093055  0.3547157  -0.24122314  0.369622   -0.6263694\n",
            "   0.67581415 -0.9109417  -0.51705813 -0.22220124  0.5515423  -0.23458959\n",
            "  -0.6933618   0.6414035   0.19931212 -0.3318636  -0.6247486  -0.12995435\n",
            "   0.4938852   0.89599985 -0.41853335 -0.32734805  0.29672226 -0.04587933\n",
            "  -0.92543703 -0.57940537 -0.28413695 -0.99999815  0.5760199  -1.\n",
            "   0.6492801   0.12937035 -0.24879687  0.87404805  0.77767926  0.7341876\n",
            "  -0.6565945  -0.9312184   0.3838192   0.7509669  -0.38944238 -0.6622771\n",
            "  -0.5923741   0.38438752 -0.08453509  0.22664496 -0.78370494  0.65268314\n",
            "  -0.22443281  1.          0.19652624 -0.60498625 -0.9147558   0.28477883\n",
            "  -0.37369326  1.         -0.6368458  -0.96607196  0.3534517  -0.6537093\n",
            "  -0.71485966  0.49400303  0.0980468  -0.7638118  -0.96570957  0.804909\n",
            "   0.76420695 -0.50742227  0.67972845 -0.41718072 -0.5888046   0.33180735\n",
            "   0.9161611   0.9891087   0.5829085   0.7046951  -0.7214237  -0.23598677\n",
            "   0.95091605  0.3968625   0.07045251  0.34330443  1.          0.43542457\n",
            "  -0.8759201  -0.43534976 -0.9015316  -0.3626822  -0.89235675  0.35784814\n",
            "   0.39736584  0.8937394  -0.32483625  0.9666278  -0.80672354  0.09739362\n",
            "  -0.8212348  -0.5482099   0.5554728  -0.90978295 -0.98680735 -0.9915312\n",
            "   0.71585834 -0.2910499  -0.11618901  0.39128318  0.24945065  0.47280946\n",
            "   0.5820144  -1.          0.93473095  0.3809772   0.9016109   0.971473\n",
            "   0.8123591   0.73060095  0.4232524  -0.98815495 -0.93226224 -0.45340395\n",
            "  -0.4083225   0.5870817   0.70672524  0.78644276  0.6487402  -0.6313192\n",
            "  -0.26964465 -0.73958963 -0.91022813 -0.99435866  0.47713292 -0.70636004\n",
            "  -0.83575004  0.9525083  -0.00267381 -0.08592539 -0.23824243 -0.8861799\n",
            "   0.63511544  0.4194925   0.14751768  0.006876    0.45272163  0.92084587\n",
            "   0.7783958   0.9874522  -0.86145407  0.3401059  -0.86528295  0.47805518\n",
            "   0.86740154 -0.9211608   0.37775728  0.5354522  -0.60682523  0.42420635\n",
            "  -0.5293762  -0.88243294  0.73417914 -0.43490636  0.6221127  -0.28579873\n",
            "  -0.07309383 -0.40737772 -0.24504909 -0.47375587 -0.6580008   0.42944974\n",
            "   0.24444701  0.8577249   0.8190764  -0.07976006 -0.71136475 -0.4434039\n",
            "  -0.7104236  -0.8791955   0.5857629  -0.08793446 -0.01410306  0.7238036\n",
            "   0.07851004  0.8433032  -0.07387867 -0.5093811  -0.52531725 -0.6368914\n",
            "   0.59196645 -0.56104803 -0.68610066 -0.71993726  0.65067255  0.4323276\n",
            "   0.99999624 -0.7520945  -0.9365393  -0.40355602 -0.61560297  0.40633395\n",
            "  -0.3917251  -1.          0.46554384 -0.7353676   0.7109284  -0.82444775\n",
            "   0.80439705 -0.87096995 -0.9362396  -0.370087    0.7129281   0.8942378\n",
            "  -0.50872654 -0.8547968   0.29498166 -0.7917732   0.9803201   0.6782566\n",
            "  -0.3331021   0.30135468  0.47023734 -0.8266997  -0.6913247   0.80828446]], shape=(1, 768), dtype=float32)\n"
          ]
        }
      ]
    },
    {
      "cell_type": "markdown",
      "source": [
        "# Build model"
      ],
      "metadata": {
        "id": "T06BUvCuUuJ8"
      }
    },
    {
      "cell_type": "code",
      "source": [
        "# Bert layers\n",
        "text_input = tf.keras.layers.Input(shape=(), dtype=tf.string, name='text')\n",
        "preprocessed_text = bert_preprocess(text_input)\n",
        "outputs = bert_encoder(preprocessed_text)\n",
        "\n",
        "# Neural network layers\n",
        "l = tf.keras.layers.Dropout(0.1, name=\"dropout\")(outputs['pooled_output'])\n",
        "l = tf.keras.layers.Dense(1, activation='sigmoid', name=\"output\")(l)\n",
        "\n",
        "# Use inputs and outputs to construct a final model\n",
        "model = tf.keras.Model(inputs=[text_input], outputs = [l])"
      ],
      "metadata": {
        "id": "rMwxDdFPQCiQ"
      },
      "execution_count": 59,
      "outputs": []
    },
    {
      "cell_type": "code",
      "source": [
        "model.summary()"
      ],
      "metadata": {
        "colab": {
          "base_uri": "https://localhost:8080/"
        },
        "id": "gjGj4uV5U0j9",
        "outputId": "54ab8131-a47e-41ca-bb24-cce670e6d0d3"
      },
      "execution_count": 60,
      "outputs": [
        {
          "output_type": "stream",
          "name": "stdout",
          "text": [
            "Model: \"model\"\n",
            "__________________________________________________________________________________________________\n",
            " Layer (type)                   Output Shape         Param #     Connected to                     \n",
            "==================================================================================================\n",
            " text (InputLayer)              [(None,)]            0           []                               \n",
            "                                                                                                  \n",
            " keras_layer (KerasLayer)       {'input_word_ids':   0           ['text[0][0]']                   \n",
            "                                (None, 128),                                                      \n",
            "                                 'input_type_ids':                                                \n",
            "                                (None, 128),                                                      \n",
            "                                 'input_mask': (Non                                               \n",
            "                                e, 128)}                                                          \n",
            "                                                                                                  \n",
            " keras_layer_1 (KerasLayer)     {'sequence_output':  109482241   ['keras_layer[0][0]',            \n",
            "                                 (None, 128, 768),                'keras_layer[0][1]',            \n",
            "                                 'encoder_outputs':               'keras_layer[0][2]']            \n",
            "                                 [(None, 128, 768),                                               \n",
            "                                 (None, 128, 768),                                                \n",
            "                                 (None, 128, 768),                                                \n",
            "                                 (None, 128, 768),                                                \n",
            "                                 (None, 128, 768),                                                \n",
            "                                 (None, 128, 768),                                                \n",
            "                                 (None, 128, 768),                                                \n",
            "                                 (None, 128, 768),                                                \n",
            "                                 (None, 128, 768),                                                \n",
            "                                 (None, 128, 768),                                                \n",
            "                                 (None, 128, 768),                                                \n",
            "                                 (None, 128, 768)],                                               \n",
            "                                 'pooled_output': (                                               \n",
            "                                None, 768),                                                       \n",
            "                                 'default': (None,                                                \n",
            "                                768)}                                                             \n",
            "                                                                                                  \n",
            " dropout (Dropout)              (None, 768)          0           ['keras_layer_1[0][13]']         \n",
            "                                                                                                  \n",
            " output (Dense)                 (None, 1)            769         ['dropout[0][0]']                \n",
            "                                                                                                  \n",
            "==================================================================================================\n",
            "Total params: 109,483,010\n",
            "Trainable params: 769\n",
            "Non-trainable params: 109,482,241\n",
            "__________________________________________________________________________________________________\n"
          ]
        }
      ]
    },
    {
      "cell_type": "code",
      "source": [
        "METRICS = [\n",
        "      tf.keras.metrics.BinaryAccuracy(name='accuracy'),\n",
        "      tf.keras.metrics.Precision(name='precision'),\n",
        "      tf.keras.metrics.Recall(name='recall'),\n",
        "]\n",
        "\n",
        "model.compile(optimizer='adam',\n",
        "              loss='binary_crossentropy',\n",
        "              metrics=METRICS)"
      ],
      "metadata": {
        "id": "OXsa_dHHU1_n"
      },
      "execution_count": 61,
      "outputs": []
    },
    {
      "cell_type": "code",
      "source": [
        "model.fit(X_train, y_train, epochs=5)"
      ],
      "metadata": {
        "colab": {
          "base_uri": "https://localhost:8080/"
        },
        "id": "pljz8LROU6EQ",
        "outputId": "20e524f4-f3b0-4796-f725-53a1731d4f9f"
      },
      "execution_count": 63,
      "outputs": [
        {
          "output_type": "stream",
          "name": "stdout",
          "text": [
            "Epoch 1/5\n",
            "4688/4688 [==============================] - 992s 212ms/step - loss: 0.2164 - accuracy: 0.9171 - precision: 0.9092 - recall: 0.9266\n",
            "Epoch 2/5\n",
            "4688/4688 [==============================] - 990s 211ms/step - loss: 0.2075 - accuracy: 0.9203 - precision: 0.9131 - recall: 0.9290\n",
            "Epoch 3/5\n",
            "4688/4688 [==============================] - 989s 211ms/step - loss: 0.2031 - accuracy: 0.9217 - precision: 0.9154 - recall: 0.9293\n",
            "Epoch 4/5\n",
            "4688/4688 [==============================] - 985s 210ms/step - loss: 0.2033 - accuracy: 0.9212 - precision: 0.9148 - recall: 0.9289\n",
            "Epoch 5/5\n",
            "4688/4688 [==============================] - 984s 210ms/step - loss: 0.2007 - accuracy: 0.9233 - precision: 0.9166 - recall: 0.9314\n"
          ]
        },
        {
          "output_type": "execute_result",
          "data": {
            "text/plain": [
              "<keras.callbacks.History at 0x7fecc76d4b90>"
            ]
          },
          "metadata": {},
          "execution_count": 63
        }
      ]
    },
    {
      "cell_type": "code",
      "source": [
        "model.evaluate(X_test, y_test)"
      ],
      "metadata": {
        "colab": {
          "base_uri": "https://localhost:8080/"
        },
        "id": "43I8YDy9tFru",
        "outputId": "736f5069-b316-4a0e-c019-c90d05bdb525"
      },
      "execution_count": 64,
      "outputs": [
        {
          "output_type": "stream",
          "name": "stdout",
          "text": [
            "1563/1563 [==============================] - 332s 212ms/step - loss: 0.1691 - accuracy: 0.9363 - precision: 0.9402 - recall: 0.9319\n"
          ]
        },
        {
          "output_type": "execute_result",
          "data": {
            "text/plain": [
              "[0.16913430392742157,\n",
              " 0.9363200068473816,\n",
              " 0.9402292370796204,\n",
              " 0.931879997253418]"
            ]
          },
          "metadata": {},
          "execution_count": 64
        }
      ]
    },
    {
      "cell_type": "code",
      "source": [
        "y_predicted = model.predict(X_test)\n",
        "y_predicted = y_predicted.flatten()"
      ],
      "metadata": {
        "id": "bVrmb6LmtagI"
      },
      "execution_count": 65,
      "outputs": []
    },
    {
      "cell_type": "code",
      "source": [
        "import numpy as np\n",
        "\n",
        "y_predicted = np.where(y_predicted > 0.5, 1, 0)\n",
        "y_predicted"
      ],
      "metadata": {
        "colab": {
          "base_uri": "https://localhost:8080/"
        },
        "id": "nHmJQUuVta27",
        "outputId": "d03c7d06-c71c-46ac-e704-449abe24492a"
      },
      "execution_count": 66,
      "outputs": [
        {
          "output_type": "execute_result",
          "data": {
            "text/plain": [
              "array([0, 0, 0, ..., 1, 1, 1])"
            ]
          },
          "metadata": {},
          "execution_count": 66
        }
      ]
    },
    {
      "cell_type": "code",
      "source": [
        "from sklearn.metrics import confusion_matrix, classification_report\n",
        "\n",
        "cm = confusion_matrix(y_test, y_predicted)\n",
        "cm "
      ],
      "metadata": {
        "colab": {
          "base_uri": "https://localhost:8080/"
        },
        "id": "HoxJt4-stby7",
        "outputId": "81e153e4-e4a4-4e7c-f724-76710f1cc9ff"
      },
      "execution_count": 67,
      "outputs": [
        {
          "output_type": "execute_result",
          "data": {
            "text/plain": [
              "array([[23519,  1481],\n",
              "       [ 1703, 23297]])"
            ]
          },
          "metadata": {},
          "execution_count": 67
        }
      ]
    },
    {
      "cell_type": "code",
      "source": [
        "from matplotlib import pyplot as plt\n",
        "import seaborn as sn\n",
        "sn.heatmap(cm, annot=True, fmt='d')\n",
        "plt.xlabel('Predicted')\n",
        "plt.ylabel('Truth')"
      ],
      "metadata": {
        "colab": {
          "base_uri": "https://localhost:8080/",
          "height": 297
        },
        "id": "Wrzo6iHItcp7",
        "outputId": "96b8f046-77e0-4363-f4a2-b766aa7a5d25"
      },
      "execution_count": 68,
      "outputs": [
        {
          "output_type": "execute_result",
          "data": {
            "text/plain": [
              "Text(33.0, 0.5, 'Truth')"
            ]
          },
          "metadata": {},
          "execution_count": 68
        },
        {
          "output_type": "display_data",
          "data": {
            "text/plain": [
              "<Figure size 432x288 with 2 Axes>"
            ],
            "image/png": "[encoded data removed]"
          },
          "metadata": {
            "needs_background": "light"
          }
        }
      ]
    },
    {
      "cell_type": "code",
      "source": [
        "print(classification_report(y_test, y_predicted))"
      ],
      "metadata": {
        "colab": {
          "base_uri": "https://localhost:8080/"
        },
        "id": "h578m23Vtdt7",
        "outputId": "0feca777-0b85-4f0a-8c89-6122e1dae34c"
      },
      "execution_count": 69,
      "outputs": [
        {
          "output_type": "stream",
          "name": "stdout",
          "text": [
            "              precision    recall  f1-score   support\n",
            "\n",
            "           0       0.93      0.94      0.94     25000\n",
            "           1       0.94      0.93      0.94     25000\n",
            "\n",
            "    accuracy                           0.94     50000\n",
            "   macro avg       0.94      0.94      0.94     50000\n",
            "weighted avg       0.94      0.94      0.94     50000\n",
            "\n"
          ]
        }
      ]
    },
    {
      "cell_type": "markdown",
      "source": [
        "# Own test"
      ],
      "metadata": {
        "id": "LEO8LnVatlir"
      }
    },
    {
      "cell_type": "code",
      "source": [
        "jokes = [\n",
        "    'What’s the best thing about Switzerland? I don’t know, but the flag is a big plus.',\n",
        "    'I study Business Informatics at the University of Mannheim!',\n",
        "    'I invented a new word! Plagiarism!',\n",
        "    'Did you hear about the mathematician who’s afraid of negative numbers? He’ll stop at nothing to avoid them.',\n",
        "    'My name is Elias.'\n",
        "]\n",
        "model.predict(jokes)"
      ],
      "metadata": {
        "colab": {
          "base_uri": "https://localhost:8080/"
        },
        "id": "nHjckUgBtgHL",
        "outputId": "cb691bc1-6a84-456c-b134-dbd82f2134cc"
      },
      "execution_count": 70,
      "outputs": [
        {
          "output_type": "execute_result",
          "data": {
            "text/plain": [
              "array([[0.90076846],\n",
              "       [0.8320958 ],\n",
              "       [0.78852123],\n",
              "       [0.93628854],\n",
              "       [0.9870832 ]], dtype=float32)"
            ]
          },
          "metadata": {},
          "execution_count": 70
        }
      ]
    },
    {
      "cell_type": "code",
      "source": [
        ""
      ],
      "metadata": {
        "id": "ybRqB9cdt9uL"
      },
      "execution_count": null,
      "outputs": []
    }
  ]
}