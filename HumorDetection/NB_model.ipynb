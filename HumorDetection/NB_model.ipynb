{
 "cells": [
  {
   "cell_type": "code",
   "execution_count": 2,
   "id": "a7dd500e",
   "metadata": {},
   "outputs": [],
   "source": [
    "try:\n",
    "    from google.colab import drive\n",
    "    drive.mount('/content/drive/')\n",
    "    %cd '/content/drive/MyDrive/ColabNotebooks'\n",
    "\n",
    "    gpu_info = !nvidia-smi\n",
    "    gpu_info = '\\n'.join(gpu_info)\n",
    "    if gpu_info.find('failed') >= 0:\n",
    "      print('Not connected to a GPU')\n",
    "    else:\n",
    "      print(gpu_info)\n",
    "except ImportError as e:\n",
    "    pass"
   ]
  },
  {
   "cell_type": "code",
   "execution_count": 3,
   "id": "4d1781c6",
   "metadata": {},
   "outputs": [
    {
     "name": "stderr",
     "output_type": "stream",
     "text": [
      "c:\\Users\\Henry\\anaconda3\\lib\\site-packages\\sklearn\\preprocessing\\_label.py:115: DataConversionWarning: A column-vector y was passed when a 1d array was expected. Please change the shape of y to (n_samples, ), for example using ravel().\n",
      "  y = column_or_1d(y, warn=True)\n"
     ]
    },
    {
     "data": {
      "text/plain": [
       "array([\"Amanda lost 110 pounds: 'was it easy? no. was it worth it? yes!'\",\n",
       "       \"Why zoe saldana is cool buying her sons' clothes in the girls' section\",\n",
       "       'These 9 famous landmarks look absolutely stunning... until you zoom out',\n",
       "       'Recipe of the day: chicken sausage pot pie',\n",
       "       'Heavy fighting between isis and iraqi fighters near falluja',\n",
       "       \"What critics thought of 'jaws' when it was released 40 years ago\",\n",
       "       \"Woman's logic: bikini  no problem. bra and underwear:  omg don't look!!!\",\n",
       "       'Celebrate five years of experimental queer film with a lost riot grrrl gem',\n",
       "       'New season brings new challenges for this up-and-coming composer',\n",
       "       'Cooking off the cuff: maybe the best way to cook peas'],\n",
       "      dtype=object)"
      ]
     },
     "execution_count": 3,
     "metadata": {},
     "output_type": "execute_result"
    }
   ],
   "source": [
    "import pandas as pd\n",
    "from sklearn.preprocessing import LabelEncoder\n",
    "import numpy as np\n",
    "\n",
    "df = pd.read_csv('dataset.csv')\n",
    "\n",
    "df_target = df.copy().sample(n=10000)\n",
    "df_data =df_target\n",
    "df_target=df_target.drop(columns='text')\n",
    "label_encoder = LabelEncoder()\n",
    "df_target = label_encoder.fit_transform(df_target)\n",
    "\n",
    "#df_data = df.copy()\n",
    "df_data=df_data.drop(columns='humor')\n",
    "df_data= np.array(df_data['text'])\n",
    "\n",
    "df_data[:10]\n"
   ]
  },
  {
   "cell_type": "code",
   "execution_count": 4,
   "id": "85cea5d5",
   "metadata": {},
   "outputs": [],
   "source": [
    "import itertools\n",
    "import matplotlib.pyplot as plt\n",
    "\n",
    "\n",
    "#Confusion matrix to evaluate models\n",
    "def plot_confusion_matrix(cm, classes,\n",
    "                          normalize=False,\n",
    "                          title='Confusion matrix',\n",
    "                          cmap=plt.cm.Blues):\n",
    "    \"\"\"\n",
    "    This function prints and plots the confusion matrix.\n",
    "    Normalization can be applied by setting `normalize=True`.\n",
    "    \"\"\"\n",
    "    if normalize:\n",
    "        cm = cm.astype('float') / cm.sum(axis=1)[:, np.newaxis]\n",
    "\n",
    "    plt.imshow(cm, interpolation='nearest', cmap=cmap)\n",
    "    plt.title(title)\n",
    "    plt.colorbar()\n",
    "    tick_marks = np.arange(len(classes))\n",
    "    plt.xticks(tick_marks, classes, rotation=45)\n",
    "    plt.yticks(tick_marks, classes)\n",
    "\n",
    "    fmt = '.2f' if normalize else 'd'\n",
    "    thresh = cm.max() / 2.\n",
    "    for i, j in itertools.product(range(cm.shape[0]), range(cm.shape[1])):\n",
    "        plt.text(j, i, format(cm[i, j], fmt),\n",
    "                 horizontalalignment=\"center\",\n",
    "                 color=\"white\" if cm[i, j] > thresh else \"black\")\n",
    "\n",
    "    plt.ylabel('True label')\n",
    "    plt.xlabel('Predicted label')\n",
    "    plt.tight_layout()\n",
    "    plt.show()"
   ]
  },
  {
   "cell_type": "code",
   "execution_count": 23,
   "id": "2bdfd22c",
   "metadata": {},
   "outputs": [
    {
     "name": "stdout",
     "output_type": "stream",
     "text": [
      "{'transformer__max_features': 140, 'transformer__min_df': 0.0033, 'transformer__stop_words': 'english'}\n"
     ]
    },
    {
     "name": "stderr",
     "output_type": "stream",
     "text": [
      "c:\\Users\\Henry\\anaconda3\\lib\\site-packages\\sklearn\\model_selection\\_validation.py:372: FitFailedWarning: \n",
      "30 fits failed out of a total of 60.\n",
      "The score on these train-test partitions for these parameters will be set to nan.\n",
      "If these failures are not expected, you can try to debug them by setting error_score='raise'.\n",
      "\n",
      "Below are more details about the failures:\n",
      "--------------------------------------------------------------------------------\n",
      "30 fits failed with the following error:\n",
      "Traceback (most recent call last):\n",
      "  File \"c:\\Users\\Henry\\anaconda3\\lib\\site-packages\\sklearn\\model_selection\\_validation.py\", line 680, in _fit_and_score\n",
      "    estimator.fit(X_train, y_train, **fit_params)\n",
      "  File \"c:\\Users\\Henry\\anaconda3\\lib\\site-packages\\sklearn\\pipeline.py\", line 390, in fit\n",
      "    Xt = self._fit(X, y, **fit_params_steps)\n",
      "  File \"c:\\Users\\Henry\\anaconda3\\lib\\site-packages\\sklearn\\pipeline.py\", line 348, in _fit\n",
      "    X, fitted_transformer = fit_transform_one_cached(\n",
      "  File \"c:\\Users\\Henry\\anaconda3\\lib\\site-packages\\joblib\\memory.py\", line 349, in __call__\n",
      "    return self.func(*args, **kwargs)\n",
      "  File \"c:\\Users\\Henry\\anaconda3\\lib\\site-packages\\sklearn\\pipeline.py\", line 893, in _fit_transform_one\n",
      "    res = transformer.fit_transform(X, y, **fit_params)\n",
      "  File \"c:\\Users\\Henry\\anaconda3\\lib\\site-packages\\sklearn\\feature_extraction\\text.py\", line 2077, in fit_transform\n",
      "    X = super().fit_transform(raw_documents)\n",
      "  File \"c:\\Users\\Henry\\anaconda3\\lib\\site-packages\\sklearn\\feature_extraction\\text.py\", line 1330, in fit_transform\n",
      "    vocabulary, X = self._count_vocab(raw_documents, self.fixed_vocabulary_)\n",
      "  File \"c:\\Users\\Henry\\anaconda3\\lib\\site-packages\\sklearn\\feature_extraction\\text.py\", line 1193, in _count_vocab\n",
      "    analyze = self.build_analyzer()\n",
      "  File \"c:\\Users\\Henry\\anaconda3\\lib\\site-packages\\sklearn\\feature_extraction\\text.py\", line 446, in build_analyzer\n",
      "    stop_words = self.get_stop_words()\n",
      "  File \"c:\\Users\\Henry\\anaconda3\\lib\\site-packages\\sklearn\\feature_extraction\\text.py\", line 368, in get_stop_words\n",
      "    return _check_stop_list(self.stop_words)\n",
      "  File \"c:\\Users\\Henry\\anaconda3\\lib\\site-packages\\sklearn\\feature_extraction\\text.py\", line 188, in _check_stop_list\n",
      "    raise ValueError(\"not a built-in stop list: %s\" % stop)\n",
      "ValueError: not a built-in stop list: none\n",
      "\n",
      "  warnings.warn(some_fits_failed_message, FitFailedWarning)\n",
      "c:\\Users\\Henry\\anaconda3\\lib\\site-packages\\sklearn\\model_selection\\_search.py:969: UserWarning: One or more of the test scores are non-finite: [0.7194    nan 0.7183    nan 0.7183    nan 0.712     nan 0.7095    nan\n",
      " 0.7095    nan]\n",
      "  warnings.warn(\n"
     ]
    }
   ],
   "source": [
    "from sklearn.naive_bayes import GaussianNB\n",
    "from sklearn.pipeline import Pipeline\n",
    "from sklearn.model_selection import GridSearchCV\n",
    "from sklearn.model_selection import StratifiedKFold\n",
    "from sklearn.model_selection import cross_val_predict\n",
    "from sklearn.compose import ColumnTransformer\n",
    "from sklearn.feature_extraction.text import TfidfVectorizer\n",
    "from mlxtend.preprocessing import DenseTransformer\n",
    "import numpy as np\n",
    "\n",
    "# Create internal pipeline\n",
    "classifier = GaussianNB()\n",
    "tfidfVectorizer = TfidfVectorizer()\n",
    "\n",
    "#matrix = tfidfVectorizer.fit_transform(df_data['text'])\n",
    "\n",
    "#df_data_tfidfVectorized = pd.DataFrame(matrix.toarray(), columns=tfidfVectorizer.get_feature_names())\n",
    "\n",
    "\n",
    "pipeline = Pipeline(steps=[(\"transformer\", tfidfVectorizer),('to_dense', DenseTransformer()), (\"classification\", classifier)])\n",
    "\n",
    "\n",
    "\n",
    "# Specify the tunable hyper parameters\n",
    "parameters = {\n",
    "   'transformer__min_df': list(np.arange(0.0033, 0.0035, 0.0001)),\n",
    "   #'transformer__max_df' : list(np.arange(0.85, 0.99, 0.02)),\n",
    "   'transformer__max_features' : list(range(140, 160, 10)),\n",
    "   'transformer__stop_words' : ['english','none'] , \n",
    "}\n",
    "\n",
    "# Define KFold parameters\n",
    "cv = StratifiedKFold(n_splits=5, shuffle=True, random_state=42)\n",
    "estimator = GridSearchCV(pipeline, parameters, scoring=\"accuracy\", cv=cv, n_jobs=5)\n",
    "estimator.fit(df_data, df_target)\n",
    "\n",
    "print(estimator.best_params_)    "
   ]
  },
  {
   "cell_type": "code",
   "execution_count": 24,
   "id": "0c0be41f",
   "metadata": {},
   "outputs": [
    {
     "data": {
      "image/png": "[encoded data removed]",
      "text/plain": [
       "<Figure size 432x288 with 2 Axes>"
      ]
     },
     "metadata": {
      "needs_background": "light"
     },
     "output_type": "display_data"
    },
    {
     "name": "stdout",
     "output_type": "stream",
     "text": [
      "              precision    recall  f1-score   support\n",
      "\n",
      "           0       0.74      0.64      0.68      4941\n",
      "           1       0.69      0.78      0.73      5059\n",
      "\n",
      "    accuracy                           0.71     10000\n",
      "   macro avg       0.71      0.71      0.71     10000\n",
      "weighted avg       0.71      0.71      0.71     10000\n",
      "\n"
     ]
    }
   ],
   "source": [
    "\n",
    "from sklearn.metrics import classification_report, accuracy_score, confusion_matrix\n",
    "from sklearn.utils.multiclass import unique_labels\n",
    "\n",
    "#estimator.set_params(**estimator.best_params_)\n",
    "prediction = cross_val_predict(estimator, df_data, df_target, cv=cv, n_jobs=-1)\n",
    "cm = confusion_matrix(df_target, prediction)\n",
    "plot_confusion_matrix(cm, classes=unique_labels(df_target))\n",
    "print(classification_report(df_target, prediction))\n",
    "plt.show()    "
   ]
  }
 ],
 "metadata": {
  "interpreter": {
   "hash": "81cdc1f603c531e315611687e7017b82f1a63eb722700c5abd5d378c82d30cc5"
  },
  "kernelspec": {
   "display_name": "Python 3.9.7 ('base')",
   "language": "python",
   "name": "python3"
  },
  "language_info": {
   "codemirror_mode": {
    "name": "ipython",
    "version": 3
   },
   "file_extension": ".py",
   "mimetype": "text/x-python",
   "name": "python",
   "nbconvert_exporter": "python",
   "pygments_lexer": "ipython3",
   "version": "3.9.7"
  }
 },
 "nbformat": 4,
 "nbformat_minor": 5
}
