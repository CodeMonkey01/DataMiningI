{
  "cells": [
    {
      "cell_type": "code",
      "source": [
        "try:\n",
        "    from google.colab import drive\n",
        "    drive.mount('/content/drive/')\n",
        "    %cd '/content/drive/MyDrive/'\n",
        "\n",
        "    gpu_info = !nvidia-smi\n",
        "    gpu_info = '\\n'.join(gpu_info)\n",
        "    if gpu_info.find('failed') >= 0:\n",
        "      print('Not connected to a GPU')\n",
        "    else:\n",
        "      print(gpu_info)\n",
        "except ImportError as e:\n",
        "    pass"
      ],
      "metadata": {
        "id": "X8WMoIxa258t",
        "outputId": "76b2fd96-3a27-44f3-92aa-07c1363d5e9d",
        "colab": {
          "base_uri": "https://localhost:8080/"
        }
      },
      "execution_count": 1,
      "outputs": [
        {
          "output_type": "stream",
          "name": "stdout",
          "text": [
            "Mounted at /content/drive/\n",
            "/content/drive/MyDrive\n",
            "Thu May 12 20:01:48 2022       \n",
            "+-----------------------------------------------------------------------------+\n",
            "| NVIDIA-SMI 460.32.03    Driver Version: 460.32.03    CUDA Version: 11.2     |\n",
            "|-------------------------------+----------------------+----------------------+\n",
            "| GPU  Name        Persistence-M| Bus-Id        Disp.A | Volatile Uncorr. ECC |\n",
            "| Fan  Temp  Perf  Pwr:Usage/Cap|         Memory-Usage | GPU-Util  Compute M. |\n",
            "|                               |                      |               MIG M. |\n",
            "|===============================+======================+======================|\n",
            "|   0  Tesla P100-PCIE...  Off  | 00000000:00:04.0 Off |                    0 |\n",
            "| N/A   36C    P0    26W / 250W |      0MiB / 16280MiB |      0%      Default |\n",
            "|                               |                      |                  N/A |\n",
            "+-------------------------------+----------------------+----------------------+\n",
            "                                                                               \n",
            "+-----------------------------------------------------------------------------+\n",
            "| Processes:                                                                  |\n",
            "|  GPU   GI   CI        PID   Type   Process name                  GPU Memory |\n",
            "|        ID   ID                                                   Usage      |\n",
            "|=============================================================================|\n",
            "|  No running processes found                                                 |\n",
            "+-----------------------------------------------------------------------------+\n"
          ]
        }
      ]
    },
    {
      "cell_type": "code",
      "execution_count": 2,
      "outputs": [
        {
          "output_type": "execute_result",
          "data": {
            "text/plain": [
              "0    False\n",
              "1    False\n",
              "2     True\n",
              "3    False\n",
              "4    False\n",
              "Name: humor, dtype: bool"
            ]
          },
          "metadata": {},
          "execution_count": 2
        }
      ],
      "source": [
        "import pandas as pd\n",
        "from sklearn.preprocessing import LabelEncoder\n",
        "import tensorflow as tf\n",
        "\n",
        "df = pd.read_csv('/content/drive/MyDrive/Data Mining/dataset.txt')\n",
        "\n",
        "df_target = df['humor']\n",
        "df_data = df.copy()\n",
        "df_data.drop(columns='humor')\n",
        "\n",
        "df_target.head()"
      ],
      "metadata": {
        "pycharm": {
          "name": "#%%\n"
        },
        "id": "ILMOLt3z24yq",
        "outputId": "5484f75f-769d-48f3-c80c-883510ccecc7",
        "colab": {
          "base_uri": "https://localhost:8080/"
        }
      }
    },
    {
      "cell_type": "code",
      "execution_count": 3,
      "outputs": [
        {
          "output_type": "execute_result",
          "data": {
            "text/plain": [
              "array([0, 0, 1, ..., 1, 0, 1])"
            ]
          },
          "metadata": {},
          "execution_count": 3
        }
      ],
      "source": [
        "from sklearn import preprocessing\n",
        "\n",
        "#encode target to numeric\n",
        "label_encoder = preprocessing.LabelEncoder()\n",
        "df_target = label_encoder.fit_transform(df_target)\n",
        "df_target"
      ],
      "metadata": {
        "pycharm": {
          "name": "#%%\n"
        },
        "id": "JsSvN3bb24yr",
        "outputId": "5209ba79-38e2-4af0-a89d-37b177221ceb",
        "colab": {
          "base_uri": "https://localhost:8080/"
        }
      }
    },
    {
      "cell_type": "code",
      "execution_count": 4,
      "outputs": [],
      "source": [
        "words=20000\n",
        "max_length=1000"
      ],
      "metadata": {
        "pycharm": {
          "name": "#%%\n"
        },
        "id": "BGZdopL824ys"
      }
    },
    {
      "cell_type": "code",
      "execution_count": 5,
      "outputs": [],
      "source": [
        "from sklearn.feature_extraction.text import CountVectorizer\n",
        "\n",
        "#Apply CountVectorizer on text column\n",
        "\n",
        "#vectorizer = CountVectorizer(binary=True)\n",
        "\n",
        "#If this vectorizer is used, a word which occurs multiple times is counted and not just displayed as 1 = word occurs\n",
        "cVectorizer = CountVectorizer(binary=False, max_features=1000) #  restrict feature size --> may need to play around\n",
        "\n",
        "#At the moment I am not able to apply the vectorizer on the whole dataset. To many records & less available RAM\n",
        "matrix = cVectorizer.fit_transform(df_data['text']).toarray()"
      ],
      "metadata": {
        "pycharm": {
          "name": "#%%\n"
        },
        "id": "jECMDBXu24ys"
      }
    },
    {
      "cell_type": "code",
      "execution_count": 6,
      "outputs": [],
      "source": [
        "from sklearn.model_selection import train_test_split\n",
        "\n",
        "df_data_train, df_data_test, df_target_train, df_target_test = train_test_split(\n",
        "    matrix, df_target, test_size=0.2, random_state=42)"
      ],
      "metadata": {
        "pycharm": {
          "name": "#%%\n"
        },
        "id": "luNx5V_t24yt"
      }
    },
    {
      "cell_type": "code",
      "execution_count": 7,
      "outputs": [],
      "source": [
        "word_size=words\n",
        "word_size\n",
        "\n",
        "embed_size=128"
      ],
      "metadata": {
        "pycharm": {
          "name": "#%%\n"
        },
        "id": "43oBaA5D24yt"
      }
    },
    {
      "cell_type": "code",
      "execution_count": 8,
      "outputs": [],
      "source": [
        "model=tf.keras.Sequential()\n",
        "\n",
        "# Embedding Layer\n",
        "model.add(tf.keras.layers.Embedding(word_size, embed_size, input_shape=(df_data_train.shape[1],)))\n",
        "\n",
        "# LSTM Layer\n",
        "model.add(tf.keras.layers.LSTM(units=128, activation='tanh'))\n",
        "\n",
        "# Output Layer\n",
        "model.add(tf.keras.layers.Dense(units=1, activation='sigmoid'))"
      ],
      "metadata": {
        "pycharm": {
          "name": "#%%\n"
        },
        "id": "_dQEpwDn24yu"
      }
    },
    {
      "cell_type": "code",
      "execution_count": 9,
      "outputs": [
        {
          "output_type": "execute_result",
          "data": {
            "text/plain": [
              "numpy.ndarray"
            ]
          },
          "metadata": {},
          "execution_count": 9
        }
      ],
      "source": [
        "type(df_data_test)"
      ],
      "metadata": {
        "pycharm": {
          "name": "#%%\n"
        },
        "id": "xxfcB_nv24yu",
        "outputId": "30f90838-6278-4ce0-a31f-1def36cb92cf",
        "colab": {
          "base_uri": "https://localhost:8080/"
        }
      }
    },
    {
      "cell_type": "code",
      "execution_count": 10,
      "outputs": [
        {
          "output_type": "stream",
          "name": "stdout",
          "text": [
            "Model: \"sequential\"\n",
            "_________________________________________________________________\n",
            " Layer (type)                Output Shape              Param #   \n",
            "=================================================================\n",
            " embedding (Embedding)       (None, 1000, 128)         2560000   \n",
            "                                                                 \n",
            " lstm (LSTM)                 (None, 128)               131584    \n",
            "                                                                 \n",
            " dense (Dense)               (None, 1)                 129       \n",
            "                                                                 \n",
            "=================================================================\n",
            "Total params: 2,691,713\n",
            "Trainable params: 2,691,713\n",
            "Non-trainable params: 0\n",
            "_________________________________________________________________\n"
          ]
        }
      ],
      "source": [
        "model.summary()"
      ],
      "metadata": {
        "pycharm": {
          "name": "#%%\n"
        },
        "id": "DqvRrUED24yv",
        "outputId": "23320e65-252e-41ea-b8af-3b6f843705eb",
        "colab": {
          "base_uri": "https://localhost:8080/"
        }
      }
    },
    {
      "cell_type": "code",
      "execution_count": 11,
      "outputs": [],
      "source": [
        "model.compile(optimizer='rmsprop', loss='binary_crossentropy', metrics=['accuracy'])"
      ],
      "metadata": {
        "pycharm": {
          "name": "#%%\n"
        },
        "id": "ULaW5zg124yv"
      }
    },
    {
      "cell_type": "code",
      "execution_count": 12,
      "outputs": [
        {
          "output_type": "stream",
          "name": "stdout",
          "text": [
            "Epoch 1/5\n",
            "313/313 [==============================] - 57s 162ms/step - loss: 0.6631 - accuracy: 0.6085\n",
            "Epoch 2/5\n",
            "313/313 [==============================] - 51s 162ms/step - loss: 0.5964 - accuracy: 0.6912\n",
            "Epoch 3/5\n",
            "313/313 [==============================] - 51s 162ms/step - loss: 0.5675 - accuracy: 0.7227\n",
            "Epoch 4/5\n",
            "313/313 [==============================] - 51s 162ms/step - loss: 0.5591 - accuracy: 0.7255\n",
            "Epoch 5/5\n",
            "313/313 [==============================] - 51s 163ms/step - loss: 0.5492 - accuracy: 0.7295\n"
          ]
        },
        {
          "output_type": "execute_result",
          "data": {
            "text/plain": [
              "<keras.callbacks.History at 0x7f8c17776950>"
            ]
          },
          "metadata": {},
          "execution_count": 12
        }
      ],
      "source": [
        "\"\"\"#### Training the model\"\"\"\n",
        "\n",
        "model.fit(df_data_train, df_target_train, epochs=5, batch_size=512)"
      ],
      "metadata": {
        "pycharm": {
          "name": "#%%\n"
        },
        "id": "Pw1k4Ukz24yw",
        "outputId": "a0a9f3cb-333b-4e7d-d7bf-7b6309f3dde9",
        "colab": {
          "base_uri": "https://localhost:8080/"
        }
      }
    },
    {
      "cell_type": "code",
      "execution_count": 14,
      "outputs": [
        {
          "output_type": "stream",
          "name": "stdout",
          "text": [
            "1250/1250 [==============================] - 24s 18ms/step - loss: 0.5376 - accuracy: 0.7338\n",
            "Test accuracy: 0.7337750196456909\n"
          ]
        }
      ],
      "source": [
        "test_loss, test_acurracy = model.evaluate(df_data_test, df_target_test)\n",
        "\n",
        "print(\"Test accuracy: {}\".format(test_acurracy))"
      ],
      "metadata": {
        "pycharm": {
          "name": "#%%\n"
        },
        "id": "D1rp1_qk24yw",
        "outputId": "e203b518-75e6-4bf2-9bda-66eae9b2ff3b",
        "colab": {
          "base_uri": "https://localhost:8080/"
        }
      }
    },
    {
      "cell_type": "code",
      "source": [
        ""
      ],
      "metadata": {
        "id": "wtgklh8p3LK_"
      },
      "execution_count": null,
      "outputs": []
    }
  ],
  "metadata": {
    "kernelspec": {
      "display_name": "Python 3",
      "language": "python",
      "name": "python3"
    },
    "language_info": {
      "codemirror_mode": {
        "name": "ipython",
        "version": 2
      },
      "file_extension": ".py",
      "mimetype": "text/x-python",
      "name": "python",
      "nbconvert_exporter": "python",
      "pygments_lexer": "ipython2",
      "version": "2.7.6"
    },
    "colab": {
      "name": "ANN.ipynb",
      "provenance": [],
      "machine_shape": "hm"
    },
    "accelerator": "GPU"
  },
  "nbformat": 4,
  "nbformat_minor": 0
}